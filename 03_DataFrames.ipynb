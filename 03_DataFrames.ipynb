{
  "nbformat": 4,
  "nbformat_minor": 0,
  "metadata": {
    "colab": {
      "name": "03-DataFrames.ipynb",
      "version": "0.3.2",
      "provenance": [],
      "collapsed_sections": [],
      "include_colab_link": true
    },
    "language_info": {
      "codemirror_mode": {
        "name": "ipython",
        "version": 3
      },
      "file_extension": ".py",
      "mimetype": "text/x-python",
      "name": "python",
      "nbconvert_exporter": "python",
      "pygments_lexer": "ipython3",
      "version": "3.5.1"
    },
    "kernelspec": {
      "display_name": "Python 3",
      "language": "python",
      "name": "python3"
    }
  },
  "cells": [
    {
      "cell_type": "markdown",
      "metadata": {
        "id": "view-in-github",
        "colab_type": "text"
      },
      "source": [
        "<a href=\"https://colab.research.google.com/github/Sillians/2016-pydata-carolinas-pandas/blob/master/03_DataFrames.ipynb\" target=\"_parent\"><img src=\"https://colab.research.google.com/assets/colab-badge.svg\" alt=\"Open In Colab\"/></a>"
      ]
    },
    {
      "cell_type": "markdown",
      "metadata": {
        "id": "e5PIz632pmaa",
        "colab_type": "text"
      },
      "source": [
        "___\n",
        "\n",
        "<a href='http://www.pieriandata.com'> <img src='../Pierian_Data_Logo.png' /></a>\n",
        "___"
      ]
    },
    {
      "cell_type": "markdown",
      "metadata": {
        "collapsed": true,
        "id": "Eb3Ezr5Upmac",
        "colab_type": "text"
      },
      "source": [
        "# DataFrames\n",
        "\n",
        "DataFrames are the workhorse of pandas and are directly inspired by the R programming language. We can think of a DataFrame as a bunch of Series objects put together to share the same index. Let's use pandas to explore this topic!"
      ]
    },
    {
      "cell_type": "code",
      "metadata": {
        "id": "_ER-WzDupmae",
        "colab_type": "code",
        "colab": {}
      },
      "source": [
        "import pandas as pd\n",
        "import numpy as np"
      ],
      "execution_count": 0,
      "outputs": []
    },
    {
      "cell_type": "code",
      "metadata": {
        "id": "m71Vtem0pmal",
        "colab_type": "code",
        "colab": {}
      },
      "source": [
        "from numpy.random import randn\n",
        "np.random.seed(101)"
      ],
      "execution_count": 0,
      "outputs": []
    },
    {
      "cell_type": "code",
      "metadata": {
        "id": "tVkKCLtqpmao",
        "colab_type": "code",
        "colab": {}
      },
      "source": [
        "df = pd.DataFrame(randn(5,4),index='A B C D E'.split(),columns='W X Y Z'.split())"
      ],
      "execution_count": 0,
      "outputs": []
    },
    {
      "cell_type": "code",
      "metadata": {
        "id": "j6gg7CRNpmas",
        "colab_type": "code",
        "colab": {
          "base_uri": "https://localhost:8080/",
          "height": 204
        },
        "outputId": "efcd7a9c-0be4-4465-9bbb-08ff64e6aeeb"
      },
      "source": [
        "df"
      ],
      "execution_count": 6,
      "outputs": [
        {
          "output_type": "execute_result",
          "data": {
            "text/html": [
              "<div>\n",
              "<style scoped>\n",
              "    .dataframe tbody tr th:only-of-type {\n",
              "        vertical-align: middle;\n",
              "    }\n",
              "\n",
              "    .dataframe tbody tr th {\n",
              "        vertical-align: top;\n",
              "    }\n",
              "\n",
              "    .dataframe thead th {\n",
              "        text-align: right;\n",
              "    }\n",
              "</style>\n",
              "<table border=\"1\" class=\"dataframe\">\n",
              "  <thead>\n",
              "    <tr style=\"text-align: right;\">\n",
              "      <th></th>\n",
              "      <th>W</th>\n",
              "      <th>X</th>\n",
              "      <th>Y</th>\n",
              "      <th>Z</th>\n",
              "    </tr>\n",
              "  </thead>\n",
              "  <tbody>\n",
              "    <tr>\n",
              "      <th>A</th>\n",
              "      <td>2.706850</td>\n",
              "      <td>0.628133</td>\n",
              "      <td>0.907969</td>\n",
              "      <td>0.503826</td>\n",
              "    </tr>\n",
              "    <tr>\n",
              "      <th>B</th>\n",
              "      <td>0.651118</td>\n",
              "      <td>-0.319318</td>\n",
              "      <td>-0.848077</td>\n",
              "      <td>0.605965</td>\n",
              "    </tr>\n",
              "    <tr>\n",
              "      <th>C</th>\n",
              "      <td>-2.018168</td>\n",
              "      <td>0.740122</td>\n",
              "      <td>0.528813</td>\n",
              "      <td>-0.589001</td>\n",
              "    </tr>\n",
              "    <tr>\n",
              "      <th>D</th>\n",
              "      <td>0.188695</td>\n",
              "      <td>-0.758872</td>\n",
              "      <td>-0.933237</td>\n",
              "      <td>0.955057</td>\n",
              "    </tr>\n",
              "    <tr>\n",
              "      <th>E</th>\n",
              "      <td>0.190794</td>\n",
              "      <td>1.978757</td>\n",
              "      <td>2.605967</td>\n",
              "      <td>0.683509</td>\n",
              "    </tr>\n",
              "  </tbody>\n",
              "</table>\n",
              "</div>"
            ],
            "text/plain": [
              "          W         X         Y         Z\n",
              "A  2.706850  0.628133  0.907969  0.503826\n",
              "B  0.651118 -0.319318 -0.848077  0.605965\n",
              "C -2.018168  0.740122  0.528813 -0.589001\n",
              "D  0.188695 -0.758872 -0.933237  0.955057\n",
              "E  0.190794  1.978757  2.605967  0.683509"
            ]
          },
          "metadata": {
            "tags": []
          },
          "execution_count": 6
        }
      ]
    },
    {
      "cell_type": "code",
      "metadata": {
        "id": "d_fj2jJNwNCC",
        "colab_type": "code",
        "colab": {
          "base_uri": "https://localhost:8080/",
          "height": 34
        },
        "outputId": "e668dfee-16a2-467d-c802-96a3f4f8e22c"
      },
      "source": [
        "np.random.seed(); np.random.rand(5) #If you want seemingly random numbers, do not set the seed"
      ],
      "execution_count": 7,
      "outputs": [
        {
          "output_type": "execute_result",
          "data": {
            "text/plain": [
              "array([0.23645844, 0.064073  , 0.63673763, 0.6839255 , 0.37069707])"
            ]
          },
          "metadata": {
            "tags": []
          },
          "execution_count": 7
        }
      ]
    },
    {
      "cell_type": "code",
      "metadata": {
        "id": "AlSRhcs7xrfi",
        "colab_type": "code",
        "colab": {
          "base_uri": "https://localhost:8080/",
          "height": 51
        },
        "outputId": "a721c23d-0dca-4ab8-89f0-ad42f35df9b0"
      },
      "source": [
        "np.random.seed(55); np .random.rand(10) #If you have code that uses random number you want to debug, you can set the seed before each run, so that the code \n",
        "                                        # does the same thing everytime you run it."
      ],
      "execution_count": 8,
      "outputs": [
        {
          "output_type": "execute_result",
          "data": {
            "text/plain": [
              "array([0.09310829, 0.97165592, 0.48385998, 0.2425227 , 0.53112383,\n",
              "       0.28554424, 0.86263038, 0.04110015, 0.10834773, 0.76716005])"
            ]
          },
          "metadata": {
            "tags": []
          },
          "execution_count": 8
        }
      ]
    },
    {
      "cell_type": "code",
      "metadata": {
        "id": "YnMgwebhykSq",
        "colab_type": "code",
        "colab": {}
      },
      "source": [
        "np.random.seed()\n",
        "perm = np.random.permutation(15)"
      ],
      "execution_count": 0,
      "outputs": []
    },
    {
      "cell_type": "code",
      "metadata": {
        "id": "yyVIkov7zD0V",
        "colab_type": "code",
        "colab": {
          "base_uri": "https://localhost:8080/",
          "height": 34
        },
        "outputId": "ff31b835-11ae-44a8-b4c3-96d5ac46b31b"
      },
      "source": [
        "perm"
      ],
      "execution_count": 10,
      "outputs": [
        {
          "output_type": "execute_result",
          "data": {
            "text/plain": [
              "array([ 3,  9,  0,  1, 14, 12, 11, 10,  2, 13,  4,  5,  6,  7,  8])"
            ]
          },
          "metadata": {
            "tags": []
          },
          "execution_count": 10
        }
      ]
    },
    {
      "cell_type": "code",
      "metadata": {
        "id": "PQX3JsWPy6Al",
        "colab_type": "code",
        "colab": {}
      },
      "source": [
        "np.random.seed(101)\n",
        "pem = np.random.permutation(5)"
      ],
      "execution_count": 0,
      "outputs": []
    },
    {
      "cell_type": "code",
      "metadata": {
        "id": "21GxvCd6zUK8",
        "colab_type": "code",
        "colab": {
          "base_uri": "https://localhost:8080/",
          "height": 34
        },
        "outputId": "556c71aa-212a-49b4-853d-c6e4b671d5db"
      },
      "source": [
        "pem"
      ],
      "execution_count": 12,
      "outputs": [
        {
          "output_type": "execute_result",
          "data": {
            "text/plain": [
              "array([0, 4, 2, 1, 3])"
            ]
          },
          "metadata": {
            "tags": []
          },
          "execution_count": 12
        }
      ]
    },
    {
      "cell_type": "code",
      "metadata": {
        "id": "5TpMin1qzhwH",
        "colab_type": "code",
        "colab": {}
      },
      "source": [
        "np.random.seed(2)"
      ],
      "execution_count": 0,
      "outputs": []
    },
    {
      "cell_type": "code",
      "metadata": {
        "id": "6_rSUFpBzqcZ",
        "colab_type": "code",
        "colab": {
          "base_uri": "https://localhost:8080/",
          "height": 514
        },
        "outputId": "5b4de732-df2c-46f7-f864-e8c2f320db43"
      },
      "source": [
        "df1 = pd.DataFrame(randn(15,8), index='A B C D E F G H I J K L M N O'.split(), columns='Season Brand Description Name Boot Off-White Turfah Louboutin'.split())\n",
        "df1"
      ],
      "execution_count": 14,
      "outputs": [
        {
          "output_type": "execute_result",
          "data": {
            "text/html": [
              "<div>\n",
              "<style scoped>\n",
              "    .dataframe tbody tr th:only-of-type {\n",
              "        vertical-align: middle;\n",
              "    }\n",
              "\n",
              "    .dataframe tbody tr th {\n",
              "        vertical-align: top;\n",
              "    }\n",
              "\n",
              "    .dataframe thead th {\n",
              "        text-align: right;\n",
              "    }\n",
              "</style>\n",
              "<table border=\"1\" class=\"dataframe\">\n",
              "  <thead>\n",
              "    <tr style=\"text-align: right;\">\n",
              "      <th></th>\n",
              "      <th>Season</th>\n",
              "      <th>Brand</th>\n",
              "      <th>Description</th>\n",
              "      <th>Name</th>\n",
              "      <th>Boot</th>\n",
              "      <th>Off-White</th>\n",
              "      <th>Turfah</th>\n",
              "      <th>Louboutin</th>\n",
              "    </tr>\n",
              "  </thead>\n",
              "  <tbody>\n",
              "    <tr>\n",
              "      <th>A</th>\n",
              "      <td>-0.416758</td>\n",
              "      <td>-0.056267</td>\n",
              "      <td>-2.136196</td>\n",
              "      <td>1.640271</td>\n",
              "      <td>-1.793436</td>\n",
              "      <td>-0.841747</td>\n",
              "      <td>0.502881</td>\n",
              "      <td>-1.245288</td>\n",
              "    </tr>\n",
              "    <tr>\n",
              "      <th>B</th>\n",
              "      <td>-1.057952</td>\n",
              "      <td>-0.909008</td>\n",
              "      <td>0.551454</td>\n",
              "      <td>2.292208</td>\n",
              "      <td>0.041539</td>\n",
              "      <td>-1.117925</td>\n",
              "      <td>0.539058</td>\n",
              "      <td>-0.596160</td>\n",
              "    </tr>\n",
              "    <tr>\n",
              "      <th>C</th>\n",
              "      <td>-0.019130</td>\n",
              "      <td>1.175001</td>\n",
              "      <td>-0.747871</td>\n",
              "      <td>0.009025</td>\n",
              "      <td>-0.878108</td>\n",
              "      <td>-0.156434</td>\n",
              "      <td>0.256570</td>\n",
              "      <td>-0.988779</td>\n",
              "    </tr>\n",
              "    <tr>\n",
              "      <th>D</th>\n",
              "      <td>-0.338822</td>\n",
              "      <td>-0.236184</td>\n",
              "      <td>-0.637655</td>\n",
              "      <td>-1.187612</td>\n",
              "      <td>-1.421217</td>\n",
              "      <td>-0.153495</td>\n",
              "      <td>-0.269057</td>\n",
              "      <td>2.231367</td>\n",
              "    </tr>\n",
              "    <tr>\n",
              "      <th>E</th>\n",
              "      <td>-2.434768</td>\n",
              "      <td>0.112727</td>\n",
              "      <td>0.370445</td>\n",
              "      <td>1.359634</td>\n",
              "      <td>0.501857</td>\n",
              "      <td>-0.844214</td>\n",
              "      <td>0.000010</td>\n",
              "      <td>0.542353</td>\n",
              "    </tr>\n",
              "    <tr>\n",
              "      <th>F</th>\n",
              "      <td>-0.313508</td>\n",
              "      <td>0.771012</td>\n",
              "      <td>-1.868091</td>\n",
              "      <td>1.731185</td>\n",
              "      <td>1.467678</td>\n",
              "      <td>-0.335677</td>\n",
              "      <td>0.611341</td>\n",
              "      <td>0.047971</td>\n",
              "    </tr>\n",
              "    <tr>\n",
              "      <th>G</th>\n",
              "      <td>-0.829135</td>\n",
              "      <td>0.087710</td>\n",
              "      <td>1.000366</td>\n",
              "      <td>-0.381093</td>\n",
              "      <td>-0.375669</td>\n",
              "      <td>-0.074471</td>\n",
              "      <td>0.433496</td>\n",
              "      <td>1.278379</td>\n",
              "    </tr>\n",
              "    <tr>\n",
              "      <th>H</th>\n",
              "      <td>-0.634679</td>\n",
              "      <td>0.508396</td>\n",
              "      <td>0.216116</td>\n",
              "      <td>-1.858612</td>\n",
              "      <td>-0.419316</td>\n",
              "      <td>-0.132329</td>\n",
              "      <td>-0.039570</td>\n",
              "      <td>0.326003</td>\n",
              "    </tr>\n",
              "    <tr>\n",
              "      <th>I</th>\n",
              "      <td>-2.040323</td>\n",
              "      <td>0.046256</td>\n",
              "      <td>-0.677676</td>\n",
              "      <td>-1.439439</td>\n",
              "      <td>0.524296</td>\n",
              "      <td>0.735280</td>\n",
              "      <td>-0.653250</td>\n",
              "      <td>0.842456</td>\n",
              "    </tr>\n",
              "    <tr>\n",
              "      <th>J</th>\n",
              "      <td>-0.381516</td>\n",
              "      <td>0.066489</td>\n",
              "      <td>-1.098739</td>\n",
              "      <td>1.584487</td>\n",
              "      <td>-2.659449</td>\n",
              "      <td>-0.091453</td>\n",
              "      <td>0.695120</td>\n",
              "      <td>-2.033467</td>\n",
              "    </tr>\n",
              "    <tr>\n",
              "      <th>K</th>\n",
              "      <td>-0.189469</td>\n",
              "      <td>-0.077219</td>\n",
              "      <td>0.824703</td>\n",
              "      <td>1.248213</td>\n",
              "      <td>-0.403892</td>\n",
              "      <td>-1.384519</td>\n",
              "      <td>1.367235</td>\n",
              "      <td>1.217886</td>\n",
              "    </tr>\n",
              "    <tr>\n",
              "      <th>L</th>\n",
              "      <td>-0.462005</td>\n",
              "      <td>0.350888</td>\n",
              "      <td>0.381866</td>\n",
              "      <td>0.566275</td>\n",
              "      <td>0.204208</td>\n",
              "      <td>1.406696</td>\n",
              "      <td>-1.737960</td>\n",
              "      <td>1.040824</td>\n",
              "    </tr>\n",
              "    <tr>\n",
              "      <th>M</th>\n",
              "      <td>0.380472</td>\n",
              "      <td>-0.217135</td>\n",
              "      <td>1.173531</td>\n",
              "      <td>-2.343603</td>\n",
              "      <td>1.161521</td>\n",
              "      <td>0.386078</td>\n",
              "      <td>-1.133133</td>\n",
              "      <td>0.433093</td>\n",
              "    </tr>\n",
              "    <tr>\n",
              "      <th>N</th>\n",
              "      <td>-0.304086</td>\n",
              "      <td>2.585295</td>\n",
              "      <td>1.835333</td>\n",
              "      <td>0.440690</td>\n",
              "      <td>-0.719254</td>\n",
              "      <td>-0.583415</td>\n",
              "      <td>-0.325050</td>\n",
              "      <td>-0.560235</td>\n",
              "    </tr>\n",
              "    <tr>\n",
              "      <th>O</th>\n",
              "      <td>-0.902246</td>\n",
              "      <td>-0.590972</td>\n",
              "      <td>-0.276179</td>\n",
              "      <td>-0.516884</td>\n",
              "      <td>-0.698590</td>\n",
              "      <td>-0.928892</td>\n",
              "      <td>2.550438</td>\n",
              "      <td>-1.473173</td>\n",
              "    </tr>\n",
              "  </tbody>\n",
              "</table>\n",
              "</div>"
            ],
            "text/plain": [
              "     Season     Brand  Description      Name      Boot  Off-White    Turfah  \\\n",
              "A -0.416758 -0.056267    -2.136196  1.640271 -1.793436  -0.841747  0.502881   \n",
              "B -1.057952 -0.909008     0.551454  2.292208  0.041539  -1.117925  0.539058   \n",
              "C -0.019130  1.175001    -0.747871  0.009025 -0.878108  -0.156434  0.256570   \n",
              "D -0.338822 -0.236184    -0.637655 -1.187612 -1.421217  -0.153495 -0.269057   \n",
              "E -2.434768  0.112727     0.370445  1.359634  0.501857  -0.844214  0.000010   \n",
              "F -0.313508  0.771012    -1.868091  1.731185  1.467678  -0.335677  0.611341   \n",
              "G -0.829135  0.087710     1.000366 -0.381093 -0.375669  -0.074471  0.433496   \n",
              "H -0.634679  0.508396     0.216116 -1.858612 -0.419316  -0.132329 -0.039570   \n",
              "I -2.040323  0.046256    -0.677676 -1.439439  0.524296   0.735280 -0.653250   \n",
              "J -0.381516  0.066489    -1.098739  1.584487 -2.659449  -0.091453  0.695120   \n",
              "K -0.189469 -0.077219     0.824703  1.248213 -0.403892  -1.384519  1.367235   \n",
              "L -0.462005  0.350888     0.381866  0.566275  0.204208   1.406696 -1.737960   \n",
              "M  0.380472 -0.217135     1.173531 -2.343603  1.161521   0.386078 -1.133133   \n",
              "N -0.304086  2.585295     1.835333  0.440690 -0.719254  -0.583415 -0.325050   \n",
              "O -0.902246 -0.590972    -0.276179 -0.516884 -0.698590  -0.928892  2.550438   \n",
              "\n",
              "   Louboutin  \n",
              "A  -1.245288  \n",
              "B  -0.596160  \n",
              "C  -0.988779  \n",
              "D   2.231367  \n",
              "E   0.542353  \n",
              "F   0.047971  \n",
              "G   1.278379  \n",
              "H   0.326003  \n",
              "I   0.842456  \n",
              "J  -2.033467  \n",
              "K   1.217886  \n",
              "L   1.040824  \n",
              "M   0.433093  \n",
              "N  -0.560235  \n",
              "O  -1.473173  "
            ]
          },
          "metadata": {
            "tags": []
          },
          "execution_count": 14
        }
      ]
    },
    {
      "cell_type": "markdown",
      "metadata": {
        "id": "H0mHJEh7pmaz",
        "colab_type": "text"
      },
      "source": [
        "## Selection and Indexing\n",
        "\n",
        "Let's learn the various methods to grab data from a DataFrame"
      ]
    },
    {
      "cell_type": "code",
      "metadata": {
        "id": "YQ0qnXZ7pma1",
        "colab_type": "code",
        "colab": {
          "base_uri": "https://localhost:8080/",
          "height": 119
        },
        "outputId": "2a07e483-6f6c-4667-99bf-39084d1ffd21"
      },
      "source": [
        "df['W']"
      ],
      "execution_count": 15,
      "outputs": [
        {
          "output_type": "execute_result",
          "data": {
            "text/plain": [
              "A    2.706850\n",
              "B    0.651118\n",
              "C   -2.018168\n",
              "D    0.188695\n",
              "E    0.190794\n",
              "Name: W, dtype: float64"
            ]
          },
          "metadata": {
            "tags": []
          },
          "execution_count": 15
        }
      ]
    },
    {
      "cell_type": "code",
      "metadata": {
        "id": "raj9YeO_1N1M",
        "colab_type": "code",
        "colab": {
          "base_uri": "https://localhost:8080/",
          "height": 289
        },
        "outputId": "6b2b8fc9-8cbe-4b04-b525-f4aa87cc2fab"
      },
      "source": [
        "df1['Turfah']"
      ],
      "execution_count": 16,
      "outputs": [
        {
          "output_type": "execute_result",
          "data": {
            "text/plain": [
              "A    0.502881\n",
              "B    0.539058\n",
              "C    0.256570\n",
              "D   -0.269057\n",
              "E    0.000010\n",
              "F    0.611341\n",
              "G    0.433496\n",
              "H   -0.039570\n",
              "I   -0.653250\n",
              "J    0.695120\n",
              "K    1.367235\n",
              "L   -1.737960\n",
              "M   -1.133133\n",
              "N   -0.325050\n",
              "O    2.550438\n",
              "Name: Turfah, dtype: float64"
            ]
          },
          "metadata": {
            "tags": []
          },
          "execution_count": 16
        }
      ]
    },
    {
      "cell_type": "code",
      "metadata": {
        "id": "zKGBgBaTpma5",
        "colab_type": "code",
        "colab": {
          "base_uri": "https://localhost:8080/",
          "height": 204
        },
        "outputId": "f25c8736-5b47-4cd9-95b3-579928e9518c"
      },
      "source": [
        "# Pass a list of column names\n",
        "df[['W','Z']]"
      ],
      "execution_count": 17,
      "outputs": [
        {
          "output_type": "execute_result",
          "data": {
            "text/html": [
              "<div>\n",
              "<style scoped>\n",
              "    .dataframe tbody tr th:only-of-type {\n",
              "        vertical-align: middle;\n",
              "    }\n",
              "\n",
              "    .dataframe tbody tr th {\n",
              "        vertical-align: top;\n",
              "    }\n",
              "\n",
              "    .dataframe thead th {\n",
              "        text-align: right;\n",
              "    }\n",
              "</style>\n",
              "<table border=\"1\" class=\"dataframe\">\n",
              "  <thead>\n",
              "    <tr style=\"text-align: right;\">\n",
              "      <th></th>\n",
              "      <th>W</th>\n",
              "      <th>Z</th>\n",
              "    </tr>\n",
              "  </thead>\n",
              "  <tbody>\n",
              "    <tr>\n",
              "      <th>A</th>\n",
              "      <td>2.706850</td>\n",
              "      <td>0.503826</td>\n",
              "    </tr>\n",
              "    <tr>\n",
              "      <th>B</th>\n",
              "      <td>0.651118</td>\n",
              "      <td>0.605965</td>\n",
              "    </tr>\n",
              "    <tr>\n",
              "      <th>C</th>\n",
              "      <td>-2.018168</td>\n",
              "      <td>-0.589001</td>\n",
              "    </tr>\n",
              "    <tr>\n",
              "      <th>D</th>\n",
              "      <td>0.188695</td>\n",
              "      <td>0.955057</td>\n",
              "    </tr>\n",
              "    <tr>\n",
              "      <th>E</th>\n",
              "      <td>0.190794</td>\n",
              "      <td>0.683509</td>\n",
              "    </tr>\n",
              "  </tbody>\n",
              "</table>\n",
              "</div>"
            ],
            "text/plain": [
              "          W         Z\n",
              "A  2.706850  0.503826\n",
              "B  0.651118  0.605965\n",
              "C -2.018168 -0.589001\n",
              "D  0.188695  0.955057\n",
              "E  0.190794  0.683509"
            ]
          },
          "metadata": {
            "tags": []
          },
          "execution_count": 17
        }
      ]
    },
    {
      "cell_type": "code",
      "metadata": {
        "id": "w-PoJpLS1VIg",
        "colab_type": "code",
        "colab": {
          "base_uri": "https://localhost:8080/",
          "height": 306
        },
        "outputId": "04a47c6d-6637-41e5-efbb-d07793e62705"
      },
      "source": [
        "df1[['Off-White', 'Jacket']]"
      ],
      "execution_count": 18,
      "outputs": [
        {
          "output_type": "error",
          "ename": "KeyError",
          "evalue": "ignored",
          "traceback": [
            "\u001b[0;31m---------------------------------------------------------------------------\u001b[0m",
            "\u001b[0;31mKeyError\u001b[0m                                  Traceback (most recent call last)",
            "\u001b[0;32m<ipython-input-18-9c02831f7dd7>\u001b[0m in \u001b[0;36m<module>\u001b[0;34m()\u001b[0m\n\u001b[0;32m----> 1\u001b[0;31m \u001b[0mdf1\u001b[0m\u001b[0;34m[\u001b[0m\u001b[0;34m[\u001b[0m\u001b[0;34m'Off-White'\u001b[0m\u001b[0;34m,\u001b[0m \u001b[0;34m'Jacket'\u001b[0m\u001b[0;34m]\u001b[0m\u001b[0;34m]\u001b[0m\u001b[0;34m\u001b[0m\u001b[0;34m\u001b[0m\u001b[0m\n\u001b[0m",
            "\u001b[0;32m/usr/local/lib/python3.6/dist-packages/pandas/core/frame.py\u001b[0m in \u001b[0;36m__getitem__\u001b[0;34m(self, key)\u001b[0m\n\u001b[1;32m   2932\u001b[0m                 \u001b[0mkey\u001b[0m \u001b[0;34m=\u001b[0m \u001b[0mlist\u001b[0m\u001b[0;34m(\u001b[0m\u001b[0mkey\u001b[0m\u001b[0;34m)\u001b[0m\u001b[0;34m\u001b[0m\u001b[0;34m\u001b[0m\u001b[0m\n\u001b[1;32m   2933\u001b[0m             indexer = self.loc._convert_to_indexer(key, axis=1,\n\u001b[0;32m-> 2934\u001b[0;31m                                                    raise_missing=True)\n\u001b[0m\u001b[1;32m   2935\u001b[0m \u001b[0;34m\u001b[0m\u001b[0m\n\u001b[1;32m   2936\u001b[0m         \u001b[0;31m# take() does not accept boolean indexers\u001b[0m\u001b[0;34m\u001b[0m\u001b[0;34m\u001b[0m\u001b[0;34m\u001b[0m\u001b[0m\n",
            "\u001b[0;32m/usr/local/lib/python3.6/dist-packages/pandas/core/indexing.py\u001b[0m in \u001b[0;36m_convert_to_indexer\u001b[0;34m(self, obj, axis, is_setter, raise_missing)\u001b[0m\n\u001b[1;32m   1352\u001b[0m                 kwargs = {'raise_missing': True if is_setter else\n\u001b[1;32m   1353\u001b[0m                           raise_missing}\n\u001b[0;32m-> 1354\u001b[0;31m                 \u001b[0;32mreturn\u001b[0m \u001b[0mself\u001b[0m\u001b[0;34m.\u001b[0m\u001b[0m_get_listlike_indexer\u001b[0m\u001b[0;34m(\u001b[0m\u001b[0mobj\u001b[0m\u001b[0;34m,\u001b[0m \u001b[0maxis\u001b[0m\u001b[0;34m,\u001b[0m \u001b[0;34m**\u001b[0m\u001b[0mkwargs\u001b[0m\u001b[0;34m)\u001b[0m\u001b[0;34m[\u001b[0m\u001b[0;36m1\u001b[0m\u001b[0;34m]\u001b[0m\u001b[0;34m\u001b[0m\u001b[0;34m\u001b[0m\u001b[0m\n\u001b[0m\u001b[1;32m   1355\u001b[0m         \u001b[0;32melse\u001b[0m\u001b[0;34m:\u001b[0m\u001b[0;34m\u001b[0m\u001b[0;34m\u001b[0m\u001b[0m\n\u001b[1;32m   1356\u001b[0m             \u001b[0;32mtry\u001b[0m\u001b[0;34m:\u001b[0m\u001b[0;34m\u001b[0m\u001b[0;34m\u001b[0m\u001b[0m\n",
            "\u001b[0;32m/usr/local/lib/python3.6/dist-packages/pandas/core/indexing.py\u001b[0m in \u001b[0;36m_get_listlike_indexer\u001b[0;34m(self, key, axis, raise_missing)\u001b[0m\n\u001b[1;32m   1159\u001b[0m         self._validate_read_indexer(keyarr, indexer,\n\u001b[1;32m   1160\u001b[0m                                     \u001b[0mo\u001b[0m\u001b[0;34m.\u001b[0m\u001b[0m_get_axis_number\u001b[0m\u001b[0;34m(\u001b[0m\u001b[0maxis\u001b[0m\u001b[0;34m)\u001b[0m\u001b[0;34m,\u001b[0m\u001b[0;34m\u001b[0m\u001b[0;34m\u001b[0m\u001b[0m\n\u001b[0;32m-> 1161\u001b[0;31m                                     raise_missing=raise_missing)\n\u001b[0m\u001b[1;32m   1162\u001b[0m         \u001b[0;32mreturn\u001b[0m \u001b[0mkeyarr\u001b[0m\u001b[0;34m,\u001b[0m \u001b[0mindexer\u001b[0m\u001b[0;34m\u001b[0m\u001b[0;34m\u001b[0m\u001b[0m\n\u001b[1;32m   1163\u001b[0m \u001b[0;34m\u001b[0m\u001b[0m\n",
            "\u001b[0;32m/usr/local/lib/python3.6/dist-packages/pandas/core/indexing.py\u001b[0m in \u001b[0;36m_validate_read_indexer\u001b[0;34m(self, key, indexer, axis, raise_missing)\u001b[0m\n\u001b[1;32m   1250\u001b[0m             \u001b[0;32mif\u001b[0m \u001b[0;32mnot\u001b[0m\u001b[0;34m(\u001b[0m\u001b[0mself\u001b[0m\u001b[0;34m.\u001b[0m\u001b[0mname\u001b[0m \u001b[0;34m==\u001b[0m \u001b[0;34m'loc'\u001b[0m \u001b[0;32mand\u001b[0m \u001b[0;32mnot\u001b[0m \u001b[0mraise_missing\u001b[0m\u001b[0;34m)\u001b[0m\u001b[0;34m:\u001b[0m\u001b[0;34m\u001b[0m\u001b[0;34m\u001b[0m\u001b[0m\n\u001b[1;32m   1251\u001b[0m                 \u001b[0mnot_found\u001b[0m \u001b[0;34m=\u001b[0m \u001b[0mlist\u001b[0m\u001b[0;34m(\u001b[0m\u001b[0mset\u001b[0m\u001b[0;34m(\u001b[0m\u001b[0mkey\u001b[0m\u001b[0;34m)\u001b[0m \u001b[0;34m-\u001b[0m \u001b[0mset\u001b[0m\u001b[0;34m(\u001b[0m\u001b[0max\u001b[0m\u001b[0;34m)\u001b[0m\u001b[0;34m)\u001b[0m\u001b[0;34m\u001b[0m\u001b[0;34m\u001b[0m\u001b[0m\n\u001b[0;32m-> 1252\u001b[0;31m                 \u001b[0;32mraise\u001b[0m \u001b[0mKeyError\u001b[0m\u001b[0;34m(\u001b[0m\u001b[0;34m\"{} not in index\"\u001b[0m\u001b[0;34m.\u001b[0m\u001b[0mformat\u001b[0m\u001b[0;34m(\u001b[0m\u001b[0mnot_found\u001b[0m\u001b[0;34m)\u001b[0m\u001b[0;34m)\u001b[0m\u001b[0;34m\u001b[0m\u001b[0;34m\u001b[0m\u001b[0m\n\u001b[0m\u001b[1;32m   1253\u001b[0m \u001b[0;34m\u001b[0m\u001b[0m\n\u001b[1;32m   1254\u001b[0m             \u001b[0;31m# we skip the warning on Categorical/Interval\u001b[0m\u001b[0;34m\u001b[0m\u001b[0;34m\u001b[0m\u001b[0;34m\u001b[0m\u001b[0m\n",
            "\u001b[0;31mKeyError\u001b[0m: \"['Jacket'] not in index\""
          ]
        }
      ]
    },
    {
      "cell_type": "code",
      "metadata": {
        "id": "-g9JA1jn1sc9",
        "colab_type": "code",
        "colab": {
          "base_uri": "https://localhost:8080/",
          "height": 514
        },
        "outputId": "5bbdb62d-fe62-4da5-b564-6a546f0012ec"
      },
      "source": [
        "df1[['Season', 'Brand', 'Description']]"
      ],
      "execution_count": 19,
      "outputs": [
        {
          "output_type": "execute_result",
          "data": {
            "text/html": [
              "<div>\n",
              "<style scoped>\n",
              "    .dataframe tbody tr th:only-of-type {\n",
              "        vertical-align: middle;\n",
              "    }\n",
              "\n",
              "    .dataframe tbody tr th {\n",
              "        vertical-align: top;\n",
              "    }\n",
              "\n",
              "    .dataframe thead th {\n",
              "        text-align: right;\n",
              "    }\n",
              "</style>\n",
              "<table border=\"1\" class=\"dataframe\">\n",
              "  <thead>\n",
              "    <tr style=\"text-align: right;\">\n",
              "      <th></th>\n",
              "      <th>Season</th>\n",
              "      <th>Brand</th>\n",
              "      <th>Description</th>\n",
              "    </tr>\n",
              "  </thead>\n",
              "  <tbody>\n",
              "    <tr>\n",
              "      <th>A</th>\n",
              "      <td>-0.416758</td>\n",
              "      <td>-0.056267</td>\n",
              "      <td>-2.136196</td>\n",
              "    </tr>\n",
              "    <tr>\n",
              "      <th>B</th>\n",
              "      <td>-1.057952</td>\n",
              "      <td>-0.909008</td>\n",
              "      <td>0.551454</td>\n",
              "    </tr>\n",
              "    <tr>\n",
              "      <th>C</th>\n",
              "      <td>-0.019130</td>\n",
              "      <td>1.175001</td>\n",
              "      <td>-0.747871</td>\n",
              "    </tr>\n",
              "    <tr>\n",
              "      <th>D</th>\n",
              "      <td>-0.338822</td>\n",
              "      <td>-0.236184</td>\n",
              "      <td>-0.637655</td>\n",
              "    </tr>\n",
              "    <tr>\n",
              "      <th>E</th>\n",
              "      <td>-2.434768</td>\n",
              "      <td>0.112727</td>\n",
              "      <td>0.370445</td>\n",
              "    </tr>\n",
              "    <tr>\n",
              "      <th>F</th>\n",
              "      <td>-0.313508</td>\n",
              "      <td>0.771012</td>\n",
              "      <td>-1.868091</td>\n",
              "    </tr>\n",
              "    <tr>\n",
              "      <th>G</th>\n",
              "      <td>-0.829135</td>\n",
              "      <td>0.087710</td>\n",
              "      <td>1.000366</td>\n",
              "    </tr>\n",
              "    <tr>\n",
              "      <th>H</th>\n",
              "      <td>-0.634679</td>\n",
              "      <td>0.508396</td>\n",
              "      <td>0.216116</td>\n",
              "    </tr>\n",
              "    <tr>\n",
              "      <th>I</th>\n",
              "      <td>-2.040323</td>\n",
              "      <td>0.046256</td>\n",
              "      <td>-0.677676</td>\n",
              "    </tr>\n",
              "    <tr>\n",
              "      <th>J</th>\n",
              "      <td>-0.381516</td>\n",
              "      <td>0.066489</td>\n",
              "      <td>-1.098739</td>\n",
              "    </tr>\n",
              "    <tr>\n",
              "      <th>K</th>\n",
              "      <td>-0.189469</td>\n",
              "      <td>-0.077219</td>\n",
              "      <td>0.824703</td>\n",
              "    </tr>\n",
              "    <tr>\n",
              "      <th>L</th>\n",
              "      <td>-0.462005</td>\n",
              "      <td>0.350888</td>\n",
              "      <td>0.381866</td>\n",
              "    </tr>\n",
              "    <tr>\n",
              "      <th>M</th>\n",
              "      <td>0.380472</td>\n",
              "      <td>-0.217135</td>\n",
              "      <td>1.173531</td>\n",
              "    </tr>\n",
              "    <tr>\n",
              "      <th>N</th>\n",
              "      <td>-0.304086</td>\n",
              "      <td>2.585295</td>\n",
              "      <td>1.835333</td>\n",
              "    </tr>\n",
              "    <tr>\n",
              "      <th>O</th>\n",
              "      <td>-0.902246</td>\n",
              "      <td>-0.590972</td>\n",
              "      <td>-0.276179</td>\n",
              "    </tr>\n",
              "  </tbody>\n",
              "</table>\n",
              "</div>"
            ],
            "text/plain": [
              "     Season     Brand  Description\n",
              "A -0.416758 -0.056267    -2.136196\n",
              "B -1.057952 -0.909008     0.551454\n",
              "C -0.019130  1.175001    -0.747871\n",
              "D -0.338822 -0.236184    -0.637655\n",
              "E -2.434768  0.112727     0.370445\n",
              "F -0.313508  0.771012    -1.868091\n",
              "G -0.829135  0.087710     1.000366\n",
              "H -0.634679  0.508396     0.216116\n",
              "I -2.040323  0.046256    -0.677676\n",
              "J -0.381516  0.066489    -1.098739\n",
              "K -0.189469 -0.077219     0.824703\n",
              "L -0.462005  0.350888     0.381866\n",
              "M  0.380472 -0.217135     1.173531\n",
              "N -0.304086  2.585295     1.835333\n",
              "O -0.902246 -0.590972    -0.276179"
            ]
          },
          "metadata": {
            "tags": []
          },
          "execution_count": 19
        }
      ]
    },
    {
      "cell_type": "code",
      "metadata": {
        "id": "zD0dfctB3JgT",
        "colab_type": "code",
        "colab": {
          "base_uri": "https://localhost:8080/",
          "height": 170
        },
        "outputId": "9a210499-7616-4972-a7b8-19c40971176e"
      },
      "source": [
        "np.sum(df1)"
      ],
      "execution_count": 20,
      "outputs": [
        {
          "output_type": "execute_result",
          "data": {
            "text/plain": [
              "Season        -9.943928\n",
              "Brand          3.616989\n",
              "Description   -1.088593\n",
              "Name           3.144745\n",
              "Boot          -5.467832\n",
              "Off-White     -4.116517\n",
              "Turfah         2.798130\n",
              "Louboutin      1.063230\n",
              "dtype: float64"
            ]
          },
          "metadata": {
            "tags": []
          },
          "execution_count": 20
        }
      ]
    },
    {
      "cell_type": "code",
      "metadata": {
        "id": "K0llk7de19I2",
        "colab_type": "code",
        "colab": {
          "base_uri": "https://localhost:8080/",
          "height": 34
        },
        "outputId": "93ed4918-9b5e-47b3-dae7-297eb6cbc823"
      },
      "source": [
        "np.sum(df1['Brand'])"
      ],
      "execution_count": 21,
      "outputs": [
        {
          "output_type": "execute_result",
          "data": {
            "text/plain": [
              "3.6169891353451904"
            ]
          },
          "metadata": {
            "tags": []
          },
          "execution_count": 21
        }
      ]
    },
    {
      "cell_type": "code",
      "metadata": {
        "id": "xqDI10BKpma9",
        "colab_type": "code",
        "colab": {
          "base_uri": "https://localhost:8080/",
          "height": 119
        },
        "outputId": "71240972-d078-40bc-e3b6-2c631d941df7"
      },
      "source": [
        "# SQL Syntax (NOT RECOMMENDED!)\n",
        "df.W"
      ],
      "execution_count": 22,
      "outputs": [
        {
          "output_type": "execute_result",
          "data": {
            "text/plain": [
              "A    2.706850\n",
              "B    0.651118\n",
              "C   -2.018168\n",
              "D    0.188695\n",
              "E    0.190794\n",
              "Name: W, dtype: float64"
            ]
          },
          "metadata": {
            "tags": []
          },
          "execution_count": 22
        }
      ]
    },
    {
      "cell_type": "code",
      "metadata": {
        "id": "tN9Nz9Bg3U5K",
        "colab_type": "code",
        "colab": {
          "base_uri": "https://localhost:8080/",
          "height": 289
        },
        "outputId": "16947235-45da-49e4-c5f5-fd4ba328cc2d"
      },
      "source": [
        "df1.Louboutin"
      ],
      "execution_count": 23,
      "outputs": [
        {
          "output_type": "execute_result",
          "data": {
            "text/plain": [
              "A   -1.245288\n",
              "B   -0.596160\n",
              "C   -0.988779\n",
              "D    2.231367\n",
              "E    0.542353\n",
              "F    0.047971\n",
              "G    1.278379\n",
              "H    0.326003\n",
              "I    0.842456\n",
              "J   -2.033467\n",
              "K    1.217886\n",
              "L    1.040824\n",
              "M    0.433093\n",
              "N   -0.560235\n",
              "O   -1.473173\n",
              "Name: Louboutin, dtype: float64"
            ]
          },
          "metadata": {
            "tags": []
          },
          "execution_count": 23
        }
      ]
    },
    {
      "cell_type": "code",
      "metadata": {
        "id": "v0VyE7v_3bmF",
        "colab_type": "code",
        "colab": {
          "base_uri": "https://localhost:8080/",
          "height": 289
        },
        "outputId": "b51d2385-8221-46cc-9a20-fdd96a5294db"
      },
      "source": [
        "df1.Name"
      ],
      "execution_count": 24,
      "outputs": [
        {
          "output_type": "execute_result",
          "data": {
            "text/plain": [
              "A    1.640271\n",
              "B    2.292208\n",
              "C    0.009025\n",
              "D   -1.187612\n",
              "E    1.359634\n",
              "F    1.731185\n",
              "G   -0.381093\n",
              "H   -1.858612\n",
              "I   -1.439439\n",
              "J    1.584487\n",
              "K    1.248213\n",
              "L    0.566275\n",
              "M   -2.343603\n",
              "N    0.440690\n",
              "O   -0.516884\n",
              "Name: Name, dtype: float64"
            ]
          },
          "metadata": {
            "tags": []
          },
          "execution_count": 24
        }
      ]
    },
    {
      "cell_type": "markdown",
      "metadata": {
        "id": "ooEY0zrkpmbB",
        "colab_type": "text"
      },
      "source": [
        "DataFrame Columns are just Series"
      ]
    },
    {
      "cell_type": "code",
      "metadata": {
        "id": "EMqXvbUJpmbD",
        "colab_type": "code",
        "colab": {
          "base_uri": "https://localhost:8080/",
          "height": 34
        },
        "outputId": "b1a11ad6-bb2a-483d-854b-df10f065668e"
      },
      "source": [
        "type(df['W'])"
      ],
      "execution_count": 25,
      "outputs": [
        {
          "output_type": "execute_result",
          "data": {
            "text/plain": [
              "pandas.core.series.Series"
            ]
          },
          "metadata": {
            "tags": []
          },
          "execution_count": 25
        }
      ]
    },
    {
      "cell_type": "markdown",
      "metadata": {
        "id": "f_JNFLoCpmbJ",
        "colab_type": "text"
      },
      "source": [
        "**Creating a new column:**"
      ]
    },
    {
      "cell_type": "code",
      "metadata": {
        "id": "FvEy8Y6TpmbK",
        "colab_type": "code",
        "colab": {}
      },
      "source": [
        "df['new'] = df['W'] + df['Y']"
      ],
      "execution_count": 0,
      "outputs": []
    },
    {
      "cell_type": "code",
      "metadata": {
        "id": "-e-MT66ipmbN",
        "colab_type": "code",
        "colab": {
          "base_uri": "https://localhost:8080/",
          "height": 204
        },
        "outputId": "c3b75c8c-09de-4096-c497-d9673c9499e5"
      },
      "source": [
        "df"
      ],
      "execution_count": 27,
      "outputs": [
        {
          "output_type": "execute_result",
          "data": {
            "text/html": [
              "<div>\n",
              "<style scoped>\n",
              "    .dataframe tbody tr th:only-of-type {\n",
              "        vertical-align: middle;\n",
              "    }\n",
              "\n",
              "    .dataframe tbody tr th {\n",
              "        vertical-align: top;\n",
              "    }\n",
              "\n",
              "    .dataframe thead th {\n",
              "        text-align: right;\n",
              "    }\n",
              "</style>\n",
              "<table border=\"1\" class=\"dataframe\">\n",
              "  <thead>\n",
              "    <tr style=\"text-align: right;\">\n",
              "      <th></th>\n",
              "      <th>W</th>\n",
              "      <th>X</th>\n",
              "      <th>Y</th>\n",
              "      <th>Z</th>\n",
              "      <th>new</th>\n",
              "    </tr>\n",
              "  </thead>\n",
              "  <tbody>\n",
              "    <tr>\n",
              "      <th>A</th>\n",
              "      <td>2.706850</td>\n",
              "      <td>0.628133</td>\n",
              "      <td>0.907969</td>\n",
              "      <td>0.503826</td>\n",
              "      <td>3.614819</td>\n",
              "    </tr>\n",
              "    <tr>\n",
              "      <th>B</th>\n",
              "      <td>0.651118</td>\n",
              "      <td>-0.319318</td>\n",
              "      <td>-0.848077</td>\n",
              "      <td>0.605965</td>\n",
              "      <td>-0.196959</td>\n",
              "    </tr>\n",
              "    <tr>\n",
              "      <th>C</th>\n",
              "      <td>-2.018168</td>\n",
              "      <td>0.740122</td>\n",
              "      <td>0.528813</td>\n",
              "      <td>-0.589001</td>\n",
              "      <td>-1.489355</td>\n",
              "    </tr>\n",
              "    <tr>\n",
              "      <th>D</th>\n",
              "      <td>0.188695</td>\n",
              "      <td>-0.758872</td>\n",
              "      <td>-0.933237</td>\n",
              "      <td>0.955057</td>\n",
              "      <td>-0.744542</td>\n",
              "    </tr>\n",
              "    <tr>\n",
              "      <th>E</th>\n",
              "      <td>0.190794</td>\n",
              "      <td>1.978757</td>\n",
              "      <td>2.605967</td>\n",
              "      <td>0.683509</td>\n",
              "      <td>2.796762</td>\n",
              "    </tr>\n",
              "  </tbody>\n",
              "</table>\n",
              "</div>"
            ],
            "text/plain": [
              "          W         X         Y         Z       new\n",
              "A  2.706850  0.628133  0.907969  0.503826  3.614819\n",
              "B  0.651118 -0.319318 -0.848077  0.605965 -0.196959\n",
              "C -2.018168  0.740122  0.528813 -0.589001 -1.489355\n",
              "D  0.188695 -0.758872 -0.933237  0.955057 -0.744542\n",
              "E  0.190794  1.978757  2.605967  0.683509  2.796762"
            ]
          },
          "metadata": {
            "tags": []
          },
          "execution_count": 27
        }
      ]
    },
    {
      "cell_type": "code",
      "metadata": {
        "id": "bswwaoUJ3oEb",
        "colab_type": "code",
        "colab": {}
      },
      "source": [
        "df1['Amber'] = df1['Louboutin'] + df1['Turfah']"
      ],
      "execution_count": 0,
      "outputs": []
    },
    {
      "cell_type": "code",
      "metadata": {
        "id": "DCxZEHCV33ES",
        "colab_type": "code",
        "colab": {
          "base_uri": "https://localhost:8080/",
          "height": 514
        },
        "outputId": "2f204fc8-34d0-41ef-a1c3-7eb6612b76a8"
      },
      "source": [
        "df1"
      ],
      "execution_count": 29,
      "outputs": [
        {
          "output_type": "execute_result",
          "data": {
            "text/html": [
              "<div>\n",
              "<style scoped>\n",
              "    .dataframe tbody tr th:only-of-type {\n",
              "        vertical-align: middle;\n",
              "    }\n",
              "\n",
              "    .dataframe tbody tr th {\n",
              "        vertical-align: top;\n",
              "    }\n",
              "\n",
              "    .dataframe thead th {\n",
              "        text-align: right;\n",
              "    }\n",
              "</style>\n",
              "<table border=\"1\" class=\"dataframe\">\n",
              "  <thead>\n",
              "    <tr style=\"text-align: right;\">\n",
              "      <th></th>\n",
              "      <th>Season</th>\n",
              "      <th>Brand</th>\n",
              "      <th>Description</th>\n",
              "      <th>Name</th>\n",
              "      <th>Boot</th>\n",
              "      <th>Off-White</th>\n",
              "      <th>Turfah</th>\n",
              "      <th>Louboutin</th>\n",
              "      <th>Amber</th>\n",
              "    </tr>\n",
              "  </thead>\n",
              "  <tbody>\n",
              "    <tr>\n",
              "      <th>A</th>\n",
              "      <td>-0.416758</td>\n",
              "      <td>-0.056267</td>\n",
              "      <td>-2.136196</td>\n",
              "      <td>1.640271</td>\n",
              "      <td>-1.793436</td>\n",
              "      <td>-0.841747</td>\n",
              "      <td>0.502881</td>\n",
              "      <td>-1.245288</td>\n",
              "      <td>-0.742407</td>\n",
              "    </tr>\n",
              "    <tr>\n",
              "      <th>B</th>\n",
              "      <td>-1.057952</td>\n",
              "      <td>-0.909008</td>\n",
              "      <td>0.551454</td>\n",
              "      <td>2.292208</td>\n",
              "      <td>0.041539</td>\n",
              "      <td>-1.117925</td>\n",
              "      <td>0.539058</td>\n",
              "      <td>-0.596160</td>\n",
              "      <td>-0.057101</td>\n",
              "    </tr>\n",
              "    <tr>\n",
              "      <th>C</th>\n",
              "      <td>-0.019130</td>\n",
              "      <td>1.175001</td>\n",
              "      <td>-0.747871</td>\n",
              "      <td>0.009025</td>\n",
              "      <td>-0.878108</td>\n",
              "      <td>-0.156434</td>\n",
              "      <td>0.256570</td>\n",
              "      <td>-0.988779</td>\n",
              "      <td>-0.732209</td>\n",
              "    </tr>\n",
              "    <tr>\n",
              "      <th>D</th>\n",
              "      <td>-0.338822</td>\n",
              "      <td>-0.236184</td>\n",
              "      <td>-0.637655</td>\n",
              "      <td>-1.187612</td>\n",
              "      <td>-1.421217</td>\n",
              "      <td>-0.153495</td>\n",
              "      <td>-0.269057</td>\n",
              "      <td>2.231367</td>\n",
              "      <td>1.962310</td>\n",
              "    </tr>\n",
              "    <tr>\n",
              "      <th>E</th>\n",
              "      <td>-2.434768</td>\n",
              "      <td>0.112727</td>\n",
              "      <td>0.370445</td>\n",
              "      <td>1.359634</td>\n",
              "      <td>0.501857</td>\n",
              "      <td>-0.844214</td>\n",
              "      <td>0.000010</td>\n",
              "      <td>0.542353</td>\n",
              "      <td>0.542362</td>\n",
              "    </tr>\n",
              "    <tr>\n",
              "      <th>F</th>\n",
              "      <td>-0.313508</td>\n",
              "      <td>0.771012</td>\n",
              "      <td>-1.868091</td>\n",
              "      <td>1.731185</td>\n",
              "      <td>1.467678</td>\n",
              "      <td>-0.335677</td>\n",
              "      <td>0.611341</td>\n",
              "      <td>0.047971</td>\n",
              "      <td>0.659311</td>\n",
              "    </tr>\n",
              "    <tr>\n",
              "      <th>G</th>\n",
              "      <td>-0.829135</td>\n",
              "      <td>0.087710</td>\n",
              "      <td>1.000366</td>\n",
              "      <td>-0.381093</td>\n",
              "      <td>-0.375669</td>\n",
              "      <td>-0.074471</td>\n",
              "      <td>0.433496</td>\n",
              "      <td>1.278379</td>\n",
              "      <td>1.711876</td>\n",
              "    </tr>\n",
              "    <tr>\n",
              "      <th>H</th>\n",
              "      <td>-0.634679</td>\n",
              "      <td>0.508396</td>\n",
              "      <td>0.216116</td>\n",
              "      <td>-1.858612</td>\n",
              "      <td>-0.419316</td>\n",
              "      <td>-0.132329</td>\n",
              "      <td>-0.039570</td>\n",
              "      <td>0.326003</td>\n",
              "      <td>0.286433</td>\n",
              "    </tr>\n",
              "    <tr>\n",
              "      <th>I</th>\n",
              "      <td>-2.040323</td>\n",
              "      <td>0.046256</td>\n",
              "      <td>-0.677676</td>\n",
              "      <td>-1.439439</td>\n",
              "      <td>0.524296</td>\n",
              "      <td>0.735280</td>\n",
              "      <td>-0.653250</td>\n",
              "      <td>0.842456</td>\n",
              "      <td>0.189206</td>\n",
              "    </tr>\n",
              "    <tr>\n",
              "      <th>J</th>\n",
              "      <td>-0.381516</td>\n",
              "      <td>0.066489</td>\n",
              "      <td>-1.098739</td>\n",
              "      <td>1.584487</td>\n",
              "      <td>-2.659449</td>\n",
              "      <td>-0.091453</td>\n",
              "      <td>0.695120</td>\n",
              "      <td>-2.033467</td>\n",
              "      <td>-1.338347</td>\n",
              "    </tr>\n",
              "    <tr>\n",
              "      <th>K</th>\n",
              "      <td>-0.189469</td>\n",
              "      <td>-0.077219</td>\n",
              "      <td>0.824703</td>\n",
              "      <td>1.248213</td>\n",
              "      <td>-0.403892</td>\n",
              "      <td>-1.384519</td>\n",
              "      <td>1.367235</td>\n",
              "      <td>1.217886</td>\n",
              "      <td>2.585121</td>\n",
              "    </tr>\n",
              "    <tr>\n",
              "      <th>L</th>\n",
              "      <td>-0.462005</td>\n",
              "      <td>0.350888</td>\n",
              "      <td>0.381866</td>\n",
              "      <td>0.566275</td>\n",
              "      <td>0.204208</td>\n",
              "      <td>1.406696</td>\n",
              "      <td>-1.737960</td>\n",
              "      <td>1.040824</td>\n",
              "      <td>-0.697136</td>\n",
              "    </tr>\n",
              "    <tr>\n",
              "      <th>M</th>\n",
              "      <td>0.380472</td>\n",
              "      <td>-0.217135</td>\n",
              "      <td>1.173531</td>\n",
              "      <td>-2.343603</td>\n",
              "      <td>1.161521</td>\n",
              "      <td>0.386078</td>\n",
              "      <td>-1.133133</td>\n",
              "      <td>0.433093</td>\n",
              "      <td>-0.700041</td>\n",
              "    </tr>\n",
              "    <tr>\n",
              "      <th>N</th>\n",
              "      <td>-0.304086</td>\n",
              "      <td>2.585295</td>\n",
              "      <td>1.835333</td>\n",
              "      <td>0.440690</td>\n",
              "      <td>-0.719254</td>\n",
              "      <td>-0.583415</td>\n",
              "      <td>-0.325050</td>\n",
              "      <td>-0.560235</td>\n",
              "      <td>-0.885284</td>\n",
              "    </tr>\n",
              "    <tr>\n",
              "      <th>O</th>\n",
              "      <td>-0.902246</td>\n",
              "      <td>-0.590972</td>\n",
              "      <td>-0.276179</td>\n",
              "      <td>-0.516884</td>\n",
              "      <td>-0.698590</td>\n",
              "      <td>-0.928892</td>\n",
              "      <td>2.550438</td>\n",
              "      <td>-1.473173</td>\n",
              "      <td>1.077265</td>\n",
              "    </tr>\n",
              "  </tbody>\n",
              "</table>\n",
              "</div>"
            ],
            "text/plain": [
              "     Season     Brand  Description      Name      Boot  Off-White    Turfah  \\\n",
              "A -0.416758 -0.056267    -2.136196  1.640271 -1.793436  -0.841747  0.502881   \n",
              "B -1.057952 -0.909008     0.551454  2.292208  0.041539  -1.117925  0.539058   \n",
              "C -0.019130  1.175001    -0.747871  0.009025 -0.878108  -0.156434  0.256570   \n",
              "D -0.338822 -0.236184    -0.637655 -1.187612 -1.421217  -0.153495 -0.269057   \n",
              "E -2.434768  0.112727     0.370445  1.359634  0.501857  -0.844214  0.000010   \n",
              "F -0.313508  0.771012    -1.868091  1.731185  1.467678  -0.335677  0.611341   \n",
              "G -0.829135  0.087710     1.000366 -0.381093 -0.375669  -0.074471  0.433496   \n",
              "H -0.634679  0.508396     0.216116 -1.858612 -0.419316  -0.132329 -0.039570   \n",
              "I -2.040323  0.046256    -0.677676 -1.439439  0.524296   0.735280 -0.653250   \n",
              "J -0.381516  0.066489    -1.098739  1.584487 -2.659449  -0.091453  0.695120   \n",
              "K -0.189469 -0.077219     0.824703  1.248213 -0.403892  -1.384519  1.367235   \n",
              "L -0.462005  0.350888     0.381866  0.566275  0.204208   1.406696 -1.737960   \n",
              "M  0.380472 -0.217135     1.173531 -2.343603  1.161521   0.386078 -1.133133   \n",
              "N -0.304086  2.585295     1.835333  0.440690 -0.719254  -0.583415 -0.325050   \n",
              "O -0.902246 -0.590972    -0.276179 -0.516884 -0.698590  -0.928892  2.550438   \n",
              "\n",
              "   Louboutin     Amber  \n",
              "A  -1.245288 -0.742407  \n",
              "B  -0.596160 -0.057101  \n",
              "C  -0.988779 -0.732209  \n",
              "D   2.231367  1.962310  \n",
              "E   0.542353  0.542362  \n",
              "F   0.047971  0.659311  \n",
              "G   1.278379  1.711876  \n",
              "H   0.326003  0.286433  \n",
              "I   0.842456  0.189206  \n",
              "J  -2.033467 -1.338347  \n",
              "K   1.217886  2.585121  \n",
              "L   1.040824 -0.697136  \n",
              "M   0.433093 -0.700041  \n",
              "N  -0.560235 -0.885284  \n",
              "O  -1.473173  1.077265  "
            ]
          },
          "metadata": {
            "tags": []
          },
          "execution_count": 29
        }
      ]
    },
    {
      "cell_type": "markdown",
      "metadata": {
        "id": "uXTBMFTapmbR",
        "colab_type": "text"
      },
      "source": [
        "** Removing Columns**"
      ]
    },
    {
      "cell_type": "code",
      "metadata": {
        "id": "QeyDm0LBpmbU",
        "colab_type": "code",
        "colab": {
          "base_uri": "https://localhost:8080/",
          "height": 204
        },
        "outputId": "f5afc4e0-f5b7-44f7-a622-f7d1e621c7e0"
      },
      "source": [
        "df.drop('new',axis=1)"
      ],
      "execution_count": 30,
      "outputs": [
        {
          "output_type": "execute_result",
          "data": {
            "text/html": [
              "<div>\n",
              "<style scoped>\n",
              "    .dataframe tbody tr th:only-of-type {\n",
              "        vertical-align: middle;\n",
              "    }\n",
              "\n",
              "    .dataframe tbody tr th {\n",
              "        vertical-align: top;\n",
              "    }\n",
              "\n",
              "    .dataframe thead th {\n",
              "        text-align: right;\n",
              "    }\n",
              "</style>\n",
              "<table border=\"1\" class=\"dataframe\">\n",
              "  <thead>\n",
              "    <tr style=\"text-align: right;\">\n",
              "      <th></th>\n",
              "      <th>W</th>\n",
              "      <th>X</th>\n",
              "      <th>Y</th>\n",
              "      <th>Z</th>\n",
              "    </tr>\n",
              "  </thead>\n",
              "  <tbody>\n",
              "    <tr>\n",
              "      <th>A</th>\n",
              "      <td>2.706850</td>\n",
              "      <td>0.628133</td>\n",
              "      <td>0.907969</td>\n",
              "      <td>0.503826</td>\n",
              "    </tr>\n",
              "    <tr>\n",
              "      <th>B</th>\n",
              "      <td>0.651118</td>\n",
              "      <td>-0.319318</td>\n",
              "      <td>-0.848077</td>\n",
              "      <td>0.605965</td>\n",
              "    </tr>\n",
              "    <tr>\n",
              "      <th>C</th>\n",
              "      <td>-2.018168</td>\n",
              "      <td>0.740122</td>\n",
              "      <td>0.528813</td>\n",
              "      <td>-0.589001</td>\n",
              "    </tr>\n",
              "    <tr>\n",
              "      <th>D</th>\n",
              "      <td>0.188695</td>\n",
              "      <td>-0.758872</td>\n",
              "      <td>-0.933237</td>\n",
              "      <td>0.955057</td>\n",
              "    </tr>\n",
              "    <tr>\n",
              "      <th>E</th>\n",
              "      <td>0.190794</td>\n",
              "      <td>1.978757</td>\n",
              "      <td>2.605967</td>\n",
              "      <td>0.683509</td>\n",
              "    </tr>\n",
              "  </tbody>\n",
              "</table>\n",
              "</div>"
            ],
            "text/plain": [
              "          W         X         Y         Z\n",
              "A  2.706850  0.628133  0.907969  0.503826\n",
              "B  0.651118 -0.319318 -0.848077  0.605965\n",
              "C -2.018168  0.740122  0.528813 -0.589001\n",
              "D  0.188695 -0.758872 -0.933237  0.955057\n",
              "E  0.190794  1.978757  2.605967  0.683509"
            ]
          },
          "metadata": {
            "tags": []
          },
          "execution_count": 30
        }
      ]
    },
    {
      "cell_type": "code",
      "metadata": {
        "id": "Rxw03ESi4-WK",
        "colab_type": "code",
        "colab": {
          "base_uri": "https://localhost:8080/",
          "height": 306
        },
        "outputId": "294a9877-9bba-47e7-a098-6903613d2a1a"
      },
      "source": [
        "df1.drop('Name', axis=0, inplace=True)"
      ],
      "execution_count": 31,
      "outputs": [
        {
          "output_type": "error",
          "ename": "KeyError",
          "evalue": "ignored",
          "traceback": [
            "\u001b[0;31m---------------------------------------------------------------------------\u001b[0m",
            "\u001b[0;31mKeyError\u001b[0m                                  Traceback (most recent call last)",
            "\u001b[0;32m<ipython-input-31-33895ef5802c>\u001b[0m in \u001b[0;36m<module>\u001b[0;34m()\u001b[0m\n\u001b[0;32m----> 1\u001b[0;31m \u001b[0mdf1\u001b[0m\u001b[0;34m.\u001b[0m\u001b[0mdrop\u001b[0m\u001b[0;34m(\u001b[0m\u001b[0;34m'Name'\u001b[0m\u001b[0;34m,\u001b[0m \u001b[0maxis\u001b[0m\u001b[0;34m=\u001b[0m\u001b[0;36m0\u001b[0m\u001b[0;34m,\u001b[0m \u001b[0minplace\u001b[0m\u001b[0;34m=\u001b[0m\u001b[0;32mTrue\u001b[0m\u001b[0;34m)\u001b[0m\u001b[0;34m\u001b[0m\u001b[0;34m\u001b[0m\u001b[0m\n\u001b[0m",
            "\u001b[0;32m/usr/local/lib/python3.6/dist-packages/pandas/core/frame.py\u001b[0m in \u001b[0;36mdrop\u001b[0;34m(self, labels, axis, index, columns, level, inplace, errors)\u001b[0m\n\u001b[1;32m   3938\u001b[0m                                            \u001b[0mindex\u001b[0m\u001b[0;34m=\u001b[0m\u001b[0mindex\u001b[0m\u001b[0;34m,\u001b[0m \u001b[0mcolumns\u001b[0m\u001b[0;34m=\u001b[0m\u001b[0mcolumns\u001b[0m\u001b[0;34m,\u001b[0m\u001b[0;34m\u001b[0m\u001b[0;34m\u001b[0m\u001b[0m\n\u001b[1;32m   3939\u001b[0m                                            \u001b[0mlevel\u001b[0m\u001b[0;34m=\u001b[0m\u001b[0mlevel\u001b[0m\u001b[0;34m,\u001b[0m \u001b[0minplace\u001b[0m\u001b[0;34m=\u001b[0m\u001b[0minplace\u001b[0m\u001b[0;34m,\u001b[0m\u001b[0;34m\u001b[0m\u001b[0;34m\u001b[0m\u001b[0m\n\u001b[0;32m-> 3940\u001b[0;31m                                            errors=errors)\n\u001b[0m\u001b[1;32m   3941\u001b[0m \u001b[0;34m\u001b[0m\u001b[0m\n\u001b[1;32m   3942\u001b[0m     @rewrite_axis_style_signature('mapper', [('copy', True),\n",
            "\u001b[0;32m/usr/local/lib/python3.6/dist-packages/pandas/core/generic.py\u001b[0m in \u001b[0;36mdrop\u001b[0;34m(self, labels, axis, index, columns, level, inplace, errors)\u001b[0m\n\u001b[1;32m   3778\u001b[0m         \u001b[0;32mfor\u001b[0m \u001b[0maxis\u001b[0m\u001b[0;34m,\u001b[0m \u001b[0mlabels\u001b[0m \u001b[0;32min\u001b[0m \u001b[0maxes\u001b[0m\u001b[0;34m.\u001b[0m\u001b[0mitems\u001b[0m\u001b[0;34m(\u001b[0m\u001b[0;34m)\u001b[0m\u001b[0;34m:\u001b[0m\u001b[0;34m\u001b[0m\u001b[0;34m\u001b[0m\u001b[0m\n\u001b[1;32m   3779\u001b[0m             \u001b[0;32mif\u001b[0m \u001b[0mlabels\u001b[0m \u001b[0;32mis\u001b[0m \u001b[0;32mnot\u001b[0m \u001b[0;32mNone\u001b[0m\u001b[0;34m:\u001b[0m\u001b[0;34m\u001b[0m\u001b[0;34m\u001b[0m\u001b[0m\n\u001b[0;32m-> 3780\u001b[0;31m                 \u001b[0mobj\u001b[0m \u001b[0;34m=\u001b[0m \u001b[0mobj\u001b[0m\u001b[0;34m.\u001b[0m\u001b[0m_drop_axis\u001b[0m\u001b[0;34m(\u001b[0m\u001b[0mlabels\u001b[0m\u001b[0;34m,\u001b[0m \u001b[0maxis\u001b[0m\u001b[0;34m,\u001b[0m \u001b[0mlevel\u001b[0m\u001b[0;34m=\u001b[0m\u001b[0mlevel\u001b[0m\u001b[0;34m,\u001b[0m \u001b[0merrors\u001b[0m\u001b[0;34m=\u001b[0m\u001b[0merrors\u001b[0m\u001b[0;34m)\u001b[0m\u001b[0;34m\u001b[0m\u001b[0;34m\u001b[0m\u001b[0m\n\u001b[0m\u001b[1;32m   3781\u001b[0m \u001b[0;34m\u001b[0m\u001b[0m\n\u001b[1;32m   3782\u001b[0m         \u001b[0;32mif\u001b[0m \u001b[0minplace\u001b[0m\u001b[0;34m:\u001b[0m\u001b[0;34m\u001b[0m\u001b[0;34m\u001b[0m\u001b[0m\n",
            "\u001b[0;32m/usr/local/lib/python3.6/dist-packages/pandas/core/generic.py\u001b[0m in \u001b[0;36m_drop_axis\u001b[0;34m(self, labels, axis, level, errors)\u001b[0m\n\u001b[1;32m   3810\u001b[0m                 \u001b[0mnew_axis\u001b[0m \u001b[0;34m=\u001b[0m \u001b[0maxis\u001b[0m\u001b[0;34m.\u001b[0m\u001b[0mdrop\u001b[0m\u001b[0;34m(\u001b[0m\u001b[0mlabels\u001b[0m\u001b[0;34m,\u001b[0m \u001b[0mlevel\u001b[0m\u001b[0;34m=\u001b[0m\u001b[0mlevel\u001b[0m\u001b[0;34m,\u001b[0m \u001b[0merrors\u001b[0m\u001b[0;34m=\u001b[0m\u001b[0merrors\u001b[0m\u001b[0;34m)\u001b[0m\u001b[0;34m\u001b[0m\u001b[0;34m\u001b[0m\u001b[0m\n\u001b[1;32m   3811\u001b[0m             \u001b[0;32melse\u001b[0m\u001b[0;34m:\u001b[0m\u001b[0;34m\u001b[0m\u001b[0;34m\u001b[0m\u001b[0m\n\u001b[0;32m-> 3812\u001b[0;31m                 \u001b[0mnew_axis\u001b[0m \u001b[0;34m=\u001b[0m \u001b[0maxis\u001b[0m\u001b[0;34m.\u001b[0m\u001b[0mdrop\u001b[0m\u001b[0;34m(\u001b[0m\u001b[0mlabels\u001b[0m\u001b[0;34m,\u001b[0m \u001b[0merrors\u001b[0m\u001b[0;34m=\u001b[0m\u001b[0merrors\u001b[0m\u001b[0;34m)\u001b[0m\u001b[0;34m\u001b[0m\u001b[0;34m\u001b[0m\u001b[0m\n\u001b[0m\u001b[1;32m   3813\u001b[0m             \u001b[0mresult\u001b[0m \u001b[0;34m=\u001b[0m \u001b[0mself\u001b[0m\u001b[0;34m.\u001b[0m\u001b[0mreindex\u001b[0m\u001b[0;34m(\u001b[0m\u001b[0;34m**\u001b[0m\u001b[0;34m{\u001b[0m\u001b[0maxis_name\u001b[0m\u001b[0;34m:\u001b[0m \u001b[0mnew_axis\u001b[0m\u001b[0;34m}\u001b[0m\u001b[0;34m)\u001b[0m\u001b[0;34m\u001b[0m\u001b[0;34m\u001b[0m\u001b[0m\n\u001b[1;32m   3814\u001b[0m \u001b[0;34m\u001b[0m\u001b[0m\n",
            "\u001b[0;32m/usr/local/lib/python3.6/dist-packages/pandas/core/indexes/base.py\u001b[0m in \u001b[0;36mdrop\u001b[0;34m(self, labels, errors)\u001b[0m\n\u001b[1;32m   4963\u001b[0m             \u001b[0;32mif\u001b[0m \u001b[0merrors\u001b[0m \u001b[0;34m!=\u001b[0m \u001b[0;34m'ignore'\u001b[0m\u001b[0;34m:\u001b[0m\u001b[0;34m\u001b[0m\u001b[0;34m\u001b[0m\u001b[0m\n\u001b[1;32m   4964\u001b[0m                 raise KeyError(\n\u001b[0;32m-> 4965\u001b[0;31m                     '{} not found in axis'.format(labels[mask]))\n\u001b[0m\u001b[1;32m   4966\u001b[0m             \u001b[0mindexer\u001b[0m \u001b[0;34m=\u001b[0m \u001b[0mindexer\u001b[0m\u001b[0;34m[\u001b[0m\u001b[0;34m~\u001b[0m\u001b[0mmask\u001b[0m\u001b[0;34m]\u001b[0m\u001b[0;34m\u001b[0m\u001b[0;34m\u001b[0m\u001b[0m\n\u001b[1;32m   4967\u001b[0m         \u001b[0;32mreturn\u001b[0m \u001b[0mself\u001b[0m\u001b[0;34m.\u001b[0m\u001b[0mdelete\u001b[0m\u001b[0;34m(\u001b[0m\u001b[0mindexer\u001b[0m\u001b[0;34m)\u001b[0m\u001b[0;34m\u001b[0m\u001b[0;34m\u001b[0m\u001b[0m\n",
            "\u001b[0;31mKeyError\u001b[0m: \"['Name'] not found in axis\""
          ]
        }
      ]
    },
    {
      "cell_type": "code",
      "metadata": {
        "id": "c9Yo7P9y5K8e",
        "colab_type": "code",
        "colab": {
          "base_uri": "https://localhost:8080/",
          "height": 514
        },
        "outputId": "c30399c2-d8ba-4d90-e74d-b4a543aa064b"
      },
      "source": [
        "df1"
      ],
      "execution_count": 32,
      "outputs": [
        {
          "output_type": "execute_result",
          "data": {
            "text/html": [
              "<div>\n",
              "<style scoped>\n",
              "    .dataframe tbody tr th:only-of-type {\n",
              "        vertical-align: middle;\n",
              "    }\n",
              "\n",
              "    .dataframe tbody tr th {\n",
              "        vertical-align: top;\n",
              "    }\n",
              "\n",
              "    .dataframe thead th {\n",
              "        text-align: right;\n",
              "    }\n",
              "</style>\n",
              "<table border=\"1\" class=\"dataframe\">\n",
              "  <thead>\n",
              "    <tr style=\"text-align: right;\">\n",
              "      <th></th>\n",
              "      <th>Season</th>\n",
              "      <th>Brand</th>\n",
              "      <th>Description</th>\n",
              "      <th>Name</th>\n",
              "      <th>Boot</th>\n",
              "      <th>Off-White</th>\n",
              "      <th>Turfah</th>\n",
              "      <th>Louboutin</th>\n",
              "      <th>Amber</th>\n",
              "    </tr>\n",
              "  </thead>\n",
              "  <tbody>\n",
              "    <tr>\n",
              "      <th>A</th>\n",
              "      <td>-0.416758</td>\n",
              "      <td>-0.056267</td>\n",
              "      <td>-2.136196</td>\n",
              "      <td>1.640271</td>\n",
              "      <td>-1.793436</td>\n",
              "      <td>-0.841747</td>\n",
              "      <td>0.502881</td>\n",
              "      <td>-1.245288</td>\n",
              "      <td>-0.742407</td>\n",
              "    </tr>\n",
              "    <tr>\n",
              "      <th>B</th>\n",
              "      <td>-1.057952</td>\n",
              "      <td>-0.909008</td>\n",
              "      <td>0.551454</td>\n",
              "      <td>2.292208</td>\n",
              "      <td>0.041539</td>\n",
              "      <td>-1.117925</td>\n",
              "      <td>0.539058</td>\n",
              "      <td>-0.596160</td>\n",
              "      <td>-0.057101</td>\n",
              "    </tr>\n",
              "    <tr>\n",
              "      <th>C</th>\n",
              "      <td>-0.019130</td>\n",
              "      <td>1.175001</td>\n",
              "      <td>-0.747871</td>\n",
              "      <td>0.009025</td>\n",
              "      <td>-0.878108</td>\n",
              "      <td>-0.156434</td>\n",
              "      <td>0.256570</td>\n",
              "      <td>-0.988779</td>\n",
              "      <td>-0.732209</td>\n",
              "    </tr>\n",
              "    <tr>\n",
              "      <th>D</th>\n",
              "      <td>-0.338822</td>\n",
              "      <td>-0.236184</td>\n",
              "      <td>-0.637655</td>\n",
              "      <td>-1.187612</td>\n",
              "      <td>-1.421217</td>\n",
              "      <td>-0.153495</td>\n",
              "      <td>-0.269057</td>\n",
              "      <td>2.231367</td>\n",
              "      <td>1.962310</td>\n",
              "    </tr>\n",
              "    <tr>\n",
              "      <th>E</th>\n",
              "      <td>-2.434768</td>\n",
              "      <td>0.112727</td>\n",
              "      <td>0.370445</td>\n",
              "      <td>1.359634</td>\n",
              "      <td>0.501857</td>\n",
              "      <td>-0.844214</td>\n",
              "      <td>0.000010</td>\n",
              "      <td>0.542353</td>\n",
              "      <td>0.542362</td>\n",
              "    </tr>\n",
              "    <tr>\n",
              "      <th>F</th>\n",
              "      <td>-0.313508</td>\n",
              "      <td>0.771012</td>\n",
              "      <td>-1.868091</td>\n",
              "      <td>1.731185</td>\n",
              "      <td>1.467678</td>\n",
              "      <td>-0.335677</td>\n",
              "      <td>0.611341</td>\n",
              "      <td>0.047971</td>\n",
              "      <td>0.659311</td>\n",
              "    </tr>\n",
              "    <tr>\n",
              "      <th>G</th>\n",
              "      <td>-0.829135</td>\n",
              "      <td>0.087710</td>\n",
              "      <td>1.000366</td>\n",
              "      <td>-0.381093</td>\n",
              "      <td>-0.375669</td>\n",
              "      <td>-0.074471</td>\n",
              "      <td>0.433496</td>\n",
              "      <td>1.278379</td>\n",
              "      <td>1.711876</td>\n",
              "    </tr>\n",
              "    <tr>\n",
              "      <th>H</th>\n",
              "      <td>-0.634679</td>\n",
              "      <td>0.508396</td>\n",
              "      <td>0.216116</td>\n",
              "      <td>-1.858612</td>\n",
              "      <td>-0.419316</td>\n",
              "      <td>-0.132329</td>\n",
              "      <td>-0.039570</td>\n",
              "      <td>0.326003</td>\n",
              "      <td>0.286433</td>\n",
              "    </tr>\n",
              "    <tr>\n",
              "      <th>I</th>\n",
              "      <td>-2.040323</td>\n",
              "      <td>0.046256</td>\n",
              "      <td>-0.677676</td>\n",
              "      <td>-1.439439</td>\n",
              "      <td>0.524296</td>\n",
              "      <td>0.735280</td>\n",
              "      <td>-0.653250</td>\n",
              "      <td>0.842456</td>\n",
              "      <td>0.189206</td>\n",
              "    </tr>\n",
              "    <tr>\n",
              "      <th>J</th>\n",
              "      <td>-0.381516</td>\n",
              "      <td>0.066489</td>\n",
              "      <td>-1.098739</td>\n",
              "      <td>1.584487</td>\n",
              "      <td>-2.659449</td>\n",
              "      <td>-0.091453</td>\n",
              "      <td>0.695120</td>\n",
              "      <td>-2.033467</td>\n",
              "      <td>-1.338347</td>\n",
              "    </tr>\n",
              "    <tr>\n",
              "      <th>K</th>\n",
              "      <td>-0.189469</td>\n",
              "      <td>-0.077219</td>\n",
              "      <td>0.824703</td>\n",
              "      <td>1.248213</td>\n",
              "      <td>-0.403892</td>\n",
              "      <td>-1.384519</td>\n",
              "      <td>1.367235</td>\n",
              "      <td>1.217886</td>\n",
              "      <td>2.585121</td>\n",
              "    </tr>\n",
              "    <tr>\n",
              "      <th>L</th>\n",
              "      <td>-0.462005</td>\n",
              "      <td>0.350888</td>\n",
              "      <td>0.381866</td>\n",
              "      <td>0.566275</td>\n",
              "      <td>0.204208</td>\n",
              "      <td>1.406696</td>\n",
              "      <td>-1.737960</td>\n",
              "      <td>1.040824</td>\n",
              "      <td>-0.697136</td>\n",
              "    </tr>\n",
              "    <tr>\n",
              "      <th>M</th>\n",
              "      <td>0.380472</td>\n",
              "      <td>-0.217135</td>\n",
              "      <td>1.173531</td>\n",
              "      <td>-2.343603</td>\n",
              "      <td>1.161521</td>\n",
              "      <td>0.386078</td>\n",
              "      <td>-1.133133</td>\n",
              "      <td>0.433093</td>\n",
              "      <td>-0.700041</td>\n",
              "    </tr>\n",
              "    <tr>\n",
              "      <th>N</th>\n",
              "      <td>-0.304086</td>\n",
              "      <td>2.585295</td>\n",
              "      <td>1.835333</td>\n",
              "      <td>0.440690</td>\n",
              "      <td>-0.719254</td>\n",
              "      <td>-0.583415</td>\n",
              "      <td>-0.325050</td>\n",
              "      <td>-0.560235</td>\n",
              "      <td>-0.885284</td>\n",
              "    </tr>\n",
              "    <tr>\n",
              "      <th>O</th>\n",
              "      <td>-0.902246</td>\n",
              "      <td>-0.590972</td>\n",
              "      <td>-0.276179</td>\n",
              "      <td>-0.516884</td>\n",
              "      <td>-0.698590</td>\n",
              "      <td>-0.928892</td>\n",
              "      <td>2.550438</td>\n",
              "      <td>-1.473173</td>\n",
              "      <td>1.077265</td>\n",
              "    </tr>\n",
              "  </tbody>\n",
              "</table>\n",
              "</div>"
            ],
            "text/plain": [
              "     Season     Brand  Description      Name      Boot  Off-White    Turfah  \\\n",
              "A -0.416758 -0.056267    -2.136196  1.640271 -1.793436  -0.841747  0.502881   \n",
              "B -1.057952 -0.909008     0.551454  2.292208  0.041539  -1.117925  0.539058   \n",
              "C -0.019130  1.175001    -0.747871  0.009025 -0.878108  -0.156434  0.256570   \n",
              "D -0.338822 -0.236184    -0.637655 -1.187612 -1.421217  -0.153495 -0.269057   \n",
              "E -2.434768  0.112727     0.370445  1.359634  0.501857  -0.844214  0.000010   \n",
              "F -0.313508  0.771012    -1.868091  1.731185  1.467678  -0.335677  0.611341   \n",
              "G -0.829135  0.087710     1.000366 -0.381093 -0.375669  -0.074471  0.433496   \n",
              "H -0.634679  0.508396     0.216116 -1.858612 -0.419316  -0.132329 -0.039570   \n",
              "I -2.040323  0.046256    -0.677676 -1.439439  0.524296   0.735280 -0.653250   \n",
              "J -0.381516  0.066489    -1.098739  1.584487 -2.659449  -0.091453  0.695120   \n",
              "K -0.189469 -0.077219     0.824703  1.248213 -0.403892  -1.384519  1.367235   \n",
              "L -0.462005  0.350888     0.381866  0.566275  0.204208   1.406696 -1.737960   \n",
              "M  0.380472 -0.217135     1.173531 -2.343603  1.161521   0.386078 -1.133133   \n",
              "N -0.304086  2.585295     1.835333  0.440690 -0.719254  -0.583415 -0.325050   \n",
              "O -0.902246 -0.590972    -0.276179 -0.516884 -0.698590  -0.928892  2.550438   \n",
              "\n",
              "   Louboutin     Amber  \n",
              "A  -1.245288 -0.742407  \n",
              "B  -0.596160 -0.057101  \n",
              "C  -0.988779 -0.732209  \n",
              "D   2.231367  1.962310  \n",
              "E   0.542353  0.542362  \n",
              "F   0.047971  0.659311  \n",
              "G   1.278379  1.711876  \n",
              "H   0.326003  0.286433  \n",
              "I   0.842456  0.189206  \n",
              "J  -2.033467 -1.338347  \n",
              "K   1.217886  2.585121  \n",
              "L   1.040824 -0.697136  \n",
              "M   0.433093 -0.700041  \n",
              "N  -0.560235 -0.885284  \n",
              "O  -1.473173  1.077265  "
            ]
          },
          "metadata": {
            "tags": []
          },
          "execution_count": 32
        }
      ]
    },
    {
      "cell_type": "code",
      "metadata": {
        "id": "-Tpu2rZVpmbY",
        "colab_type": "code",
        "colab": {
          "base_uri": "https://localhost:8080/",
          "height": 204
        },
        "outputId": "952275d3-923f-4444-edc9-5e08ef4d5776"
      },
      "source": [
        "# Not inplace unless specified!\n",
        "df"
      ],
      "execution_count": 33,
      "outputs": [
        {
          "output_type": "execute_result",
          "data": {
            "text/html": [
              "<div>\n",
              "<style scoped>\n",
              "    .dataframe tbody tr th:only-of-type {\n",
              "        vertical-align: middle;\n",
              "    }\n",
              "\n",
              "    .dataframe tbody tr th {\n",
              "        vertical-align: top;\n",
              "    }\n",
              "\n",
              "    .dataframe thead th {\n",
              "        text-align: right;\n",
              "    }\n",
              "</style>\n",
              "<table border=\"1\" class=\"dataframe\">\n",
              "  <thead>\n",
              "    <tr style=\"text-align: right;\">\n",
              "      <th></th>\n",
              "      <th>W</th>\n",
              "      <th>X</th>\n",
              "      <th>Y</th>\n",
              "      <th>Z</th>\n",
              "      <th>new</th>\n",
              "    </tr>\n",
              "  </thead>\n",
              "  <tbody>\n",
              "    <tr>\n",
              "      <th>A</th>\n",
              "      <td>2.706850</td>\n",
              "      <td>0.628133</td>\n",
              "      <td>0.907969</td>\n",
              "      <td>0.503826</td>\n",
              "      <td>3.614819</td>\n",
              "    </tr>\n",
              "    <tr>\n",
              "      <th>B</th>\n",
              "      <td>0.651118</td>\n",
              "      <td>-0.319318</td>\n",
              "      <td>-0.848077</td>\n",
              "      <td>0.605965</td>\n",
              "      <td>-0.196959</td>\n",
              "    </tr>\n",
              "    <tr>\n",
              "      <th>C</th>\n",
              "      <td>-2.018168</td>\n",
              "      <td>0.740122</td>\n",
              "      <td>0.528813</td>\n",
              "      <td>-0.589001</td>\n",
              "      <td>-1.489355</td>\n",
              "    </tr>\n",
              "    <tr>\n",
              "      <th>D</th>\n",
              "      <td>0.188695</td>\n",
              "      <td>-0.758872</td>\n",
              "      <td>-0.933237</td>\n",
              "      <td>0.955057</td>\n",
              "      <td>-0.744542</td>\n",
              "    </tr>\n",
              "    <tr>\n",
              "      <th>E</th>\n",
              "      <td>0.190794</td>\n",
              "      <td>1.978757</td>\n",
              "      <td>2.605967</td>\n",
              "      <td>0.683509</td>\n",
              "      <td>2.796762</td>\n",
              "    </tr>\n",
              "  </tbody>\n",
              "</table>\n",
              "</div>"
            ],
            "text/plain": [
              "          W         X         Y         Z       new\n",
              "A  2.706850  0.628133  0.907969  0.503826  3.614819\n",
              "B  0.651118 -0.319318 -0.848077  0.605965 -0.196959\n",
              "C -2.018168  0.740122  0.528813 -0.589001 -1.489355\n",
              "D  0.188695 -0.758872 -0.933237  0.955057 -0.744542\n",
              "E  0.190794  1.978757  2.605967  0.683509  2.796762"
            ]
          },
          "metadata": {
            "tags": []
          },
          "execution_count": 33
        }
      ]
    },
    {
      "cell_type": "code",
      "metadata": {
        "id": "mU0U6YDupmbd",
        "colab_type": "code",
        "colab": {}
      },
      "source": [
        "df.drop('new',axis=1,inplace=True)"
      ],
      "execution_count": 0,
      "outputs": []
    },
    {
      "cell_type": "code",
      "metadata": {
        "id": "v1EFcSf4pmbh",
        "colab_type": "code",
        "colab": {
          "base_uri": "https://localhost:8080/",
          "height": 204
        },
        "outputId": "f422d7a5-5b85-4127-9bd9-0278430b7629"
      },
      "source": [
        "df"
      ],
      "execution_count": 35,
      "outputs": [
        {
          "output_type": "execute_result",
          "data": {
            "text/html": [
              "<div>\n",
              "<style scoped>\n",
              "    .dataframe tbody tr th:only-of-type {\n",
              "        vertical-align: middle;\n",
              "    }\n",
              "\n",
              "    .dataframe tbody tr th {\n",
              "        vertical-align: top;\n",
              "    }\n",
              "\n",
              "    .dataframe thead th {\n",
              "        text-align: right;\n",
              "    }\n",
              "</style>\n",
              "<table border=\"1\" class=\"dataframe\">\n",
              "  <thead>\n",
              "    <tr style=\"text-align: right;\">\n",
              "      <th></th>\n",
              "      <th>W</th>\n",
              "      <th>X</th>\n",
              "      <th>Y</th>\n",
              "      <th>Z</th>\n",
              "    </tr>\n",
              "  </thead>\n",
              "  <tbody>\n",
              "    <tr>\n",
              "      <th>A</th>\n",
              "      <td>2.706850</td>\n",
              "      <td>0.628133</td>\n",
              "      <td>0.907969</td>\n",
              "      <td>0.503826</td>\n",
              "    </tr>\n",
              "    <tr>\n",
              "      <th>B</th>\n",
              "      <td>0.651118</td>\n",
              "      <td>-0.319318</td>\n",
              "      <td>-0.848077</td>\n",
              "      <td>0.605965</td>\n",
              "    </tr>\n",
              "    <tr>\n",
              "      <th>C</th>\n",
              "      <td>-2.018168</td>\n",
              "      <td>0.740122</td>\n",
              "      <td>0.528813</td>\n",
              "      <td>-0.589001</td>\n",
              "    </tr>\n",
              "    <tr>\n",
              "      <th>D</th>\n",
              "      <td>0.188695</td>\n",
              "      <td>-0.758872</td>\n",
              "      <td>-0.933237</td>\n",
              "      <td>0.955057</td>\n",
              "    </tr>\n",
              "    <tr>\n",
              "      <th>E</th>\n",
              "      <td>0.190794</td>\n",
              "      <td>1.978757</td>\n",
              "      <td>2.605967</td>\n",
              "      <td>0.683509</td>\n",
              "    </tr>\n",
              "  </tbody>\n",
              "</table>\n",
              "</div>"
            ],
            "text/plain": [
              "          W         X         Y         Z\n",
              "A  2.706850  0.628133  0.907969  0.503826\n",
              "B  0.651118 -0.319318 -0.848077  0.605965\n",
              "C -2.018168  0.740122  0.528813 -0.589001\n",
              "D  0.188695 -0.758872 -0.933237  0.955057\n",
              "E  0.190794  1.978757  2.605967  0.683509"
            ]
          },
          "metadata": {
            "tags": []
          },
          "execution_count": 35
        }
      ]
    },
    {
      "cell_type": "markdown",
      "metadata": {
        "id": "UOWap9yNpmbn",
        "colab_type": "text"
      },
      "source": [
        "Can also drop rows this way:"
      ]
    },
    {
      "cell_type": "code",
      "metadata": {
        "id": "cRzK-lP4pmbo",
        "colab_type": "code",
        "colab": {
          "base_uri": "https://localhost:8080/",
          "height": 173
        },
        "outputId": "987a9d1b-75e0-4467-f443-ea444de2fbdb"
      },
      "source": [
        "df.drop('E',axis=0)"
      ],
      "execution_count": 36,
      "outputs": [
        {
          "output_type": "execute_result",
          "data": {
            "text/html": [
              "<div>\n",
              "<style scoped>\n",
              "    .dataframe tbody tr th:only-of-type {\n",
              "        vertical-align: middle;\n",
              "    }\n",
              "\n",
              "    .dataframe tbody tr th {\n",
              "        vertical-align: top;\n",
              "    }\n",
              "\n",
              "    .dataframe thead th {\n",
              "        text-align: right;\n",
              "    }\n",
              "</style>\n",
              "<table border=\"1\" class=\"dataframe\">\n",
              "  <thead>\n",
              "    <tr style=\"text-align: right;\">\n",
              "      <th></th>\n",
              "      <th>W</th>\n",
              "      <th>X</th>\n",
              "      <th>Y</th>\n",
              "      <th>Z</th>\n",
              "    </tr>\n",
              "  </thead>\n",
              "  <tbody>\n",
              "    <tr>\n",
              "      <th>A</th>\n",
              "      <td>2.706850</td>\n",
              "      <td>0.628133</td>\n",
              "      <td>0.907969</td>\n",
              "      <td>0.503826</td>\n",
              "    </tr>\n",
              "    <tr>\n",
              "      <th>B</th>\n",
              "      <td>0.651118</td>\n",
              "      <td>-0.319318</td>\n",
              "      <td>-0.848077</td>\n",
              "      <td>0.605965</td>\n",
              "    </tr>\n",
              "    <tr>\n",
              "      <th>C</th>\n",
              "      <td>-2.018168</td>\n",
              "      <td>0.740122</td>\n",
              "      <td>0.528813</td>\n",
              "      <td>-0.589001</td>\n",
              "    </tr>\n",
              "    <tr>\n",
              "      <th>D</th>\n",
              "      <td>0.188695</td>\n",
              "      <td>-0.758872</td>\n",
              "      <td>-0.933237</td>\n",
              "      <td>0.955057</td>\n",
              "    </tr>\n",
              "  </tbody>\n",
              "</table>\n",
              "</div>"
            ],
            "text/plain": [
              "          W         X         Y         Z\n",
              "A  2.706850  0.628133  0.907969  0.503826\n",
              "B  0.651118 -0.319318 -0.848077  0.605965\n",
              "C -2.018168  0.740122  0.528813 -0.589001\n",
              "D  0.188695 -0.758872 -0.933237  0.955057"
            ]
          },
          "metadata": {
            "tags": []
          },
          "execution_count": 36
        }
      ]
    },
    {
      "cell_type": "code",
      "metadata": {
        "id": "bIfLdCU65yga",
        "colab_type": "code",
        "colab": {
          "base_uri": "https://localhost:8080/",
          "height": 483
        },
        "outputId": "7e0a3d5a-49dd-4fc0-b7d1-87fdfc8b72d3"
      },
      "source": [
        "df1.drop('H',axis=0)"
      ],
      "execution_count": 37,
      "outputs": [
        {
          "output_type": "execute_result",
          "data": {
            "text/html": [
              "<div>\n",
              "<style scoped>\n",
              "    .dataframe tbody tr th:only-of-type {\n",
              "        vertical-align: middle;\n",
              "    }\n",
              "\n",
              "    .dataframe tbody tr th {\n",
              "        vertical-align: top;\n",
              "    }\n",
              "\n",
              "    .dataframe thead th {\n",
              "        text-align: right;\n",
              "    }\n",
              "</style>\n",
              "<table border=\"1\" class=\"dataframe\">\n",
              "  <thead>\n",
              "    <tr style=\"text-align: right;\">\n",
              "      <th></th>\n",
              "      <th>Season</th>\n",
              "      <th>Brand</th>\n",
              "      <th>Description</th>\n",
              "      <th>Name</th>\n",
              "      <th>Boot</th>\n",
              "      <th>Off-White</th>\n",
              "      <th>Turfah</th>\n",
              "      <th>Louboutin</th>\n",
              "      <th>Amber</th>\n",
              "    </tr>\n",
              "  </thead>\n",
              "  <tbody>\n",
              "    <tr>\n",
              "      <th>A</th>\n",
              "      <td>-0.416758</td>\n",
              "      <td>-0.056267</td>\n",
              "      <td>-2.136196</td>\n",
              "      <td>1.640271</td>\n",
              "      <td>-1.793436</td>\n",
              "      <td>-0.841747</td>\n",
              "      <td>0.502881</td>\n",
              "      <td>-1.245288</td>\n",
              "      <td>-0.742407</td>\n",
              "    </tr>\n",
              "    <tr>\n",
              "      <th>B</th>\n",
              "      <td>-1.057952</td>\n",
              "      <td>-0.909008</td>\n",
              "      <td>0.551454</td>\n",
              "      <td>2.292208</td>\n",
              "      <td>0.041539</td>\n",
              "      <td>-1.117925</td>\n",
              "      <td>0.539058</td>\n",
              "      <td>-0.596160</td>\n",
              "      <td>-0.057101</td>\n",
              "    </tr>\n",
              "    <tr>\n",
              "      <th>C</th>\n",
              "      <td>-0.019130</td>\n",
              "      <td>1.175001</td>\n",
              "      <td>-0.747871</td>\n",
              "      <td>0.009025</td>\n",
              "      <td>-0.878108</td>\n",
              "      <td>-0.156434</td>\n",
              "      <td>0.256570</td>\n",
              "      <td>-0.988779</td>\n",
              "      <td>-0.732209</td>\n",
              "    </tr>\n",
              "    <tr>\n",
              "      <th>D</th>\n",
              "      <td>-0.338822</td>\n",
              "      <td>-0.236184</td>\n",
              "      <td>-0.637655</td>\n",
              "      <td>-1.187612</td>\n",
              "      <td>-1.421217</td>\n",
              "      <td>-0.153495</td>\n",
              "      <td>-0.269057</td>\n",
              "      <td>2.231367</td>\n",
              "      <td>1.962310</td>\n",
              "    </tr>\n",
              "    <tr>\n",
              "      <th>E</th>\n",
              "      <td>-2.434768</td>\n",
              "      <td>0.112727</td>\n",
              "      <td>0.370445</td>\n",
              "      <td>1.359634</td>\n",
              "      <td>0.501857</td>\n",
              "      <td>-0.844214</td>\n",
              "      <td>0.000010</td>\n",
              "      <td>0.542353</td>\n",
              "      <td>0.542362</td>\n",
              "    </tr>\n",
              "    <tr>\n",
              "      <th>F</th>\n",
              "      <td>-0.313508</td>\n",
              "      <td>0.771012</td>\n",
              "      <td>-1.868091</td>\n",
              "      <td>1.731185</td>\n",
              "      <td>1.467678</td>\n",
              "      <td>-0.335677</td>\n",
              "      <td>0.611341</td>\n",
              "      <td>0.047971</td>\n",
              "      <td>0.659311</td>\n",
              "    </tr>\n",
              "    <tr>\n",
              "      <th>G</th>\n",
              "      <td>-0.829135</td>\n",
              "      <td>0.087710</td>\n",
              "      <td>1.000366</td>\n",
              "      <td>-0.381093</td>\n",
              "      <td>-0.375669</td>\n",
              "      <td>-0.074471</td>\n",
              "      <td>0.433496</td>\n",
              "      <td>1.278379</td>\n",
              "      <td>1.711876</td>\n",
              "    </tr>\n",
              "    <tr>\n",
              "      <th>I</th>\n",
              "      <td>-2.040323</td>\n",
              "      <td>0.046256</td>\n",
              "      <td>-0.677676</td>\n",
              "      <td>-1.439439</td>\n",
              "      <td>0.524296</td>\n",
              "      <td>0.735280</td>\n",
              "      <td>-0.653250</td>\n",
              "      <td>0.842456</td>\n",
              "      <td>0.189206</td>\n",
              "    </tr>\n",
              "    <tr>\n",
              "      <th>J</th>\n",
              "      <td>-0.381516</td>\n",
              "      <td>0.066489</td>\n",
              "      <td>-1.098739</td>\n",
              "      <td>1.584487</td>\n",
              "      <td>-2.659449</td>\n",
              "      <td>-0.091453</td>\n",
              "      <td>0.695120</td>\n",
              "      <td>-2.033467</td>\n",
              "      <td>-1.338347</td>\n",
              "    </tr>\n",
              "    <tr>\n",
              "      <th>K</th>\n",
              "      <td>-0.189469</td>\n",
              "      <td>-0.077219</td>\n",
              "      <td>0.824703</td>\n",
              "      <td>1.248213</td>\n",
              "      <td>-0.403892</td>\n",
              "      <td>-1.384519</td>\n",
              "      <td>1.367235</td>\n",
              "      <td>1.217886</td>\n",
              "      <td>2.585121</td>\n",
              "    </tr>\n",
              "    <tr>\n",
              "      <th>L</th>\n",
              "      <td>-0.462005</td>\n",
              "      <td>0.350888</td>\n",
              "      <td>0.381866</td>\n",
              "      <td>0.566275</td>\n",
              "      <td>0.204208</td>\n",
              "      <td>1.406696</td>\n",
              "      <td>-1.737960</td>\n",
              "      <td>1.040824</td>\n",
              "      <td>-0.697136</td>\n",
              "    </tr>\n",
              "    <tr>\n",
              "      <th>M</th>\n",
              "      <td>0.380472</td>\n",
              "      <td>-0.217135</td>\n",
              "      <td>1.173531</td>\n",
              "      <td>-2.343603</td>\n",
              "      <td>1.161521</td>\n",
              "      <td>0.386078</td>\n",
              "      <td>-1.133133</td>\n",
              "      <td>0.433093</td>\n",
              "      <td>-0.700041</td>\n",
              "    </tr>\n",
              "    <tr>\n",
              "      <th>N</th>\n",
              "      <td>-0.304086</td>\n",
              "      <td>2.585295</td>\n",
              "      <td>1.835333</td>\n",
              "      <td>0.440690</td>\n",
              "      <td>-0.719254</td>\n",
              "      <td>-0.583415</td>\n",
              "      <td>-0.325050</td>\n",
              "      <td>-0.560235</td>\n",
              "      <td>-0.885284</td>\n",
              "    </tr>\n",
              "    <tr>\n",
              "      <th>O</th>\n",
              "      <td>-0.902246</td>\n",
              "      <td>-0.590972</td>\n",
              "      <td>-0.276179</td>\n",
              "      <td>-0.516884</td>\n",
              "      <td>-0.698590</td>\n",
              "      <td>-0.928892</td>\n",
              "      <td>2.550438</td>\n",
              "      <td>-1.473173</td>\n",
              "      <td>1.077265</td>\n",
              "    </tr>\n",
              "  </tbody>\n",
              "</table>\n",
              "</div>"
            ],
            "text/plain": [
              "     Season     Brand  Description      Name      Boot  Off-White    Turfah  \\\n",
              "A -0.416758 -0.056267    -2.136196  1.640271 -1.793436  -0.841747  0.502881   \n",
              "B -1.057952 -0.909008     0.551454  2.292208  0.041539  -1.117925  0.539058   \n",
              "C -0.019130  1.175001    -0.747871  0.009025 -0.878108  -0.156434  0.256570   \n",
              "D -0.338822 -0.236184    -0.637655 -1.187612 -1.421217  -0.153495 -0.269057   \n",
              "E -2.434768  0.112727     0.370445  1.359634  0.501857  -0.844214  0.000010   \n",
              "F -0.313508  0.771012    -1.868091  1.731185  1.467678  -0.335677  0.611341   \n",
              "G -0.829135  0.087710     1.000366 -0.381093 -0.375669  -0.074471  0.433496   \n",
              "I -2.040323  0.046256    -0.677676 -1.439439  0.524296   0.735280 -0.653250   \n",
              "J -0.381516  0.066489    -1.098739  1.584487 -2.659449  -0.091453  0.695120   \n",
              "K -0.189469 -0.077219     0.824703  1.248213 -0.403892  -1.384519  1.367235   \n",
              "L -0.462005  0.350888     0.381866  0.566275  0.204208   1.406696 -1.737960   \n",
              "M  0.380472 -0.217135     1.173531 -2.343603  1.161521   0.386078 -1.133133   \n",
              "N -0.304086  2.585295     1.835333  0.440690 -0.719254  -0.583415 -0.325050   \n",
              "O -0.902246 -0.590972    -0.276179 -0.516884 -0.698590  -0.928892  2.550438   \n",
              "\n",
              "   Louboutin     Amber  \n",
              "A  -1.245288 -0.742407  \n",
              "B  -0.596160 -0.057101  \n",
              "C  -0.988779 -0.732209  \n",
              "D   2.231367  1.962310  \n",
              "E   0.542353  0.542362  \n",
              "F   0.047971  0.659311  \n",
              "G   1.278379  1.711876  \n",
              "I   0.842456  0.189206  \n",
              "J  -2.033467 -1.338347  \n",
              "K   1.217886  2.585121  \n",
              "L   1.040824 -0.697136  \n",
              "M   0.433093 -0.700041  \n",
              "N  -0.560235 -0.885284  \n",
              "O  -1.473173  1.077265  "
            ]
          },
          "metadata": {
            "tags": []
          },
          "execution_count": 37
        }
      ]
    },
    {
      "cell_type": "markdown",
      "metadata": {
        "id": "eBkjeZ1vpmbt",
        "colab_type": "text"
      },
      "source": [
        "** Selecting Rows**"
      ]
    },
    {
      "cell_type": "code",
      "metadata": {
        "id": "kcWKesZ5pmbu",
        "colab_type": "code",
        "colab": {
          "base_uri": "https://localhost:8080/",
          "height": 102
        },
        "outputId": "58cf76ac-65e1-4427-92df-9dcdbc0c0a06"
      },
      "source": [
        "df.loc['A']"
      ],
      "execution_count": 38,
      "outputs": [
        {
          "output_type": "execute_result",
          "data": {
            "text/plain": [
              "W    2.706850\n",
              "X    0.628133\n",
              "Y    0.907969\n",
              "Z    0.503826\n",
              "Name: A, dtype: float64"
            ]
          },
          "metadata": {
            "tags": []
          },
          "execution_count": 38
        }
      ]
    },
    {
      "cell_type": "code",
      "metadata": {
        "id": "NQv2dZL_6KtU",
        "colab_type": "code",
        "colab": {
          "base_uri": "https://localhost:8080/",
          "height": 187
        },
        "outputId": "90aea793-9700-4df0-939e-d8487d5c9ec2"
      },
      "source": [
        "df1.loc['G']"
      ],
      "execution_count": 39,
      "outputs": [
        {
          "output_type": "execute_result",
          "data": {
            "text/plain": [
              "Season        -0.829135\n",
              "Brand          0.087710\n",
              "Description    1.000366\n",
              "Name          -0.381093\n",
              "Boot          -0.375669\n",
              "Off-White     -0.074471\n",
              "Turfah         0.433496\n",
              "Louboutin      1.278379\n",
              "Amber          1.711876\n",
              "Name: G, dtype: float64"
            ]
          },
          "metadata": {
            "tags": []
          },
          "execution_count": 39
        }
      ]
    },
    {
      "cell_type": "markdown",
      "metadata": {
        "id": "7cOSHzInpmb3",
        "colab_type": "text"
      },
      "source": [
        "Or select based off of position instead of label "
      ]
    },
    {
      "cell_type": "code",
      "metadata": {
        "id": "5UxyTpwlpmb4",
        "colab_type": "code",
        "colab": {
          "base_uri": "https://localhost:8080/",
          "height": 102
        },
        "outputId": "2ac863c8-ce82-4d55-a220-a39e96a3025b"
      },
      "source": [
        "df.iloc[2]"
      ],
      "execution_count": 40,
      "outputs": [
        {
          "output_type": "execute_result",
          "data": {
            "text/plain": [
              "W   -2.018168\n",
              "X    0.740122\n",
              "Y    0.528813\n",
              "Z   -0.589001\n",
              "Name: C, dtype: float64"
            ]
          },
          "metadata": {
            "tags": []
          },
          "execution_count": 40
        }
      ]
    },
    {
      "cell_type": "code",
      "metadata": {
        "id": "Tl30f26a6cLW",
        "colab_type": "code",
        "colab": {
          "base_uri": "https://localhost:8080/",
          "height": 187
        },
        "outputId": "61305439-7e14-48c2-a2fb-b901d818ffd7"
      },
      "source": [
        "df1.iloc[5]"
      ],
      "execution_count": 41,
      "outputs": [
        {
          "output_type": "execute_result",
          "data": {
            "text/plain": [
              "Season        -0.313508\n",
              "Brand          0.771012\n",
              "Description   -1.868091\n",
              "Name           1.731185\n",
              "Boot           1.467678\n",
              "Off-White     -0.335677\n",
              "Turfah         0.611341\n",
              "Louboutin      0.047971\n",
              "Amber          0.659311\n",
              "Name: F, dtype: float64"
            ]
          },
          "metadata": {
            "tags": []
          },
          "execution_count": 41
        }
      ]
    },
    {
      "cell_type": "markdown",
      "metadata": {
        "id": "lOjJNbWFpmb9",
        "colab_type": "text"
      },
      "source": [
        "** Selecting subset of rows and columns **"
      ]
    },
    {
      "cell_type": "code",
      "metadata": {
        "id": "pdOMJmYgpmb-",
        "colab_type": "code",
        "colab": {
          "base_uri": "https://localhost:8080/",
          "height": 34
        },
        "outputId": "83d55430-2203-4871-8e3b-29220b4ab2e5"
      },
      "source": [
        "df.loc['B','Y']"
      ],
      "execution_count": 42,
      "outputs": [
        {
          "output_type": "execute_result",
          "data": {
            "text/plain": [
              "-0.8480769834036315"
            ]
          },
          "metadata": {
            "tags": []
          },
          "execution_count": 42
        }
      ]
    },
    {
      "cell_type": "code",
      "metadata": {
        "id": "l3OpEjGE6xYx",
        "colab_type": "code",
        "colab": {
          "base_uri": "https://localhost:8080/",
          "height": 34
        },
        "outputId": "1f943ec4-141a-4c64-ba53-157cbf2383d3"
      },
      "source": [
        "df1.loc['J','Boot']"
      ],
      "execution_count": 43,
      "outputs": [
        {
          "output_type": "execute_result",
          "data": {
            "text/plain": [
              "-2.6594494563834883"
            ]
          },
          "metadata": {
            "tags": []
          },
          "execution_count": 43
        }
      ]
    },
    {
      "cell_type": "code",
      "metadata": {
        "id": "ed2QQqh-pmcC",
        "colab_type": "code",
        "colab": {
          "base_uri": "https://localhost:8080/",
          "height": 111
        },
        "outputId": "340d8a53-8697-4f68-f713-587911a5d320"
      },
      "source": [
        "df.loc[['A','B'],['W','Y']]"
      ],
      "execution_count": 44,
      "outputs": [
        {
          "output_type": "execute_result",
          "data": {
            "text/html": [
              "<div>\n",
              "<style scoped>\n",
              "    .dataframe tbody tr th:only-of-type {\n",
              "        vertical-align: middle;\n",
              "    }\n",
              "\n",
              "    .dataframe tbody tr th {\n",
              "        vertical-align: top;\n",
              "    }\n",
              "\n",
              "    .dataframe thead th {\n",
              "        text-align: right;\n",
              "    }\n",
              "</style>\n",
              "<table border=\"1\" class=\"dataframe\">\n",
              "  <thead>\n",
              "    <tr style=\"text-align: right;\">\n",
              "      <th></th>\n",
              "      <th>W</th>\n",
              "      <th>Y</th>\n",
              "    </tr>\n",
              "  </thead>\n",
              "  <tbody>\n",
              "    <tr>\n",
              "      <th>A</th>\n",
              "      <td>2.706850</td>\n",
              "      <td>0.907969</td>\n",
              "    </tr>\n",
              "    <tr>\n",
              "      <th>B</th>\n",
              "      <td>0.651118</td>\n",
              "      <td>-0.848077</td>\n",
              "    </tr>\n",
              "  </tbody>\n",
              "</table>\n",
              "</div>"
            ],
            "text/plain": [
              "          W         Y\n",
              "A  2.706850  0.907969\n",
              "B  0.651118 -0.848077"
            ]
          },
          "metadata": {
            "tags": []
          },
          "execution_count": 44
        }
      ]
    },
    {
      "cell_type": "code",
      "metadata": {
        "id": "UbsMs-_D7Pnx",
        "colab_type": "code",
        "colab": {
          "base_uri": "https://localhost:8080/",
          "height": 111
        },
        "outputId": "b942a2c7-c07c-432d-b0d9-7a7733ad466f"
      },
      "source": [
        "df1.loc[['M','E'], ['Brand', 'Season']]"
      ],
      "execution_count": 45,
      "outputs": [
        {
          "output_type": "execute_result",
          "data": {
            "text/html": [
              "<div>\n",
              "<style scoped>\n",
              "    .dataframe tbody tr th:only-of-type {\n",
              "        vertical-align: middle;\n",
              "    }\n",
              "\n",
              "    .dataframe tbody tr th {\n",
              "        vertical-align: top;\n",
              "    }\n",
              "\n",
              "    .dataframe thead th {\n",
              "        text-align: right;\n",
              "    }\n",
              "</style>\n",
              "<table border=\"1\" class=\"dataframe\">\n",
              "  <thead>\n",
              "    <tr style=\"text-align: right;\">\n",
              "      <th></th>\n",
              "      <th>Brand</th>\n",
              "      <th>Season</th>\n",
              "    </tr>\n",
              "  </thead>\n",
              "  <tbody>\n",
              "    <tr>\n",
              "      <th>M</th>\n",
              "      <td>-0.217135</td>\n",
              "      <td>0.380472</td>\n",
              "    </tr>\n",
              "    <tr>\n",
              "      <th>E</th>\n",
              "      <td>0.112727</td>\n",
              "      <td>-2.434768</td>\n",
              "    </tr>\n",
              "  </tbody>\n",
              "</table>\n",
              "</div>"
            ],
            "text/plain": [
              "      Brand    Season\n",
              "M -0.217135  0.380472\n",
              "E  0.112727 -2.434768"
            ]
          },
          "metadata": {
            "tags": []
          },
          "execution_count": 45
        }
      ]
    },
    {
      "cell_type": "markdown",
      "metadata": {
        "id": "Vxt_RjIOpmcG",
        "colab_type": "text"
      },
      "source": [
        "### Conditional Selection\n",
        "\n",
        "An important feature of pandas is conditional selection using bracket notation, very similar to numpy:"
      ]
    },
    {
      "cell_type": "code",
      "metadata": {
        "id": "w2e9zXkkpmcH",
        "colab_type": "code",
        "colab": {
          "base_uri": "https://localhost:8080/",
          "height": 204
        },
        "outputId": "46e475f9-c0b6-4c97-e3e1-42f4a159d1de"
      },
      "source": [
        "df"
      ],
      "execution_count": 46,
      "outputs": [
        {
          "output_type": "execute_result",
          "data": {
            "text/html": [
              "<div>\n",
              "<style scoped>\n",
              "    .dataframe tbody tr th:only-of-type {\n",
              "        vertical-align: middle;\n",
              "    }\n",
              "\n",
              "    .dataframe tbody tr th {\n",
              "        vertical-align: top;\n",
              "    }\n",
              "\n",
              "    .dataframe thead th {\n",
              "        text-align: right;\n",
              "    }\n",
              "</style>\n",
              "<table border=\"1\" class=\"dataframe\">\n",
              "  <thead>\n",
              "    <tr style=\"text-align: right;\">\n",
              "      <th></th>\n",
              "      <th>W</th>\n",
              "      <th>X</th>\n",
              "      <th>Y</th>\n",
              "      <th>Z</th>\n",
              "    </tr>\n",
              "  </thead>\n",
              "  <tbody>\n",
              "    <tr>\n",
              "      <th>A</th>\n",
              "      <td>2.706850</td>\n",
              "      <td>0.628133</td>\n",
              "      <td>0.907969</td>\n",
              "      <td>0.503826</td>\n",
              "    </tr>\n",
              "    <tr>\n",
              "      <th>B</th>\n",
              "      <td>0.651118</td>\n",
              "      <td>-0.319318</td>\n",
              "      <td>-0.848077</td>\n",
              "      <td>0.605965</td>\n",
              "    </tr>\n",
              "    <tr>\n",
              "      <th>C</th>\n",
              "      <td>-2.018168</td>\n",
              "      <td>0.740122</td>\n",
              "      <td>0.528813</td>\n",
              "      <td>-0.589001</td>\n",
              "    </tr>\n",
              "    <tr>\n",
              "      <th>D</th>\n",
              "      <td>0.188695</td>\n",
              "      <td>-0.758872</td>\n",
              "      <td>-0.933237</td>\n",
              "      <td>0.955057</td>\n",
              "    </tr>\n",
              "    <tr>\n",
              "      <th>E</th>\n",
              "      <td>0.190794</td>\n",
              "      <td>1.978757</td>\n",
              "      <td>2.605967</td>\n",
              "      <td>0.683509</td>\n",
              "    </tr>\n",
              "  </tbody>\n",
              "</table>\n",
              "</div>"
            ],
            "text/plain": [
              "          W         X         Y         Z\n",
              "A  2.706850  0.628133  0.907969  0.503826\n",
              "B  0.651118 -0.319318 -0.848077  0.605965\n",
              "C -2.018168  0.740122  0.528813 -0.589001\n",
              "D  0.188695 -0.758872 -0.933237  0.955057\n",
              "E  0.190794  1.978757  2.605967  0.683509"
            ]
          },
          "metadata": {
            "tags": []
          },
          "execution_count": 46
        }
      ]
    },
    {
      "cell_type": "code",
      "metadata": {
        "id": "oCgqZ2UJ8tRJ",
        "colab_type": "code",
        "colab": {
          "base_uri": "https://localhost:8080/",
          "height": 514
        },
        "outputId": "b1d6ac0b-ba3c-4e90-a3eb-735e132fe073"
      },
      "source": [
        "df1"
      ],
      "execution_count": 47,
      "outputs": [
        {
          "output_type": "execute_result",
          "data": {
            "text/html": [
              "<div>\n",
              "<style scoped>\n",
              "    .dataframe tbody tr th:only-of-type {\n",
              "        vertical-align: middle;\n",
              "    }\n",
              "\n",
              "    .dataframe tbody tr th {\n",
              "        vertical-align: top;\n",
              "    }\n",
              "\n",
              "    .dataframe thead th {\n",
              "        text-align: right;\n",
              "    }\n",
              "</style>\n",
              "<table border=\"1\" class=\"dataframe\">\n",
              "  <thead>\n",
              "    <tr style=\"text-align: right;\">\n",
              "      <th></th>\n",
              "      <th>Season</th>\n",
              "      <th>Brand</th>\n",
              "      <th>Description</th>\n",
              "      <th>Name</th>\n",
              "      <th>Boot</th>\n",
              "      <th>Off-White</th>\n",
              "      <th>Turfah</th>\n",
              "      <th>Louboutin</th>\n",
              "      <th>Amber</th>\n",
              "    </tr>\n",
              "  </thead>\n",
              "  <tbody>\n",
              "    <tr>\n",
              "      <th>A</th>\n",
              "      <td>-0.416758</td>\n",
              "      <td>-0.056267</td>\n",
              "      <td>-2.136196</td>\n",
              "      <td>1.640271</td>\n",
              "      <td>-1.793436</td>\n",
              "      <td>-0.841747</td>\n",
              "      <td>0.502881</td>\n",
              "      <td>-1.245288</td>\n",
              "      <td>-0.742407</td>\n",
              "    </tr>\n",
              "    <tr>\n",
              "      <th>B</th>\n",
              "      <td>-1.057952</td>\n",
              "      <td>-0.909008</td>\n",
              "      <td>0.551454</td>\n",
              "      <td>2.292208</td>\n",
              "      <td>0.041539</td>\n",
              "      <td>-1.117925</td>\n",
              "      <td>0.539058</td>\n",
              "      <td>-0.596160</td>\n",
              "      <td>-0.057101</td>\n",
              "    </tr>\n",
              "    <tr>\n",
              "      <th>C</th>\n",
              "      <td>-0.019130</td>\n",
              "      <td>1.175001</td>\n",
              "      <td>-0.747871</td>\n",
              "      <td>0.009025</td>\n",
              "      <td>-0.878108</td>\n",
              "      <td>-0.156434</td>\n",
              "      <td>0.256570</td>\n",
              "      <td>-0.988779</td>\n",
              "      <td>-0.732209</td>\n",
              "    </tr>\n",
              "    <tr>\n",
              "      <th>D</th>\n",
              "      <td>-0.338822</td>\n",
              "      <td>-0.236184</td>\n",
              "      <td>-0.637655</td>\n",
              "      <td>-1.187612</td>\n",
              "      <td>-1.421217</td>\n",
              "      <td>-0.153495</td>\n",
              "      <td>-0.269057</td>\n",
              "      <td>2.231367</td>\n",
              "      <td>1.962310</td>\n",
              "    </tr>\n",
              "    <tr>\n",
              "      <th>E</th>\n",
              "      <td>-2.434768</td>\n",
              "      <td>0.112727</td>\n",
              "      <td>0.370445</td>\n",
              "      <td>1.359634</td>\n",
              "      <td>0.501857</td>\n",
              "      <td>-0.844214</td>\n",
              "      <td>0.000010</td>\n",
              "      <td>0.542353</td>\n",
              "      <td>0.542362</td>\n",
              "    </tr>\n",
              "    <tr>\n",
              "      <th>F</th>\n",
              "      <td>-0.313508</td>\n",
              "      <td>0.771012</td>\n",
              "      <td>-1.868091</td>\n",
              "      <td>1.731185</td>\n",
              "      <td>1.467678</td>\n",
              "      <td>-0.335677</td>\n",
              "      <td>0.611341</td>\n",
              "      <td>0.047971</td>\n",
              "      <td>0.659311</td>\n",
              "    </tr>\n",
              "    <tr>\n",
              "      <th>G</th>\n",
              "      <td>-0.829135</td>\n",
              "      <td>0.087710</td>\n",
              "      <td>1.000366</td>\n",
              "      <td>-0.381093</td>\n",
              "      <td>-0.375669</td>\n",
              "      <td>-0.074471</td>\n",
              "      <td>0.433496</td>\n",
              "      <td>1.278379</td>\n",
              "      <td>1.711876</td>\n",
              "    </tr>\n",
              "    <tr>\n",
              "      <th>H</th>\n",
              "      <td>-0.634679</td>\n",
              "      <td>0.508396</td>\n",
              "      <td>0.216116</td>\n",
              "      <td>-1.858612</td>\n",
              "      <td>-0.419316</td>\n",
              "      <td>-0.132329</td>\n",
              "      <td>-0.039570</td>\n",
              "      <td>0.326003</td>\n",
              "      <td>0.286433</td>\n",
              "    </tr>\n",
              "    <tr>\n",
              "      <th>I</th>\n",
              "      <td>-2.040323</td>\n",
              "      <td>0.046256</td>\n",
              "      <td>-0.677676</td>\n",
              "      <td>-1.439439</td>\n",
              "      <td>0.524296</td>\n",
              "      <td>0.735280</td>\n",
              "      <td>-0.653250</td>\n",
              "      <td>0.842456</td>\n",
              "      <td>0.189206</td>\n",
              "    </tr>\n",
              "    <tr>\n",
              "      <th>J</th>\n",
              "      <td>-0.381516</td>\n",
              "      <td>0.066489</td>\n",
              "      <td>-1.098739</td>\n",
              "      <td>1.584487</td>\n",
              "      <td>-2.659449</td>\n",
              "      <td>-0.091453</td>\n",
              "      <td>0.695120</td>\n",
              "      <td>-2.033467</td>\n",
              "      <td>-1.338347</td>\n",
              "    </tr>\n",
              "    <tr>\n",
              "      <th>K</th>\n",
              "      <td>-0.189469</td>\n",
              "      <td>-0.077219</td>\n",
              "      <td>0.824703</td>\n",
              "      <td>1.248213</td>\n",
              "      <td>-0.403892</td>\n",
              "      <td>-1.384519</td>\n",
              "      <td>1.367235</td>\n",
              "      <td>1.217886</td>\n",
              "      <td>2.585121</td>\n",
              "    </tr>\n",
              "    <tr>\n",
              "      <th>L</th>\n",
              "      <td>-0.462005</td>\n",
              "      <td>0.350888</td>\n",
              "      <td>0.381866</td>\n",
              "      <td>0.566275</td>\n",
              "      <td>0.204208</td>\n",
              "      <td>1.406696</td>\n",
              "      <td>-1.737960</td>\n",
              "      <td>1.040824</td>\n",
              "      <td>-0.697136</td>\n",
              "    </tr>\n",
              "    <tr>\n",
              "      <th>M</th>\n",
              "      <td>0.380472</td>\n",
              "      <td>-0.217135</td>\n",
              "      <td>1.173531</td>\n",
              "      <td>-2.343603</td>\n",
              "      <td>1.161521</td>\n",
              "      <td>0.386078</td>\n",
              "      <td>-1.133133</td>\n",
              "      <td>0.433093</td>\n",
              "      <td>-0.700041</td>\n",
              "    </tr>\n",
              "    <tr>\n",
              "      <th>N</th>\n",
              "      <td>-0.304086</td>\n",
              "      <td>2.585295</td>\n",
              "      <td>1.835333</td>\n",
              "      <td>0.440690</td>\n",
              "      <td>-0.719254</td>\n",
              "      <td>-0.583415</td>\n",
              "      <td>-0.325050</td>\n",
              "      <td>-0.560235</td>\n",
              "      <td>-0.885284</td>\n",
              "    </tr>\n",
              "    <tr>\n",
              "      <th>O</th>\n",
              "      <td>-0.902246</td>\n",
              "      <td>-0.590972</td>\n",
              "      <td>-0.276179</td>\n",
              "      <td>-0.516884</td>\n",
              "      <td>-0.698590</td>\n",
              "      <td>-0.928892</td>\n",
              "      <td>2.550438</td>\n",
              "      <td>-1.473173</td>\n",
              "      <td>1.077265</td>\n",
              "    </tr>\n",
              "  </tbody>\n",
              "</table>\n",
              "</div>"
            ],
            "text/plain": [
              "     Season     Brand  Description      Name      Boot  Off-White    Turfah  \\\n",
              "A -0.416758 -0.056267    -2.136196  1.640271 -1.793436  -0.841747  0.502881   \n",
              "B -1.057952 -0.909008     0.551454  2.292208  0.041539  -1.117925  0.539058   \n",
              "C -0.019130  1.175001    -0.747871  0.009025 -0.878108  -0.156434  0.256570   \n",
              "D -0.338822 -0.236184    -0.637655 -1.187612 -1.421217  -0.153495 -0.269057   \n",
              "E -2.434768  0.112727     0.370445  1.359634  0.501857  -0.844214  0.000010   \n",
              "F -0.313508  0.771012    -1.868091  1.731185  1.467678  -0.335677  0.611341   \n",
              "G -0.829135  0.087710     1.000366 -0.381093 -0.375669  -0.074471  0.433496   \n",
              "H -0.634679  0.508396     0.216116 -1.858612 -0.419316  -0.132329 -0.039570   \n",
              "I -2.040323  0.046256    -0.677676 -1.439439  0.524296   0.735280 -0.653250   \n",
              "J -0.381516  0.066489    -1.098739  1.584487 -2.659449  -0.091453  0.695120   \n",
              "K -0.189469 -0.077219     0.824703  1.248213 -0.403892  -1.384519  1.367235   \n",
              "L -0.462005  0.350888     0.381866  0.566275  0.204208   1.406696 -1.737960   \n",
              "M  0.380472 -0.217135     1.173531 -2.343603  1.161521   0.386078 -1.133133   \n",
              "N -0.304086  2.585295     1.835333  0.440690 -0.719254  -0.583415 -0.325050   \n",
              "O -0.902246 -0.590972    -0.276179 -0.516884 -0.698590  -0.928892  2.550438   \n",
              "\n",
              "   Louboutin     Amber  \n",
              "A  -1.245288 -0.742407  \n",
              "B  -0.596160 -0.057101  \n",
              "C  -0.988779 -0.732209  \n",
              "D   2.231367  1.962310  \n",
              "E   0.542353  0.542362  \n",
              "F   0.047971  0.659311  \n",
              "G   1.278379  1.711876  \n",
              "H   0.326003  0.286433  \n",
              "I   0.842456  0.189206  \n",
              "J  -2.033467 -1.338347  \n",
              "K   1.217886  2.585121  \n",
              "L   1.040824 -0.697136  \n",
              "M   0.433093 -0.700041  \n",
              "N  -0.560235 -0.885284  \n",
              "O  -1.473173  1.077265  "
            ]
          },
          "metadata": {
            "tags": []
          },
          "execution_count": 47
        }
      ]
    },
    {
      "cell_type": "code",
      "metadata": {
        "id": "fj4dNzdTpmcL",
        "colab_type": "code",
        "colab": {
          "base_uri": "https://localhost:8080/",
          "height": 204
        },
        "outputId": "e8fdb0a2-9653-4d90-9fdb-c4dfba239ff2"
      },
      "source": [
        "df>0"
      ],
      "execution_count": 48,
      "outputs": [
        {
          "output_type": "execute_result",
          "data": {
            "text/html": [
              "<div>\n",
              "<style scoped>\n",
              "    .dataframe tbody tr th:only-of-type {\n",
              "        vertical-align: middle;\n",
              "    }\n",
              "\n",
              "    .dataframe tbody tr th {\n",
              "        vertical-align: top;\n",
              "    }\n",
              "\n",
              "    .dataframe thead th {\n",
              "        text-align: right;\n",
              "    }\n",
              "</style>\n",
              "<table border=\"1\" class=\"dataframe\">\n",
              "  <thead>\n",
              "    <tr style=\"text-align: right;\">\n",
              "      <th></th>\n",
              "      <th>W</th>\n",
              "      <th>X</th>\n",
              "      <th>Y</th>\n",
              "      <th>Z</th>\n",
              "    </tr>\n",
              "  </thead>\n",
              "  <tbody>\n",
              "    <tr>\n",
              "      <th>A</th>\n",
              "      <td>True</td>\n",
              "      <td>True</td>\n",
              "      <td>True</td>\n",
              "      <td>True</td>\n",
              "    </tr>\n",
              "    <tr>\n",
              "      <th>B</th>\n",
              "      <td>True</td>\n",
              "      <td>False</td>\n",
              "      <td>False</td>\n",
              "      <td>True</td>\n",
              "    </tr>\n",
              "    <tr>\n",
              "      <th>C</th>\n",
              "      <td>False</td>\n",
              "      <td>True</td>\n",
              "      <td>True</td>\n",
              "      <td>False</td>\n",
              "    </tr>\n",
              "    <tr>\n",
              "      <th>D</th>\n",
              "      <td>True</td>\n",
              "      <td>False</td>\n",
              "      <td>False</td>\n",
              "      <td>True</td>\n",
              "    </tr>\n",
              "    <tr>\n",
              "      <th>E</th>\n",
              "      <td>True</td>\n",
              "      <td>True</td>\n",
              "      <td>True</td>\n",
              "      <td>True</td>\n",
              "    </tr>\n",
              "  </tbody>\n",
              "</table>\n",
              "</div>"
            ],
            "text/plain": [
              "       W      X      Y      Z\n",
              "A   True   True   True   True\n",
              "B   True  False  False   True\n",
              "C  False   True   True  False\n",
              "D   True  False  False   True\n",
              "E   True   True   True   True"
            ]
          },
          "metadata": {
            "tags": []
          },
          "execution_count": 48
        }
      ]
    },
    {
      "cell_type": "code",
      "metadata": {
        "id": "zQ6fgxPh8ygZ",
        "colab_type": "code",
        "colab": {
          "base_uri": "https://localhost:8080/",
          "height": 514
        },
        "outputId": "881b27f2-5e92-4d8b-e2fa-9359b0ddce22"
      },
      "source": [
        "df1>0.5"
      ],
      "execution_count": 49,
      "outputs": [
        {
          "output_type": "execute_result",
          "data": {
            "text/html": [
              "<div>\n",
              "<style scoped>\n",
              "    .dataframe tbody tr th:only-of-type {\n",
              "        vertical-align: middle;\n",
              "    }\n",
              "\n",
              "    .dataframe tbody tr th {\n",
              "        vertical-align: top;\n",
              "    }\n",
              "\n",
              "    .dataframe thead th {\n",
              "        text-align: right;\n",
              "    }\n",
              "</style>\n",
              "<table border=\"1\" class=\"dataframe\">\n",
              "  <thead>\n",
              "    <tr style=\"text-align: right;\">\n",
              "      <th></th>\n",
              "      <th>Season</th>\n",
              "      <th>Brand</th>\n",
              "      <th>Description</th>\n",
              "      <th>Name</th>\n",
              "      <th>Boot</th>\n",
              "      <th>Off-White</th>\n",
              "      <th>Turfah</th>\n",
              "      <th>Louboutin</th>\n",
              "      <th>Amber</th>\n",
              "    </tr>\n",
              "  </thead>\n",
              "  <tbody>\n",
              "    <tr>\n",
              "      <th>A</th>\n",
              "      <td>False</td>\n",
              "      <td>False</td>\n",
              "      <td>False</td>\n",
              "      <td>True</td>\n",
              "      <td>False</td>\n",
              "      <td>False</td>\n",
              "      <td>True</td>\n",
              "      <td>False</td>\n",
              "      <td>False</td>\n",
              "    </tr>\n",
              "    <tr>\n",
              "      <th>B</th>\n",
              "      <td>False</td>\n",
              "      <td>False</td>\n",
              "      <td>True</td>\n",
              "      <td>True</td>\n",
              "      <td>False</td>\n",
              "      <td>False</td>\n",
              "      <td>True</td>\n",
              "      <td>False</td>\n",
              "      <td>False</td>\n",
              "    </tr>\n",
              "    <tr>\n",
              "      <th>C</th>\n",
              "      <td>False</td>\n",
              "      <td>True</td>\n",
              "      <td>False</td>\n",
              "      <td>False</td>\n",
              "      <td>False</td>\n",
              "      <td>False</td>\n",
              "      <td>False</td>\n",
              "      <td>False</td>\n",
              "      <td>False</td>\n",
              "    </tr>\n",
              "    <tr>\n",
              "      <th>D</th>\n",
              "      <td>False</td>\n",
              "      <td>False</td>\n",
              "      <td>False</td>\n",
              "      <td>False</td>\n",
              "      <td>False</td>\n",
              "      <td>False</td>\n",
              "      <td>False</td>\n",
              "      <td>True</td>\n",
              "      <td>True</td>\n",
              "    </tr>\n",
              "    <tr>\n",
              "      <th>E</th>\n",
              "      <td>False</td>\n",
              "      <td>False</td>\n",
              "      <td>False</td>\n",
              "      <td>True</td>\n",
              "      <td>True</td>\n",
              "      <td>False</td>\n",
              "      <td>False</td>\n",
              "      <td>True</td>\n",
              "      <td>True</td>\n",
              "    </tr>\n",
              "    <tr>\n",
              "      <th>F</th>\n",
              "      <td>False</td>\n",
              "      <td>True</td>\n",
              "      <td>False</td>\n",
              "      <td>True</td>\n",
              "      <td>True</td>\n",
              "      <td>False</td>\n",
              "      <td>True</td>\n",
              "      <td>False</td>\n",
              "      <td>True</td>\n",
              "    </tr>\n",
              "    <tr>\n",
              "      <th>G</th>\n",
              "      <td>False</td>\n",
              "      <td>False</td>\n",
              "      <td>True</td>\n",
              "      <td>False</td>\n",
              "      <td>False</td>\n",
              "      <td>False</td>\n",
              "      <td>False</td>\n",
              "      <td>True</td>\n",
              "      <td>True</td>\n",
              "    </tr>\n",
              "    <tr>\n",
              "      <th>H</th>\n",
              "      <td>False</td>\n",
              "      <td>True</td>\n",
              "      <td>False</td>\n",
              "      <td>False</td>\n",
              "      <td>False</td>\n",
              "      <td>False</td>\n",
              "      <td>False</td>\n",
              "      <td>False</td>\n",
              "      <td>False</td>\n",
              "    </tr>\n",
              "    <tr>\n",
              "      <th>I</th>\n",
              "      <td>False</td>\n",
              "      <td>False</td>\n",
              "      <td>False</td>\n",
              "      <td>False</td>\n",
              "      <td>True</td>\n",
              "      <td>True</td>\n",
              "      <td>False</td>\n",
              "      <td>True</td>\n",
              "      <td>False</td>\n",
              "    </tr>\n",
              "    <tr>\n",
              "      <th>J</th>\n",
              "      <td>False</td>\n",
              "      <td>False</td>\n",
              "      <td>False</td>\n",
              "      <td>True</td>\n",
              "      <td>False</td>\n",
              "      <td>False</td>\n",
              "      <td>True</td>\n",
              "      <td>False</td>\n",
              "      <td>False</td>\n",
              "    </tr>\n",
              "    <tr>\n",
              "      <th>K</th>\n",
              "      <td>False</td>\n",
              "      <td>False</td>\n",
              "      <td>True</td>\n",
              "      <td>True</td>\n",
              "      <td>False</td>\n",
              "      <td>False</td>\n",
              "      <td>True</td>\n",
              "      <td>True</td>\n",
              "      <td>True</td>\n",
              "    </tr>\n",
              "    <tr>\n",
              "      <th>L</th>\n",
              "      <td>False</td>\n",
              "      <td>False</td>\n",
              "      <td>False</td>\n",
              "      <td>True</td>\n",
              "      <td>False</td>\n",
              "      <td>True</td>\n",
              "      <td>False</td>\n",
              "      <td>True</td>\n",
              "      <td>False</td>\n",
              "    </tr>\n",
              "    <tr>\n",
              "      <th>M</th>\n",
              "      <td>False</td>\n",
              "      <td>False</td>\n",
              "      <td>True</td>\n",
              "      <td>False</td>\n",
              "      <td>True</td>\n",
              "      <td>False</td>\n",
              "      <td>False</td>\n",
              "      <td>False</td>\n",
              "      <td>False</td>\n",
              "    </tr>\n",
              "    <tr>\n",
              "      <th>N</th>\n",
              "      <td>False</td>\n",
              "      <td>True</td>\n",
              "      <td>True</td>\n",
              "      <td>False</td>\n",
              "      <td>False</td>\n",
              "      <td>False</td>\n",
              "      <td>False</td>\n",
              "      <td>False</td>\n",
              "      <td>False</td>\n",
              "    </tr>\n",
              "    <tr>\n",
              "      <th>O</th>\n",
              "      <td>False</td>\n",
              "      <td>False</td>\n",
              "      <td>False</td>\n",
              "      <td>False</td>\n",
              "      <td>False</td>\n",
              "      <td>False</td>\n",
              "      <td>True</td>\n",
              "      <td>False</td>\n",
              "      <td>True</td>\n",
              "    </tr>\n",
              "  </tbody>\n",
              "</table>\n",
              "</div>"
            ],
            "text/plain": [
              "   Season  Brand  Description   Name   Boot  Off-White  Turfah  Louboutin  \\\n",
              "A   False  False        False   True  False      False    True      False   \n",
              "B   False  False         True   True  False      False    True      False   \n",
              "C   False   True        False  False  False      False   False      False   \n",
              "D   False  False        False  False  False      False   False       True   \n",
              "E   False  False        False   True   True      False   False       True   \n",
              "F   False   True        False   True   True      False    True      False   \n",
              "G   False  False         True  False  False      False   False       True   \n",
              "H   False   True        False  False  False      False   False      False   \n",
              "I   False  False        False  False   True       True   False       True   \n",
              "J   False  False        False   True  False      False    True      False   \n",
              "K   False  False         True   True  False      False    True       True   \n",
              "L   False  False        False   True  False       True   False       True   \n",
              "M   False  False         True  False   True      False   False      False   \n",
              "N   False   True         True  False  False      False   False      False   \n",
              "O   False  False        False  False  False      False    True      False   \n",
              "\n",
              "   Amber  \n",
              "A  False  \n",
              "B  False  \n",
              "C  False  \n",
              "D   True  \n",
              "E   True  \n",
              "F   True  \n",
              "G   True  \n",
              "H  False  \n",
              "I  False  \n",
              "J  False  \n",
              "K   True  \n",
              "L  False  \n",
              "M  False  \n",
              "N  False  \n",
              "O   True  "
            ]
          },
          "metadata": {
            "tags": []
          },
          "execution_count": 49
        }
      ]
    },
    {
      "cell_type": "code",
      "metadata": {
        "id": "qF5ZZxCEpmcO",
        "colab_type": "code",
        "colab": {
          "base_uri": "https://localhost:8080/",
          "height": 204
        },
        "outputId": "4c8a2c6a-f7e5-4785-fd35-79636dd3d74f"
      },
      "source": [
        "df[df>0]"
      ],
      "execution_count": 50,
      "outputs": [
        {
          "output_type": "execute_result",
          "data": {
            "text/html": [
              "<div>\n",
              "<style scoped>\n",
              "    .dataframe tbody tr th:only-of-type {\n",
              "        vertical-align: middle;\n",
              "    }\n",
              "\n",
              "    .dataframe tbody tr th {\n",
              "        vertical-align: top;\n",
              "    }\n",
              "\n",
              "    .dataframe thead th {\n",
              "        text-align: right;\n",
              "    }\n",
              "</style>\n",
              "<table border=\"1\" class=\"dataframe\">\n",
              "  <thead>\n",
              "    <tr style=\"text-align: right;\">\n",
              "      <th></th>\n",
              "      <th>W</th>\n",
              "      <th>X</th>\n",
              "      <th>Y</th>\n",
              "      <th>Z</th>\n",
              "    </tr>\n",
              "  </thead>\n",
              "  <tbody>\n",
              "    <tr>\n",
              "      <th>A</th>\n",
              "      <td>2.706850</td>\n",
              "      <td>0.628133</td>\n",
              "      <td>0.907969</td>\n",
              "      <td>0.503826</td>\n",
              "    </tr>\n",
              "    <tr>\n",
              "      <th>B</th>\n",
              "      <td>0.651118</td>\n",
              "      <td>NaN</td>\n",
              "      <td>NaN</td>\n",
              "      <td>0.605965</td>\n",
              "    </tr>\n",
              "    <tr>\n",
              "      <th>C</th>\n",
              "      <td>NaN</td>\n",
              "      <td>0.740122</td>\n",
              "      <td>0.528813</td>\n",
              "      <td>NaN</td>\n",
              "    </tr>\n",
              "    <tr>\n",
              "      <th>D</th>\n",
              "      <td>0.188695</td>\n",
              "      <td>NaN</td>\n",
              "      <td>NaN</td>\n",
              "      <td>0.955057</td>\n",
              "    </tr>\n",
              "    <tr>\n",
              "      <th>E</th>\n",
              "      <td>0.190794</td>\n",
              "      <td>1.978757</td>\n",
              "      <td>2.605967</td>\n",
              "      <td>0.683509</td>\n",
              "    </tr>\n",
              "  </tbody>\n",
              "</table>\n",
              "</div>"
            ],
            "text/plain": [
              "          W         X         Y         Z\n",
              "A  2.706850  0.628133  0.907969  0.503826\n",
              "B  0.651118       NaN       NaN  0.605965\n",
              "C       NaN  0.740122  0.528813       NaN\n",
              "D  0.188695       NaN       NaN  0.955057\n",
              "E  0.190794  1.978757  2.605967  0.683509"
            ]
          },
          "metadata": {
            "tags": []
          },
          "execution_count": 50
        }
      ]
    },
    {
      "cell_type": "code",
      "metadata": {
        "id": "d-C4omTo862H",
        "colab_type": "code",
        "colab": {
          "base_uri": "https://localhost:8080/",
          "height": 514
        },
        "outputId": "73664bb3-ea52-4615-dd28-da15ed48e88d"
      },
      "source": [
        "df1[df1>0.7]"
      ],
      "execution_count": 51,
      "outputs": [
        {
          "output_type": "execute_result",
          "data": {
            "text/html": [
              "<div>\n",
              "<style scoped>\n",
              "    .dataframe tbody tr th:only-of-type {\n",
              "        vertical-align: middle;\n",
              "    }\n",
              "\n",
              "    .dataframe tbody tr th {\n",
              "        vertical-align: top;\n",
              "    }\n",
              "\n",
              "    .dataframe thead th {\n",
              "        text-align: right;\n",
              "    }\n",
              "</style>\n",
              "<table border=\"1\" class=\"dataframe\">\n",
              "  <thead>\n",
              "    <tr style=\"text-align: right;\">\n",
              "      <th></th>\n",
              "      <th>Season</th>\n",
              "      <th>Brand</th>\n",
              "      <th>Description</th>\n",
              "      <th>Name</th>\n",
              "      <th>Boot</th>\n",
              "      <th>Off-White</th>\n",
              "      <th>Turfah</th>\n",
              "      <th>Louboutin</th>\n",
              "      <th>Amber</th>\n",
              "    </tr>\n",
              "  </thead>\n",
              "  <tbody>\n",
              "    <tr>\n",
              "      <th>A</th>\n",
              "      <td>NaN</td>\n",
              "      <td>NaN</td>\n",
              "      <td>NaN</td>\n",
              "      <td>1.640271</td>\n",
              "      <td>NaN</td>\n",
              "      <td>NaN</td>\n",
              "      <td>NaN</td>\n",
              "      <td>NaN</td>\n",
              "      <td>NaN</td>\n",
              "    </tr>\n",
              "    <tr>\n",
              "      <th>B</th>\n",
              "      <td>NaN</td>\n",
              "      <td>NaN</td>\n",
              "      <td>NaN</td>\n",
              "      <td>2.292208</td>\n",
              "      <td>NaN</td>\n",
              "      <td>NaN</td>\n",
              "      <td>NaN</td>\n",
              "      <td>NaN</td>\n",
              "      <td>NaN</td>\n",
              "    </tr>\n",
              "    <tr>\n",
              "      <th>C</th>\n",
              "      <td>NaN</td>\n",
              "      <td>1.175001</td>\n",
              "      <td>NaN</td>\n",
              "      <td>NaN</td>\n",
              "      <td>NaN</td>\n",
              "      <td>NaN</td>\n",
              "      <td>NaN</td>\n",
              "      <td>NaN</td>\n",
              "      <td>NaN</td>\n",
              "    </tr>\n",
              "    <tr>\n",
              "      <th>D</th>\n",
              "      <td>NaN</td>\n",
              "      <td>NaN</td>\n",
              "      <td>NaN</td>\n",
              "      <td>NaN</td>\n",
              "      <td>NaN</td>\n",
              "      <td>NaN</td>\n",
              "      <td>NaN</td>\n",
              "      <td>2.231367</td>\n",
              "      <td>1.962310</td>\n",
              "    </tr>\n",
              "    <tr>\n",
              "      <th>E</th>\n",
              "      <td>NaN</td>\n",
              "      <td>NaN</td>\n",
              "      <td>NaN</td>\n",
              "      <td>1.359634</td>\n",
              "      <td>NaN</td>\n",
              "      <td>NaN</td>\n",
              "      <td>NaN</td>\n",
              "      <td>NaN</td>\n",
              "      <td>NaN</td>\n",
              "    </tr>\n",
              "    <tr>\n",
              "      <th>F</th>\n",
              "      <td>NaN</td>\n",
              "      <td>0.771012</td>\n",
              "      <td>NaN</td>\n",
              "      <td>1.731185</td>\n",
              "      <td>1.467678</td>\n",
              "      <td>NaN</td>\n",
              "      <td>NaN</td>\n",
              "      <td>NaN</td>\n",
              "      <td>NaN</td>\n",
              "    </tr>\n",
              "    <tr>\n",
              "      <th>G</th>\n",
              "      <td>NaN</td>\n",
              "      <td>NaN</td>\n",
              "      <td>1.000366</td>\n",
              "      <td>NaN</td>\n",
              "      <td>NaN</td>\n",
              "      <td>NaN</td>\n",
              "      <td>NaN</td>\n",
              "      <td>1.278379</td>\n",
              "      <td>1.711876</td>\n",
              "    </tr>\n",
              "    <tr>\n",
              "      <th>H</th>\n",
              "      <td>NaN</td>\n",
              "      <td>NaN</td>\n",
              "      <td>NaN</td>\n",
              "      <td>NaN</td>\n",
              "      <td>NaN</td>\n",
              "      <td>NaN</td>\n",
              "      <td>NaN</td>\n",
              "      <td>NaN</td>\n",
              "      <td>NaN</td>\n",
              "    </tr>\n",
              "    <tr>\n",
              "      <th>I</th>\n",
              "      <td>NaN</td>\n",
              "      <td>NaN</td>\n",
              "      <td>NaN</td>\n",
              "      <td>NaN</td>\n",
              "      <td>NaN</td>\n",
              "      <td>0.735280</td>\n",
              "      <td>NaN</td>\n",
              "      <td>0.842456</td>\n",
              "      <td>NaN</td>\n",
              "    </tr>\n",
              "    <tr>\n",
              "      <th>J</th>\n",
              "      <td>NaN</td>\n",
              "      <td>NaN</td>\n",
              "      <td>NaN</td>\n",
              "      <td>1.584487</td>\n",
              "      <td>NaN</td>\n",
              "      <td>NaN</td>\n",
              "      <td>NaN</td>\n",
              "      <td>NaN</td>\n",
              "      <td>NaN</td>\n",
              "    </tr>\n",
              "    <tr>\n",
              "      <th>K</th>\n",
              "      <td>NaN</td>\n",
              "      <td>NaN</td>\n",
              "      <td>0.824703</td>\n",
              "      <td>1.248213</td>\n",
              "      <td>NaN</td>\n",
              "      <td>NaN</td>\n",
              "      <td>1.367235</td>\n",
              "      <td>1.217886</td>\n",
              "      <td>2.585121</td>\n",
              "    </tr>\n",
              "    <tr>\n",
              "      <th>L</th>\n",
              "      <td>NaN</td>\n",
              "      <td>NaN</td>\n",
              "      <td>NaN</td>\n",
              "      <td>NaN</td>\n",
              "      <td>NaN</td>\n",
              "      <td>1.406696</td>\n",
              "      <td>NaN</td>\n",
              "      <td>1.040824</td>\n",
              "      <td>NaN</td>\n",
              "    </tr>\n",
              "    <tr>\n",
              "      <th>M</th>\n",
              "      <td>NaN</td>\n",
              "      <td>NaN</td>\n",
              "      <td>1.173531</td>\n",
              "      <td>NaN</td>\n",
              "      <td>1.161521</td>\n",
              "      <td>NaN</td>\n",
              "      <td>NaN</td>\n",
              "      <td>NaN</td>\n",
              "      <td>NaN</td>\n",
              "    </tr>\n",
              "    <tr>\n",
              "      <th>N</th>\n",
              "      <td>NaN</td>\n",
              "      <td>2.585295</td>\n",
              "      <td>1.835333</td>\n",
              "      <td>NaN</td>\n",
              "      <td>NaN</td>\n",
              "      <td>NaN</td>\n",
              "      <td>NaN</td>\n",
              "      <td>NaN</td>\n",
              "      <td>NaN</td>\n",
              "    </tr>\n",
              "    <tr>\n",
              "      <th>O</th>\n",
              "      <td>NaN</td>\n",
              "      <td>NaN</td>\n",
              "      <td>NaN</td>\n",
              "      <td>NaN</td>\n",
              "      <td>NaN</td>\n",
              "      <td>NaN</td>\n",
              "      <td>2.550438</td>\n",
              "      <td>NaN</td>\n",
              "      <td>1.077265</td>\n",
              "    </tr>\n",
              "  </tbody>\n",
              "</table>\n",
              "</div>"
            ],
            "text/plain": [
              "   Season     Brand  Description      Name      Boot  Off-White    Turfah  \\\n",
              "A     NaN       NaN          NaN  1.640271       NaN        NaN       NaN   \n",
              "B     NaN       NaN          NaN  2.292208       NaN        NaN       NaN   \n",
              "C     NaN  1.175001          NaN       NaN       NaN        NaN       NaN   \n",
              "D     NaN       NaN          NaN       NaN       NaN        NaN       NaN   \n",
              "E     NaN       NaN          NaN  1.359634       NaN        NaN       NaN   \n",
              "F     NaN  0.771012          NaN  1.731185  1.467678        NaN       NaN   \n",
              "G     NaN       NaN     1.000366       NaN       NaN        NaN       NaN   \n",
              "H     NaN       NaN          NaN       NaN       NaN        NaN       NaN   \n",
              "I     NaN       NaN          NaN       NaN       NaN   0.735280       NaN   \n",
              "J     NaN       NaN          NaN  1.584487       NaN        NaN       NaN   \n",
              "K     NaN       NaN     0.824703  1.248213       NaN        NaN  1.367235   \n",
              "L     NaN       NaN          NaN       NaN       NaN   1.406696       NaN   \n",
              "M     NaN       NaN     1.173531       NaN  1.161521        NaN       NaN   \n",
              "N     NaN  2.585295     1.835333       NaN       NaN        NaN       NaN   \n",
              "O     NaN       NaN          NaN       NaN       NaN        NaN  2.550438   \n",
              "\n",
              "   Louboutin     Amber  \n",
              "A        NaN       NaN  \n",
              "B        NaN       NaN  \n",
              "C        NaN       NaN  \n",
              "D   2.231367  1.962310  \n",
              "E        NaN       NaN  \n",
              "F        NaN       NaN  \n",
              "G   1.278379  1.711876  \n",
              "H        NaN       NaN  \n",
              "I   0.842456       NaN  \n",
              "J        NaN       NaN  \n",
              "K   1.217886  2.585121  \n",
              "L   1.040824       NaN  \n",
              "M        NaN       NaN  \n",
              "N        NaN       NaN  \n",
              "O        NaN  1.077265  "
            ]
          },
          "metadata": {
            "tags": []
          },
          "execution_count": 51
        }
      ]
    },
    {
      "cell_type": "code",
      "metadata": {
        "id": "T7Rqv5sVpmcS",
        "colab_type": "code",
        "colab": {
          "base_uri": "https://localhost:8080/",
          "height": 173
        },
        "outputId": "9cc5e983-b8eb-4c9d-a8db-624dd155b5c9"
      },
      "source": [
        "df[df['W']>0]"
      ],
      "execution_count": 52,
      "outputs": [
        {
          "output_type": "execute_result",
          "data": {
            "text/html": [
              "<div>\n",
              "<style scoped>\n",
              "    .dataframe tbody tr th:only-of-type {\n",
              "        vertical-align: middle;\n",
              "    }\n",
              "\n",
              "    .dataframe tbody tr th {\n",
              "        vertical-align: top;\n",
              "    }\n",
              "\n",
              "    .dataframe thead th {\n",
              "        text-align: right;\n",
              "    }\n",
              "</style>\n",
              "<table border=\"1\" class=\"dataframe\">\n",
              "  <thead>\n",
              "    <tr style=\"text-align: right;\">\n",
              "      <th></th>\n",
              "      <th>W</th>\n",
              "      <th>X</th>\n",
              "      <th>Y</th>\n",
              "      <th>Z</th>\n",
              "    </tr>\n",
              "  </thead>\n",
              "  <tbody>\n",
              "    <tr>\n",
              "      <th>A</th>\n",
              "      <td>2.706850</td>\n",
              "      <td>0.628133</td>\n",
              "      <td>0.907969</td>\n",
              "      <td>0.503826</td>\n",
              "    </tr>\n",
              "    <tr>\n",
              "      <th>B</th>\n",
              "      <td>0.651118</td>\n",
              "      <td>-0.319318</td>\n",
              "      <td>-0.848077</td>\n",
              "      <td>0.605965</td>\n",
              "    </tr>\n",
              "    <tr>\n",
              "      <th>D</th>\n",
              "      <td>0.188695</td>\n",
              "      <td>-0.758872</td>\n",
              "      <td>-0.933237</td>\n",
              "      <td>0.955057</td>\n",
              "    </tr>\n",
              "    <tr>\n",
              "      <th>E</th>\n",
              "      <td>0.190794</td>\n",
              "      <td>1.978757</td>\n",
              "      <td>2.605967</td>\n",
              "      <td>0.683509</td>\n",
              "    </tr>\n",
              "  </tbody>\n",
              "</table>\n",
              "</div>"
            ],
            "text/plain": [
              "          W         X         Y         Z\n",
              "A  2.706850  0.628133  0.907969  0.503826\n",
              "B  0.651118 -0.319318 -0.848077  0.605965\n",
              "D  0.188695 -0.758872 -0.933237  0.955057\n",
              "E  0.190794  1.978757  2.605967  0.683509"
            ]
          },
          "metadata": {
            "tags": []
          },
          "execution_count": 52
        }
      ]
    },
    {
      "cell_type": "code",
      "metadata": {
        "id": "hVrHTgoq9Xu8",
        "colab_type": "code",
        "colab": {
          "base_uri": "https://localhost:8080/",
          "height": 173
        },
        "outputId": "926587d3-19d6-4645-ffce-9ec6da908ad0"
      },
      "source": [
        "df1[df1['Brand']>0.5]"
      ],
      "execution_count": 58,
      "outputs": [
        {
          "output_type": "execute_result",
          "data": {
            "text/html": [
              "<div>\n",
              "<style scoped>\n",
              "    .dataframe tbody tr th:only-of-type {\n",
              "        vertical-align: middle;\n",
              "    }\n",
              "\n",
              "    .dataframe tbody tr th {\n",
              "        vertical-align: top;\n",
              "    }\n",
              "\n",
              "    .dataframe thead th {\n",
              "        text-align: right;\n",
              "    }\n",
              "</style>\n",
              "<table border=\"1\" class=\"dataframe\">\n",
              "  <thead>\n",
              "    <tr style=\"text-align: right;\">\n",
              "      <th></th>\n",
              "      <th>Season</th>\n",
              "      <th>Brand</th>\n",
              "      <th>Description</th>\n",
              "      <th>Name</th>\n",
              "      <th>Boot</th>\n",
              "      <th>Off-White</th>\n",
              "      <th>Turfah</th>\n",
              "      <th>Louboutin</th>\n",
              "      <th>Amber</th>\n",
              "    </tr>\n",
              "  </thead>\n",
              "  <tbody>\n",
              "    <tr>\n",
              "      <th>C</th>\n",
              "      <td>-0.019130</td>\n",
              "      <td>1.175001</td>\n",
              "      <td>-0.747871</td>\n",
              "      <td>0.009025</td>\n",
              "      <td>-0.878108</td>\n",
              "      <td>-0.156434</td>\n",
              "      <td>0.256570</td>\n",
              "      <td>-0.988779</td>\n",
              "      <td>-0.732209</td>\n",
              "    </tr>\n",
              "    <tr>\n",
              "      <th>F</th>\n",
              "      <td>-0.313508</td>\n",
              "      <td>0.771012</td>\n",
              "      <td>-1.868091</td>\n",
              "      <td>1.731185</td>\n",
              "      <td>1.467678</td>\n",
              "      <td>-0.335677</td>\n",
              "      <td>0.611341</td>\n",
              "      <td>0.047971</td>\n",
              "      <td>0.659311</td>\n",
              "    </tr>\n",
              "    <tr>\n",
              "      <th>H</th>\n",
              "      <td>-0.634679</td>\n",
              "      <td>0.508396</td>\n",
              "      <td>0.216116</td>\n",
              "      <td>-1.858612</td>\n",
              "      <td>-0.419316</td>\n",
              "      <td>-0.132329</td>\n",
              "      <td>-0.039570</td>\n",
              "      <td>0.326003</td>\n",
              "      <td>0.286433</td>\n",
              "    </tr>\n",
              "    <tr>\n",
              "      <th>N</th>\n",
              "      <td>-0.304086</td>\n",
              "      <td>2.585295</td>\n",
              "      <td>1.835333</td>\n",
              "      <td>0.440690</td>\n",
              "      <td>-0.719254</td>\n",
              "      <td>-0.583415</td>\n",
              "      <td>-0.325050</td>\n",
              "      <td>-0.560235</td>\n",
              "      <td>-0.885284</td>\n",
              "    </tr>\n",
              "  </tbody>\n",
              "</table>\n",
              "</div>"
            ],
            "text/plain": [
              "     Season     Brand  Description      Name      Boot  Off-White    Turfah  \\\n",
              "C -0.019130  1.175001    -0.747871  0.009025 -0.878108  -0.156434  0.256570   \n",
              "F -0.313508  0.771012    -1.868091  1.731185  1.467678  -0.335677  0.611341   \n",
              "H -0.634679  0.508396     0.216116 -1.858612 -0.419316  -0.132329 -0.039570   \n",
              "N -0.304086  2.585295     1.835333  0.440690 -0.719254  -0.583415 -0.325050   \n",
              "\n",
              "   Louboutin     Amber  \n",
              "C  -0.988779 -0.732209  \n",
              "F   0.047971  0.659311  \n",
              "H   0.326003  0.286433  \n",
              "N  -0.560235 -0.885284  "
            ]
          },
          "metadata": {
            "tags": []
          },
          "execution_count": 58
        }
      ]
    },
    {
      "cell_type": "code",
      "metadata": {
        "id": "_gDKnibhkO6J",
        "colab_type": "code",
        "colab": {}
      },
      "source": [
        "booldf = df1>0"
      ],
      "execution_count": 0,
      "outputs": []
    },
    {
      "cell_type": "code",
      "metadata": {
        "id": "18huald6k3jv",
        "colab_type": "code",
        "colab": {
          "base_uri": "https://localhost:8080/",
          "height": 514
        },
        "outputId": "5c48d94e-aae1-4a0b-a92e-be99587500b1"
      },
      "source": [
        "df1[booldf]"
      ],
      "execution_count": 66,
      "outputs": [
        {
          "output_type": "execute_result",
          "data": {
            "text/html": [
              "<div>\n",
              "<style scoped>\n",
              "    .dataframe tbody tr th:only-of-type {\n",
              "        vertical-align: middle;\n",
              "    }\n",
              "\n",
              "    .dataframe tbody tr th {\n",
              "        vertical-align: top;\n",
              "    }\n",
              "\n",
              "    .dataframe thead th {\n",
              "        text-align: right;\n",
              "    }\n",
              "</style>\n",
              "<table border=\"1\" class=\"dataframe\">\n",
              "  <thead>\n",
              "    <tr style=\"text-align: right;\">\n",
              "      <th></th>\n",
              "      <th>Season</th>\n",
              "      <th>Brand</th>\n",
              "      <th>Description</th>\n",
              "      <th>Name</th>\n",
              "      <th>Boot</th>\n",
              "      <th>Off-White</th>\n",
              "      <th>Turfah</th>\n",
              "      <th>Louboutin</th>\n",
              "      <th>Amber</th>\n",
              "    </tr>\n",
              "  </thead>\n",
              "  <tbody>\n",
              "    <tr>\n",
              "      <th>A</th>\n",
              "      <td>NaN</td>\n",
              "      <td>NaN</td>\n",
              "      <td>NaN</td>\n",
              "      <td>1.640271</td>\n",
              "      <td>NaN</td>\n",
              "      <td>NaN</td>\n",
              "      <td>0.502881</td>\n",
              "      <td>NaN</td>\n",
              "      <td>NaN</td>\n",
              "    </tr>\n",
              "    <tr>\n",
              "      <th>B</th>\n",
              "      <td>NaN</td>\n",
              "      <td>NaN</td>\n",
              "      <td>0.551454</td>\n",
              "      <td>2.292208</td>\n",
              "      <td>0.041539</td>\n",
              "      <td>NaN</td>\n",
              "      <td>0.539058</td>\n",
              "      <td>NaN</td>\n",
              "      <td>NaN</td>\n",
              "    </tr>\n",
              "    <tr>\n",
              "      <th>C</th>\n",
              "      <td>NaN</td>\n",
              "      <td>1.175001</td>\n",
              "      <td>NaN</td>\n",
              "      <td>0.009025</td>\n",
              "      <td>NaN</td>\n",
              "      <td>NaN</td>\n",
              "      <td>0.256570</td>\n",
              "      <td>NaN</td>\n",
              "      <td>NaN</td>\n",
              "    </tr>\n",
              "    <tr>\n",
              "      <th>D</th>\n",
              "      <td>NaN</td>\n",
              "      <td>NaN</td>\n",
              "      <td>NaN</td>\n",
              "      <td>NaN</td>\n",
              "      <td>NaN</td>\n",
              "      <td>NaN</td>\n",
              "      <td>NaN</td>\n",
              "      <td>2.231367</td>\n",
              "      <td>1.962310</td>\n",
              "    </tr>\n",
              "    <tr>\n",
              "      <th>E</th>\n",
              "      <td>NaN</td>\n",
              "      <td>0.112727</td>\n",
              "      <td>0.370445</td>\n",
              "      <td>1.359634</td>\n",
              "      <td>0.501857</td>\n",
              "      <td>NaN</td>\n",
              "      <td>0.000010</td>\n",
              "      <td>0.542353</td>\n",
              "      <td>0.542362</td>\n",
              "    </tr>\n",
              "    <tr>\n",
              "      <th>F</th>\n",
              "      <td>NaN</td>\n",
              "      <td>0.771012</td>\n",
              "      <td>NaN</td>\n",
              "      <td>1.731185</td>\n",
              "      <td>1.467678</td>\n",
              "      <td>NaN</td>\n",
              "      <td>0.611341</td>\n",
              "      <td>0.047971</td>\n",
              "      <td>0.659311</td>\n",
              "    </tr>\n",
              "    <tr>\n",
              "      <th>G</th>\n",
              "      <td>NaN</td>\n",
              "      <td>0.087710</td>\n",
              "      <td>1.000366</td>\n",
              "      <td>NaN</td>\n",
              "      <td>NaN</td>\n",
              "      <td>NaN</td>\n",
              "      <td>0.433496</td>\n",
              "      <td>1.278379</td>\n",
              "      <td>1.711876</td>\n",
              "    </tr>\n",
              "    <tr>\n",
              "      <th>H</th>\n",
              "      <td>NaN</td>\n",
              "      <td>0.508396</td>\n",
              "      <td>0.216116</td>\n",
              "      <td>NaN</td>\n",
              "      <td>NaN</td>\n",
              "      <td>NaN</td>\n",
              "      <td>NaN</td>\n",
              "      <td>0.326003</td>\n",
              "      <td>0.286433</td>\n",
              "    </tr>\n",
              "    <tr>\n",
              "      <th>I</th>\n",
              "      <td>NaN</td>\n",
              "      <td>0.046256</td>\n",
              "      <td>NaN</td>\n",
              "      <td>NaN</td>\n",
              "      <td>0.524296</td>\n",
              "      <td>0.735280</td>\n",
              "      <td>NaN</td>\n",
              "      <td>0.842456</td>\n",
              "      <td>0.189206</td>\n",
              "    </tr>\n",
              "    <tr>\n",
              "      <th>J</th>\n",
              "      <td>NaN</td>\n",
              "      <td>0.066489</td>\n",
              "      <td>NaN</td>\n",
              "      <td>1.584487</td>\n",
              "      <td>NaN</td>\n",
              "      <td>NaN</td>\n",
              "      <td>0.695120</td>\n",
              "      <td>NaN</td>\n",
              "      <td>NaN</td>\n",
              "    </tr>\n",
              "    <tr>\n",
              "      <th>K</th>\n",
              "      <td>NaN</td>\n",
              "      <td>NaN</td>\n",
              "      <td>0.824703</td>\n",
              "      <td>1.248213</td>\n",
              "      <td>NaN</td>\n",
              "      <td>NaN</td>\n",
              "      <td>1.367235</td>\n",
              "      <td>1.217886</td>\n",
              "      <td>2.585121</td>\n",
              "    </tr>\n",
              "    <tr>\n",
              "      <th>L</th>\n",
              "      <td>NaN</td>\n",
              "      <td>0.350888</td>\n",
              "      <td>0.381866</td>\n",
              "      <td>0.566275</td>\n",
              "      <td>0.204208</td>\n",
              "      <td>1.406696</td>\n",
              "      <td>NaN</td>\n",
              "      <td>1.040824</td>\n",
              "      <td>NaN</td>\n",
              "    </tr>\n",
              "    <tr>\n",
              "      <th>M</th>\n",
              "      <td>0.380472</td>\n",
              "      <td>NaN</td>\n",
              "      <td>1.173531</td>\n",
              "      <td>NaN</td>\n",
              "      <td>1.161521</td>\n",
              "      <td>0.386078</td>\n",
              "      <td>NaN</td>\n",
              "      <td>0.433093</td>\n",
              "      <td>NaN</td>\n",
              "    </tr>\n",
              "    <tr>\n",
              "      <th>N</th>\n",
              "      <td>NaN</td>\n",
              "      <td>2.585295</td>\n",
              "      <td>1.835333</td>\n",
              "      <td>0.440690</td>\n",
              "      <td>NaN</td>\n",
              "      <td>NaN</td>\n",
              "      <td>NaN</td>\n",
              "      <td>NaN</td>\n",
              "      <td>NaN</td>\n",
              "    </tr>\n",
              "    <tr>\n",
              "      <th>O</th>\n",
              "      <td>NaN</td>\n",
              "      <td>NaN</td>\n",
              "      <td>NaN</td>\n",
              "      <td>NaN</td>\n",
              "      <td>NaN</td>\n",
              "      <td>NaN</td>\n",
              "      <td>2.550438</td>\n",
              "      <td>NaN</td>\n",
              "      <td>1.077265</td>\n",
              "    </tr>\n",
              "  </tbody>\n",
              "</table>\n",
              "</div>"
            ],
            "text/plain": [
              "     Season     Brand  Description      Name      Boot  Off-White    Turfah  \\\n",
              "A       NaN       NaN          NaN  1.640271       NaN        NaN  0.502881   \n",
              "B       NaN       NaN     0.551454  2.292208  0.041539        NaN  0.539058   \n",
              "C       NaN  1.175001          NaN  0.009025       NaN        NaN  0.256570   \n",
              "D       NaN       NaN          NaN       NaN       NaN        NaN       NaN   \n",
              "E       NaN  0.112727     0.370445  1.359634  0.501857        NaN  0.000010   \n",
              "F       NaN  0.771012          NaN  1.731185  1.467678        NaN  0.611341   \n",
              "G       NaN  0.087710     1.000366       NaN       NaN        NaN  0.433496   \n",
              "H       NaN  0.508396     0.216116       NaN       NaN        NaN       NaN   \n",
              "I       NaN  0.046256          NaN       NaN  0.524296   0.735280       NaN   \n",
              "J       NaN  0.066489          NaN  1.584487       NaN        NaN  0.695120   \n",
              "K       NaN       NaN     0.824703  1.248213       NaN        NaN  1.367235   \n",
              "L       NaN  0.350888     0.381866  0.566275  0.204208   1.406696       NaN   \n",
              "M  0.380472       NaN     1.173531       NaN  1.161521   0.386078       NaN   \n",
              "N       NaN  2.585295     1.835333  0.440690       NaN        NaN       NaN   \n",
              "O       NaN       NaN          NaN       NaN       NaN        NaN  2.550438   \n",
              "\n",
              "   Louboutin     Amber  \n",
              "A        NaN       NaN  \n",
              "B        NaN       NaN  \n",
              "C        NaN       NaN  \n",
              "D   2.231367  1.962310  \n",
              "E   0.542353  0.542362  \n",
              "F   0.047971  0.659311  \n",
              "G   1.278379  1.711876  \n",
              "H   0.326003  0.286433  \n",
              "I   0.842456  0.189206  \n",
              "J        NaN       NaN  \n",
              "K   1.217886  2.585121  \n",
              "L   1.040824       NaN  \n",
              "M   0.433093       NaN  \n",
              "N        NaN       NaN  \n",
              "O        NaN  1.077265  "
            ]
          },
          "metadata": {
            "tags": []
          },
          "execution_count": 66
        }
      ]
    },
    {
      "cell_type": "code",
      "metadata": {
        "id": "Ssz6-2IgpmcX",
        "colab_type": "code",
        "colab": {
          "base_uri": "https://localhost:8080/",
          "height": 102
        },
        "outputId": "76c2c45b-40bd-4bf6-ba50-4b09141af5b6"
      },
      "source": [
        "df[df['W']>0]['Y']"
      ],
      "execution_count": 68,
      "outputs": [
        {
          "output_type": "execute_result",
          "data": {
            "text/plain": [
              "A    0.907969\n",
              "B   -0.848077\n",
              "D   -0.933237\n",
              "E    2.605967\n",
              "Name: Y, dtype: float64"
            ]
          },
          "metadata": {
            "tags": []
          },
          "execution_count": 68
        }
      ]
    },
    {
      "cell_type": "code",
      "metadata": {
        "id": "mrq_RFQe9jO4",
        "colab_type": "code",
        "colab": {
          "base_uri": "https://localhost:8080/",
          "height": 170
        },
        "outputId": "dd746c1f-8375-49f0-b1b1-bc400440d294"
      },
      "source": [
        "df1[df1['Amber']>0]['Boot']"
      ],
      "execution_count": 69,
      "outputs": [
        {
          "output_type": "execute_result",
          "data": {
            "text/plain": [
              "D   -1.421217\n",
              "E    0.501857\n",
              "F    1.467678\n",
              "G   -0.375669\n",
              "H   -0.419316\n",
              "I    0.524296\n",
              "K   -0.403892\n",
              "O   -0.698590\n",
              "Name: Boot, dtype: float64"
            ]
          },
          "metadata": {
            "tags": []
          },
          "execution_count": 69
        }
      ]
    },
    {
      "cell_type": "code",
      "metadata": {
        "id": "0Ezplkixpmca",
        "colab_type": "code",
        "colab": {
          "base_uri": "https://localhost:8080/",
          "height": 173
        },
        "outputId": "47bffa21-ec57-48ee-a7b3-832e64cedd91"
      },
      "source": [
        "df[df['W']>0][['Y','X']]"
      ],
      "execution_count": 70,
      "outputs": [
        {
          "output_type": "execute_result",
          "data": {
            "text/html": [
              "<div>\n",
              "<style scoped>\n",
              "    .dataframe tbody tr th:only-of-type {\n",
              "        vertical-align: middle;\n",
              "    }\n",
              "\n",
              "    .dataframe tbody tr th {\n",
              "        vertical-align: top;\n",
              "    }\n",
              "\n",
              "    .dataframe thead th {\n",
              "        text-align: right;\n",
              "    }\n",
              "</style>\n",
              "<table border=\"1\" class=\"dataframe\">\n",
              "  <thead>\n",
              "    <tr style=\"text-align: right;\">\n",
              "      <th></th>\n",
              "      <th>Y</th>\n",
              "      <th>X</th>\n",
              "    </tr>\n",
              "  </thead>\n",
              "  <tbody>\n",
              "    <tr>\n",
              "      <th>A</th>\n",
              "      <td>0.907969</td>\n",
              "      <td>0.628133</td>\n",
              "    </tr>\n",
              "    <tr>\n",
              "      <th>B</th>\n",
              "      <td>-0.848077</td>\n",
              "      <td>-0.319318</td>\n",
              "    </tr>\n",
              "    <tr>\n",
              "      <th>D</th>\n",
              "      <td>-0.933237</td>\n",
              "      <td>-0.758872</td>\n",
              "    </tr>\n",
              "    <tr>\n",
              "      <th>E</th>\n",
              "      <td>2.605967</td>\n",
              "      <td>1.978757</td>\n",
              "    </tr>\n",
              "  </tbody>\n",
              "</table>\n",
              "</div>"
            ],
            "text/plain": [
              "          Y         X\n",
              "A  0.907969  0.628133\n",
              "B -0.848077 -0.319318\n",
              "D -0.933237 -0.758872\n",
              "E  2.605967  1.978757"
            ]
          },
          "metadata": {
            "tags": []
          },
          "execution_count": 70
        }
      ]
    },
    {
      "cell_type": "code",
      "metadata": {
        "id": "gvBmNIBsuf0a",
        "colab_type": "code",
        "colab": {
          "base_uri": "https://localhost:8080/",
          "height": 266
        },
        "outputId": "0e7deb81-b250-47d1-a14d-138fdd72dec0"
      },
      "source": [
        "df1[df1['Name']>0.5][['Description', 'Season']]"
      ],
      "execution_count": 72,
      "outputs": [
        {
          "output_type": "execute_result",
          "data": {
            "text/html": [
              "<div>\n",
              "<style scoped>\n",
              "    .dataframe tbody tr th:only-of-type {\n",
              "        vertical-align: middle;\n",
              "    }\n",
              "\n",
              "    .dataframe tbody tr th {\n",
              "        vertical-align: top;\n",
              "    }\n",
              "\n",
              "    .dataframe thead th {\n",
              "        text-align: right;\n",
              "    }\n",
              "</style>\n",
              "<table border=\"1\" class=\"dataframe\">\n",
              "  <thead>\n",
              "    <tr style=\"text-align: right;\">\n",
              "      <th></th>\n",
              "      <th>Description</th>\n",
              "      <th>Season</th>\n",
              "    </tr>\n",
              "  </thead>\n",
              "  <tbody>\n",
              "    <tr>\n",
              "      <th>A</th>\n",
              "      <td>-2.136196</td>\n",
              "      <td>-0.416758</td>\n",
              "    </tr>\n",
              "    <tr>\n",
              "      <th>B</th>\n",
              "      <td>0.551454</td>\n",
              "      <td>-1.057952</td>\n",
              "    </tr>\n",
              "    <tr>\n",
              "      <th>E</th>\n",
              "      <td>0.370445</td>\n",
              "      <td>-2.434768</td>\n",
              "    </tr>\n",
              "    <tr>\n",
              "      <th>F</th>\n",
              "      <td>-1.868091</td>\n",
              "      <td>-0.313508</td>\n",
              "    </tr>\n",
              "    <tr>\n",
              "      <th>J</th>\n",
              "      <td>-1.098739</td>\n",
              "      <td>-0.381516</td>\n",
              "    </tr>\n",
              "    <tr>\n",
              "      <th>K</th>\n",
              "      <td>0.824703</td>\n",
              "      <td>-0.189469</td>\n",
              "    </tr>\n",
              "    <tr>\n",
              "      <th>L</th>\n",
              "      <td>0.381866</td>\n",
              "      <td>-0.462005</td>\n",
              "    </tr>\n",
              "  </tbody>\n",
              "</table>\n",
              "</div>"
            ],
            "text/plain": [
              "   Description    Season\n",
              "A    -2.136196 -0.416758\n",
              "B     0.551454 -1.057952\n",
              "E     0.370445 -2.434768\n",
              "F    -1.868091 -0.313508\n",
              "J    -1.098739 -0.381516\n",
              "K     0.824703 -0.189469\n",
              "L     0.381866 -0.462005"
            ]
          },
          "metadata": {
            "tags": []
          },
          "execution_count": 72
        }
      ]
    },
    {
      "cell_type": "markdown",
      "metadata": {
        "id": "MwXy6WLipmcd",
        "colab_type": "text"
      },
      "source": [
        "For two conditions you can use | and & with parenthesis:"
      ]
    },
    {
      "cell_type": "code",
      "metadata": {
        "id": "eQzSs2gMpmce",
        "colab_type": "code",
        "colab": {
          "base_uri": "https://localhost:8080/",
          "height": 80
        },
        "outputId": "55fd5f0d-bb8a-4001-971a-084bf84e6bf3"
      },
      "source": [
        "df[(df['W']>0) & (df['Y'] > 1)]"
      ],
      "execution_count": 74,
      "outputs": [
        {
          "output_type": "execute_result",
          "data": {
            "text/html": [
              "<div>\n",
              "<style scoped>\n",
              "    .dataframe tbody tr th:only-of-type {\n",
              "        vertical-align: middle;\n",
              "    }\n",
              "\n",
              "    .dataframe tbody tr th {\n",
              "        vertical-align: top;\n",
              "    }\n",
              "\n",
              "    .dataframe thead th {\n",
              "        text-align: right;\n",
              "    }\n",
              "</style>\n",
              "<table border=\"1\" class=\"dataframe\">\n",
              "  <thead>\n",
              "    <tr style=\"text-align: right;\">\n",
              "      <th></th>\n",
              "      <th>W</th>\n",
              "      <th>X</th>\n",
              "      <th>Y</th>\n",
              "      <th>Z</th>\n",
              "    </tr>\n",
              "  </thead>\n",
              "  <tbody>\n",
              "    <tr>\n",
              "      <th>E</th>\n",
              "      <td>0.190794</td>\n",
              "      <td>1.978757</td>\n",
              "      <td>2.605967</td>\n",
              "      <td>0.683509</td>\n",
              "    </tr>\n",
              "  </tbody>\n",
              "</table>\n",
              "</div>"
            ],
            "text/plain": [
              "          W         X         Y         Z\n",
              "E  0.190794  1.978757  2.605967  0.683509"
            ]
          },
          "metadata": {
            "tags": []
          },
          "execution_count": 74
        }
      ]
    },
    {
      "cell_type": "code",
      "metadata": {
        "id": "Kl993z4Au5A6",
        "colab_type": "code",
        "colab": {
          "base_uri": "https://localhost:8080/",
          "height": 142
        },
        "outputId": "7e6de50c-814f-4314-8b2e-a92d8790d31a"
      },
      "source": [
        "df1[(df1['Amber'] < 0.5) & (df1['Off-White'] > 0.3)]"
      ],
      "execution_count": 79,
      "outputs": [
        {
          "output_type": "execute_result",
          "data": {
            "text/html": [
              "<div>\n",
              "<style scoped>\n",
              "    .dataframe tbody tr th:only-of-type {\n",
              "        vertical-align: middle;\n",
              "    }\n",
              "\n",
              "    .dataframe tbody tr th {\n",
              "        vertical-align: top;\n",
              "    }\n",
              "\n",
              "    .dataframe thead th {\n",
              "        text-align: right;\n",
              "    }\n",
              "</style>\n",
              "<table border=\"1\" class=\"dataframe\">\n",
              "  <thead>\n",
              "    <tr style=\"text-align: right;\">\n",
              "      <th></th>\n",
              "      <th>Season</th>\n",
              "      <th>Brand</th>\n",
              "      <th>Description</th>\n",
              "      <th>Name</th>\n",
              "      <th>Boot</th>\n",
              "      <th>Off-White</th>\n",
              "      <th>Turfah</th>\n",
              "      <th>Louboutin</th>\n",
              "      <th>Amber</th>\n",
              "    </tr>\n",
              "  </thead>\n",
              "  <tbody>\n",
              "    <tr>\n",
              "      <th>I</th>\n",
              "      <td>-2.040323</td>\n",
              "      <td>0.046256</td>\n",
              "      <td>-0.677676</td>\n",
              "      <td>-1.439439</td>\n",
              "      <td>0.524296</td>\n",
              "      <td>0.735280</td>\n",
              "      <td>-0.653250</td>\n",
              "      <td>0.842456</td>\n",
              "      <td>0.189206</td>\n",
              "    </tr>\n",
              "    <tr>\n",
              "      <th>L</th>\n",
              "      <td>-0.462005</td>\n",
              "      <td>0.350888</td>\n",
              "      <td>0.381866</td>\n",
              "      <td>0.566275</td>\n",
              "      <td>0.204208</td>\n",
              "      <td>1.406696</td>\n",
              "      <td>-1.737960</td>\n",
              "      <td>1.040824</td>\n",
              "      <td>-0.697136</td>\n",
              "    </tr>\n",
              "    <tr>\n",
              "      <th>M</th>\n",
              "      <td>0.380472</td>\n",
              "      <td>-0.217135</td>\n",
              "      <td>1.173531</td>\n",
              "      <td>-2.343603</td>\n",
              "      <td>1.161521</td>\n",
              "      <td>0.386078</td>\n",
              "      <td>-1.133133</td>\n",
              "      <td>0.433093</td>\n",
              "      <td>-0.700041</td>\n",
              "    </tr>\n",
              "  </tbody>\n",
              "</table>\n",
              "</div>"
            ],
            "text/plain": [
              "     Season     Brand  Description      Name      Boot  Off-White    Turfah  \\\n",
              "I -2.040323  0.046256    -0.677676 -1.439439  0.524296   0.735280 -0.653250   \n",
              "L -0.462005  0.350888     0.381866  0.566275  0.204208   1.406696 -1.737960   \n",
              "M  0.380472 -0.217135     1.173531 -2.343603  1.161521   0.386078 -1.133133   \n",
              "\n",
              "   Louboutin     Amber  \n",
              "I   0.842456  0.189206  \n",
              "L   1.040824 -0.697136  \n",
              "M   0.433093 -0.700041  "
            ]
          },
          "metadata": {
            "tags": []
          },
          "execution_count": 79
        }
      ]
    },
    {
      "cell_type": "markdown",
      "metadata": {
        "id": "iGLxaizipmch",
        "colab_type": "text"
      },
      "source": [
        "## More Index Details\n",
        "\n",
        "Let's discuss some more features of indexing, including resetting the index or setting it something else. We'll also talk about index hierarchy!"
      ]
    },
    {
      "cell_type": "code",
      "metadata": {
        "id": "so5VjO1jpmch",
        "colab_type": "code",
        "colab": {
          "base_uri": "https://localhost:8080/",
          "height": 204
        },
        "outputId": "3c7c8a99-44ce-4a94-8d69-8df5535919b4"
      },
      "source": [
        "df"
      ],
      "execution_count": 80,
      "outputs": [
        {
          "output_type": "execute_result",
          "data": {
            "text/html": [
              "<div>\n",
              "<style scoped>\n",
              "    .dataframe tbody tr th:only-of-type {\n",
              "        vertical-align: middle;\n",
              "    }\n",
              "\n",
              "    .dataframe tbody tr th {\n",
              "        vertical-align: top;\n",
              "    }\n",
              "\n",
              "    .dataframe thead th {\n",
              "        text-align: right;\n",
              "    }\n",
              "</style>\n",
              "<table border=\"1\" class=\"dataframe\">\n",
              "  <thead>\n",
              "    <tr style=\"text-align: right;\">\n",
              "      <th></th>\n",
              "      <th>W</th>\n",
              "      <th>X</th>\n",
              "      <th>Y</th>\n",
              "      <th>Z</th>\n",
              "    </tr>\n",
              "  </thead>\n",
              "  <tbody>\n",
              "    <tr>\n",
              "      <th>A</th>\n",
              "      <td>2.706850</td>\n",
              "      <td>0.628133</td>\n",
              "      <td>0.907969</td>\n",
              "      <td>0.503826</td>\n",
              "    </tr>\n",
              "    <tr>\n",
              "      <th>B</th>\n",
              "      <td>0.651118</td>\n",
              "      <td>-0.319318</td>\n",
              "      <td>-0.848077</td>\n",
              "      <td>0.605965</td>\n",
              "    </tr>\n",
              "    <tr>\n",
              "      <th>C</th>\n",
              "      <td>-2.018168</td>\n",
              "      <td>0.740122</td>\n",
              "      <td>0.528813</td>\n",
              "      <td>-0.589001</td>\n",
              "    </tr>\n",
              "    <tr>\n",
              "      <th>D</th>\n",
              "      <td>0.188695</td>\n",
              "      <td>-0.758872</td>\n",
              "      <td>-0.933237</td>\n",
              "      <td>0.955057</td>\n",
              "    </tr>\n",
              "    <tr>\n",
              "      <th>E</th>\n",
              "      <td>0.190794</td>\n",
              "      <td>1.978757</td>\n",
              "      <td>2.605967</td>\n",
              "      <td>0.683509</td>\n",
              "    </tr>\n",
              "  </tbody>\n",
              "</table>\n",
              "</div>"
            ],
            "text/plain": [
              "          W         X         Y         Z\n",
              "A  2.706850  0.628133  0.907969  0.503826\n",
              "B  0.651118 -0.319318 -0.848077  0.605965\n",
              "C -2.018168  0.740122  0.528813 -0.589001\n",
              "D  0.188695 -0.758872 -0.933237  0.955057\n",
              "E  0.190794  1.978757  2.605967  0.683509"
            ]
          },
          "metadata": {
            "tags": []
          },
          "execution_count": 80
        }
      ]
    },
    {
      "cell_type": "code",
      "metadata": {
        "id": "kLAn-KqBwaHU",
        "colab_type": "code",
        "colab": {
          "base_uri": "https://localhost:8080/",
          "height": 514
        },
        "outputId": "ab920c09-8fe0-4de6-a656-832e2f7b4b59"
      },
      "source": [
        "df1"
      ],
      "execution_count": 81,
      "outputs": [
        {
          "output_type": "execute_result",
          "data": {
            "text/html": [
              "<div>\n",
              "<style scoped>\n",
              "    .dataframe tbody tr th:only-of-type {\n",
              "        vertical-align: middle;\n",
              "    }\n",
              "\n",
              "    .dataframe tbody tr th {\n",
              "        vertical-align: top;\n",
              "    }\n",
              "\n",
              "    .dataframe thead th {\n",
              "        text-align: right;\n",
              "    }\n",
              "</style>\n",
              "<table border=\"1\" class=\"dataframe\">\n",
              "  <thead>\n",
              "    <tr style=\"text-align: right;\">\n",
              "      <th></th>\n",
              "      <th>Season</th>\n",
              "      <th>Brand</th>\n",
              "      <th>Description</th>\n",
              "      <th>Name</th>\n",
              "      <th>Boot</th>\n",
              "      <th>Off-White</th>\n",
              "      <th>Turfah</th>\n",
              "      <th>Louboutin</th>\n",
              "      <th>Amber</th>\n",
              "    </tr>\n",
              "  </thead>\n",
              "  <tbody>\n",
              "    <tr>\n",
              "      <th>A</th>\n",
              "      <td>-0.416758</td>\n",
              "      <td>-0.056267</td>\n",
              "      <td>-2.136196</td>\n",
              "      <td>1.640271</td>\n",
              "      <td>-1.793436</td>\n",
              "      <td>-0.841747</td>\n",
              "      <td>0.502881</td>\n",
              "      <td>-1.245288</td>\n",
              "      <td>-0.742407</td>\n",
              "    </tr>\n",
              "    <tr>\n",
              "      <th>B</th>\n",
              "      <td>-1.057952</td>\n",
              "      <td>-0.909008</td>\n",
              "      <td>0.551454</td>\n",
              "      <td>2.292208</td>\n",
              "      <td>0.041539</td>\n",
              "      <td>-1.117925</td>\n",
              "      <td>0.539058</td>\n",
              "      <td>-0.596160</td>\n",
              "      <td>-0.057101</td>\n",
              "    </tr>\n",
              "    <tr>\n",
              "      <th>C</th>\n",
              "      <td>-0.019130</td>\n",
              "      <td>1.175001</td>\n",
              "      <td>-0.747871</td>\n",
              "      <td>0.009025</td>\n",
              "      <td>-0.878108</td>\n",
              "      <td>-0.156434</td>\n",
              "      <td>0.256570</td>\n",
              "      <td>-0.988779</td>\n",
              "      <td>-0.732209</td>\n",
              "    </tr>\n",
              "    <tr>\n",
              "      <th>D</th>\n",
              "      <td>-0.338822</td>\n",
              "      <td>-0.236184</td>\n",
              "      <td>-0.637655</td>\n",
              "      <td>-1.187612</td>\n",
              "      <td>-1.421217</td>\n",
              "      <td>-0.153495</td>\n",
              "      <td>-0.269057</td>\n",
              "      <td>2.231367</td>\n",
              "      <td>1.962310</td>\n",
              "    </tr>\n",
              "    <tr>\n",
              "      <th>E</th>\n",
              "      <td>-2.434768</td>\n",
              "      <td>0.112727</td>\n",
              "      <td>0.370445</td>\n",
              "      <td>1.359634</td>\n",
              "      <td>0.501857</td>\n",
              "      <td>-0.844214</td>\n",
              "      <td>0.000010</td>\n",
              "      <td>0.542353</td>\n",
              "      <td>0.542362</td>\n",
              "    </tr>\n",
              "    <tr>\n",
              "      <th>F</th>\n",
              "      <td>-0.313508</td>\n",
              "      <td>0.771012</td>\n",
              "      <td>-1.868091</td>\n",
              "      <td>1.731185</td>\n",
              "      <td>1.467678</td>\n",
              "      <td>-0.335677</td>\n",
              "      <td>0.611341</td>\n",
              "      <td>0.047971</td>\n",
              "      <td>0.659311</td>\n",
              "    </tr>\n",
              "    <tr>\n",
              "      <th>G</th>\n",
              "      <td>-0.829135</td>\n",
              "      <td>0.087710</td>\n",
              "      <td>1.000366</td>\n",
              "      <td>-0.381093</td>\n",
              "      <td>-0.375669</td>\n",
              "      <td>-0.074471</td>\n",
              "      <td>0.433496</td>\n",
              "      <td>1.278379</td>\n",
              "      <td>1.711876</td>\n",
              "    </tr>\n",
              "    <tr>\n",
              "      <th>H</th>\n",
              "      <td>-0.634679</td>\n",
              "      <td>0.508396</td>\n",
              "      <td>0.216116</td>\n",
              "      <td>-1.858612</td>\n",
              "      <td>-0.419316</td>\n",
              "      <td>-0.132329</td>\n",
              "      <td>-0.039570</td>\n",
              "      <td>0.326003</td>\n",
              "      <td>0.286433</td>\n",
              "    </tr>\n",
              "    <tr>\n",
              "      <th>I</th>\n",
              "      <td>-2.040323</td>\n",
              "      <td>0.046256</td>\n",
              "      <td>-0.677676</td>\n",
              "      <td>-1.439439</td>\n",
              "      <td>0.524296</td>\n",
              "      <td>0.735280</td>\n",
              "      <td>-0.653250</td>\n",
              "      <td>0.842456</td>\n",
              "      <td>0.189206</td>\n",
              "    </tr>\n",
              "    <tr>\n",
              "      <th>J</th>\n",
              "      <td>-0.381516</td>\n",
              "      <td>0.066489</td>\n",
              "      <td>-1.098739</td>\n",
              "      <td>1.584487</td>\n",
              "      <td>-2.659449</td>\n",
              "      <td>-0.091453</td>\n",
              "      <td>0.695120</td>\n",
              "      <td>-2.033467</td>\n",
              "      <td>-1.338347</td>\n",
              "    </tr>\n",
              "    <tr>\n",
              "      <th>K</th>\n",
              "      <td>-0.189469</td>\n",
              "      <td>-0.077219</td>\n",
              "      <td>0.824703</td>\n",
              "      <td>1.248213</td>\n",
              "      <td>-0.403892</td>\n",
              "      <td>-1.384519</td>\n",
              "      <td>1.367235</td>\n",
              "      <td>1.217886</td>\n",
              "      <td>2.585121</td>\n",
              "    </tr>\n",
              "    <tr>\n",
              "      <th>L</th>\n",
              "      <td>-0.462005</td>\n",
              "      <td>0.350888</td>\n",
              "      <td>0.381866</td>\n",
              "      <td>0.566275</td>\n",
              "      <td>0.204208</td>\n",
              "      <td>1.406696</td>\n",
              "      <td>-1.737960</td>\n",
              "      <td>1.040824</td>\n",
              "      <td>-0.697136</td>\n",
              "    </tr>\n",
              "    <tr>\n",
              "      <th>M</th>\n",
              "      <td>0.380472</td>\n",
              "      <td>-0.217135</td>\n",
              "      <td>1.173531</td>\n",
              "      <td>-2.343603</td>\n",
              "      <td>1.161521</td>\n",
              "      <td>0.386078</td>\n",
              "      <td>-1.133133</td>\n",
              "      <td>0.433093</td>\n",
              "      <td>-0.700041</td>\n",
              "    </tr>\n",
              "    <tr>\n",
              "      <th>N</th>\n",
              "      <td>-0.304086</td>\n",
              "      <td>2.585295</td>\n",
              "      <td>1.835333</td>\n",
              "      <td>0.440690</td>\n",
              "      <td>-0.719254</td>\n",
              "      <td>-0.583415</td>\n",
              "      <td>-0.325050</td>\n",
              "      <td>-0.560235</td>\n",
              "      <td>-0.885284</td>\n",
              "    </tr>\n",
              "    <tr>\n",
              "      <th>O</th>\n",
              "      <td>-0.902246</td>\n",
              "      <td>-0.590972</td>\n",
              "      <td>-0.276179</td>\n",
              "      <td>-0.516884</td>\n",
              "      <td>-0.698590</td>\n",
              "      <td>-0.928892</td>\n",
              "      <td>2.550438</td>\n",
              "      <td>-1.473173</td>\n",
              "      <td>1.077265</td>\n",
              "    </tr>\n",
              "  </tbody>\n",
              "</table>\n",
              "</div>"
            ],
            "text/plain": [
              "     Season     Brand  Description      Name      Boot  Off-White    Turfah  \\\n",
              "A -0.416758 -0.056267    -2.136196  1.640271 -1.793436  -0.841747  0.502881   \n",
              "B -1.057952 -0.909008     0.551454  2.292208  0.041539  -1.117925  0.539058   \n",
              "C -0.019130  1.175001    -0.747871  0.009025 -0.878108  -0.156434  0.256570   \n",
              "D -0.338822 -0.236184    -0.637655 -1.187612 -1.421217  -0.153495 -0.269057   \n",
              "E -2.434768  0.112727     0.370445  1.359634  0.501857  -0.844214  0.000010   \n",
              "F -0.313508  0.771012    -1.868091  1.731185  1.467678  -0.335677  0.611341   \n",
              "G -0.829135  0.087710     1.000366 -0.381093 -0.375669  -0.074471  0.433496   \n",
              "H -0.634679  0.508396     0.216116 -1.858612 -0.419316  -0.132329 -0.039570   \n",
              "I -2.040323  0.046256    -0.677676 -1.439439  0.524296   0.735280 -0.653250   \n",
              "J -0.381516  0.066489    -1.098739  1.584487 -2.659449  -0.091453  0.695120   \n",
              "K -0.189469 -0.077219     0.824703  1.248213 -0.403892  -1.384519  1.367235   \n",
              "L -0.462005  0.350888     0.381866  0.566275  0.204208   1.406696 -1.737960   \n",
              "M  0.380472 -0.217135     1.173531 -2.343603  1.161521   0.386078 -1.133133   \n",
              "N -0.304086  2.585295     1.835333  0.440690 -0.719254  -0.583415 -0.325050   \n",
              "O -0.902246 -0.590972    -0.276179 -0.516884 -0.698590  -0.928892  2.550438   \n",
              "\n",
              "   Louboutin     Amber  \n",
              "A  -1.245288 -0.742407  \n",
              "B  -0.596160 -0.057101  \n",
              "C  -0.988779 -0.732209  \n",
              "D   2.231367  1.962310  \n",
              "E   0.542353  0.542362  \n",
              "F   0.047971  0.659311  \n",
              "G   1.278379  1.711876  \n",
              "H   0.326003  0.286433  \n",
              "I   0.842456  0.189206  \n",
              "J  -2.033467 -1.338347  \n",
              "K   1.217886  2.585121  \n",
              "L   1.040824 -0.697136  \n",
              "M   0.433093 -0.700041  \n",
              "N  -0.560235 -0.885284  \n",
              "O  -1.473173  1.077265  "
            ]
          },
          "metadata": {
            "tags": []
          },
          "execution_count": 81
        }
      ]
    },
    {
      "cell_type": "code",
      "metadata": {
        "id": "mc64bXiTwa2w",
        "colab_type": "code",
        "colab": {
          "base_uri": "https://localhost:8080/",
          "height": 514
        },
        "outputId": "a4573f4d-c84f-4699-f594-abe01067e883"
      },
      "source": [
        "df1.reset_index()"
      ],
      "execution_count": 82,
      "outputs": [
        {
          "output_type": "execute_result",
          "data": {
            "text/html": [
              "<div>\n",
              "<style scoped>\n",
              "    .dataframe tbody tr th:only-of-type {\n",
              "        vertical-align: middle;\n",
              "    }\n",
              "\n",
              "    .dataframe tbody tr th {\n",
              "        vertical-align: top;\n",
              "    }\n",
              "\n",
              "    .dataframe thead th {\n",
              "        text-align: right;\n",
              "    }\n",
              "</style>\n",
              "<table border=\"1\" class=\"dataframe\">\n",
              "  <thead>\n",
              "    <tr style=\"text-align: right;\">\n",
              "      <th></th>\n",
              "      <th>index</th>\n",
              "      <th>Season</th>\n",
              "      <th>Brand</th>\n",
              "      <th>Description</th>\n",
              "      <th>Name</th>\n",
              "      <th>Boot</th>\n",
              "      <th>Off-White</th>\n",
              "      <th>Turfah</th>\n",
              "      <th>Louboutin</th>\n",
              "      <th>Amber</th>\n",
              "    </tr>\n",
              "  </thead>\n",
              "  <tbody>\n",
              "    <tr>\n",
              "      <th>0</th>\n",
              "      <td>A</td>\n",
              "      <td>-0.416758</td>\n",
              "      <td>-0.056267</td>\n",
              "      <td>-2.136196</td>\n",
              "      <td>1.640271</td>\n",
              "      <td>-1.793436</td>\n",
              "      <td>-0.841747</td>\n",
              "      <td>0.502881</td>\n",
              "      <td>-1.245288</td>\n",
              "      <td>-0.742407</td>\n",
              "    </tr>\n",
              "    <tr>\n",
              "      <th>1</th>\n",
              "      <td>B</td>\n",
              "      <td>-1.057952</td>\n",
              "      <td>-0.909008</td>\n",
              "      <td>0.551454</td>\n",
              "      <td>2.292208</td>\n",
              "      <td>0.041539</td>\n",
              "      <td>-1.117925</td>\n",
              "      <td>0.539058</td>\n",
              "      <td>-0.596160</td>\n",
              "      <td>-0.057101</td>\n",
              "    </tr>\n",
              "    <tr>\n",
              "      <th>2</th>\n",
              "      <td>C</td>\n",
              "      <td>-0.019130</td>\n",
              "      <td>1.175001</td>\n",
              "      <td>-0.747871</td>\n",
              "      <td>0.009025</td>\n",
              "      <td>-0.878108</td>\n",
              "      <td>-0.156434</td>\n",
              "      <td>0.256570</td>\n",
              "      <td>-0.988779</td>\n",
              "      <td>-0.732209</td>\n",
              "    </tr>\n",
              "    <tr>\n",
              "      <th>3</th>\n",
              "      <td>D</td>\n",
              "      <td>-0.338822</td>\n",
              "      <td>-0.236184</td>\n",
              "      <td>-0.637655</td>\n",
              "      <td>-1.187612</td>\n",
              "      <td>-1.421217</td>\n",
              "      <td>-0.153495</td>\n",
              "      <td>-0.269057</td>\n",
              "      <td>2.231367</td>\n",
              "      <td>1.962310</td>\n",
              "    </tr>\n",
              "    <tr>\n",
              "      <th>4</th>\n",
              "      <td>E</td>\n",
              "      <td>-2.434768</td>\n",
              "      <td>0.112727</td>\n",
              "      <td>0.370445</td>\n",
              "      <td>1.359634</td>\n",
              "      <td>0.501857</td>\n",
              "      <td>-0.844214</td>\n",
              "      <td>0.000010</td>\n",
              "      <td>0.542353</td>\n",
              "      <td>0.542362</td>\n",
              "    </tr>\n",
              "    <tr>\n",
              "      <th>5</th>\n",
              "      <td>F</td>\n",
              "      <td>-0.313508</td>\n",
              "      <td>0.771012</td>\n",
              "      <td>-1.868091</td>\n",
              "      <td>1.731185</td>\n",
              "      <td>1.467678</td>\n",
              "      <td>-0.335677</td>\n",
              "      <td>0.611341</td>\n",
              "      <td>0.047971</td>\n",
              "      <td>0.659311</td>\n",
              "    </tr>\n",
              "    <tr>\n",
              "      <th>6</th>\n",
              "      <td>G</td>\n",
              "      <td>-0.829135</td>\n",
              "      <td>0.087710</td>\n",
              "      <td>1.000366</td>\n",
              "      <td>-0.381093</td>\n",
              "      <td>-0.375669</td>\n",
              "      <td>-0.074471</td>\n",
              "      <td>0.433496</td>\n",
              "      <td>1.278379</td>\n",
              "      <td>1.711876</td>\n",
              "    </tr>\n",
              "    <tr>\n",
              "      <th>7</th>\n",
              "      <td>H</td>\n",
              "      <td>-0.634679</td>\n",
              "      <td>0.508396</td>\n",
              "      <td>0.216116</td>\n",
              "      <td>-1.858612</td>\n",
              "      <td>-0.419316</td>\n",
              "      <td>-0.132329</td>\n",
              "      <td>-0.039570</td>\n",
              "      <td>0.326003</td>\n",
              "      <td>0.286433</td>\n",
              "    </tr>\n",
              "    <tr>\n",
              "      <th>8</th>\n",
              "      <td>I</td>\n",
              "      <td>-2.040323</td>\n",
              "      <td>0.046256</td>\n",
              "      <td>-0.677676</td>\n",
              "      <td>-1.439439</td>\n",
              "      <td>0.524296</td>\n",
              "      <td>0.735280</td>\n",
              "      <td>-0.653250</td>\n",
              "      <td>0.842456</td>\n",
              "      <td>0.189206</td>\n",
              "    </tr>\n",
              "    <tr>\n",
              "      <th>9</th>\n",
              "      <td>J</td>\n",
              "      <td>-0.381516</td>\n",
              "      <td>0.066489</td>\n",
              "      <td>-1.098739</td>\n",
              "      <td>1.584487</td>\n",
              "      <td>-2.659449</td>\n",
              "      <td>-0.091453</td>\n",
              "      <td>0.695120</td>\n",
              "      <td>-2.033467</td>\n",
              "      <td>-1.338347</td>\n",
              "    </tr>\n",
              "    <tr>\n",
              "      <th>10</th>\n",
              "      <td>K</td>\n",
              "      <td>-0.189469</td>\n",
              "      <td>-0.077219</td>\n",
              "      <td>0.824703</td>\n",
              "      <td>1.248213</td>\n",
              "      <td>-0.403892</td>\n",
              "      <td>-1.384519</td>\n",
              "      <td>1.367235</td>\n",
              "      <td>1.217886</td>\n",
              "      <td>2.585121</td>\n",
              "    </tr>\n",
              "    <tr>\n",
              "      <th>11</th>\n",
              "      <td>L</td>\n",
              "      <td>-0.462005</td>\n",
              "      <td>0.350888</td>\n",
              "      <td>0.381866</td>\n",
              "      <td>0.566275</td>\n",
              "      <td>0.204208</td>\n",
              "      <td>1.406696</td>\n",
              "      <td>-1.737960</td>\n",
              "      <td>1.040824</td>\n",
              "      <td>-0.697136</td>\n",
              "    </tr>\n",
              "    <tr>\n",
              "      <th>12</th>\n",
              "      <td>M</td>\n",
              "      <td>0.380472</td>\n",
              "      <td>-0.217135</td>\n",
              "      <td>1.173531</td>\n",
              "      <td>-2.343603</td>\n",
              "      <td>1.161521</td>\n",
              "      <td>0.386078</td>\n",
              "      <td>-1.133133</td>\n",
              "      <td>0.433093</td>\n",
              "      <td>-0.700041</td>\n",
              "    </tr>\n",
              "    <tr>\n",
              "      <th>13</th>\n",
              "      <td>N</td>\n",
              "      <td>-0.304086</td>\n",
              "      <td>2.585295</td>\n",
              "      <td>1.835333</td>\n",
              "      <td>0.440690</td>\n",
              "      <td>-0.719254</td>\n",
              "      <td>-0.583415</td>\n",
              "      <td>-0.325050</td>\n",
              "      <td>-0.560235</td>\n",
              "      <td>-0.885284</td>\n",
              "    </tr>\n",
              "    <tr>\n",
              "      <th>14</th>\n",
              "      <td>O</td>\n",
              "      <td>-0.902246</td>\n",
              "      <td>-0.590972</td>\n",
              "      <td>-0.276179</td>\n",
              "      <td>-0.516884</td>\n",
              "      <td>-0.698590</td>\n",
              "      <td>-0.928892</td>\n",
              "      <td>2.550438</td>\n",
              "      <td>-1.473173</td>\n",
              "      <td>1.077265</td>\n",
              "    </tr>\n",
              "  </tbody>\n",
              "</table>\n",
              "</div>"
            ],
            "text/plain": [
              "   index    Season     Brand  Description      Name      Boot  Off-White  \\\n",
              "0      A -0.416758 -0.056267    -2.136196  1.640271 -1.793436  -0.841747   \n",
              "1      B -1.057952 -0.909008     0.551454  2.292208  0.041539  -1.117925   \n",
              "2      C -0.019130  1.175001    -0.747871  0.009025 -0.878108  -0.156434   \n",
              "3      D -0.338822 -0.236184    -0.637655 -1.187612 -1.421217  -0.153495   \n",
              "4      E -2.434768  0.112727     0.370445  1.359634  0.501857  -0.844214   \n",
              "5      F -0.313508  0.771012    -1.868091  1.731185  1.467678  -0.335677   \n",
              "6      G -0.829135  0.087710     1.000366 -0.381093 -0.375669  -0.074471   \n",
              "7      H -0.634679  0.508396     0.216116 -1.858612 -0.419316  -0.132329   \n",
              "8      I -2.040323  0.046256    -0.677676 -1.439439  0.524296   0.735280   \n",
              "9      J -0.381516  0.066489    -1.098739  1.584487 -2.659449  -0.091453   \n",
              "10     K -0.189469 -0.077219     0.824703  1.248213 -0.403892  -1.384519   \n",
              "11     L -0.462005  0.350888     0.381866  0.566275  0.204208   1.406696   \n",
              "12     M  0.380472 -0.217135     1.173531 -2.343603  1.161521   0.386078   \n",
              "13     N -0.304086  2.585295     1.835333  0.440690 -0.719254  -0.583415   \n",
              "14     O -0.902246 -0.590972    -0.276179 -0.516884 -0.698590  -0.928892   \n",
              "\n",
              "      Turfah  Louboutin     Amber  \n",
              "0   0.502881  -1.245288 -0.742407  \n",
              "1   0.539058  -0.596160 -0.057101  \n",
              "2   0.256570  -0.988779 -0.732209  \n",
              "3  -0.269057   2.231367  1.962310  \n",
              "4   0.000010   0.542353  0.542362  \n",
              "5   0.611341   0.047971  0.659311  \n",
              "6   0.433496   1.278379  1.711876  \n",
              "7  -0.039570   0.326003  0.286433  \n",
              "8  -0.653250   0.842456  0.189206  \n",
              "9   0.695120  -2.033467 -1.338347  \n",
              "10  1.367235   1.217886  2.585121  \n",
              "11 -1.737960   1.040824 -0.697136  \n",
              "12 -1.133133   0.433093 -0.700041  \n",
              "13 -0.325050  -0.560235 -0.885284  \n",
              "14  2.550438  -1.473173  1.077265  "
            ]
          },
          "metadata": {
            "tags": []
          },
          "execution_count": 82
        }
      ]
    },
    {
      "cell_type": "code",
      "metadata": {
        "id": "bf7zq2r2pmcm",
        "colab_type": "code",
        "colab": {
          "base_uri": "https://localhost:8080/",
          "height": 204
        },
        "outputId": "7e7529f8-6755-4343-e85d-8435c46a1dc9"
      },
      "source": [
        "# Reset to default 0,1...n index\n",
        "df.reset_index()"
      ],
      "execution_count": 83,
      "outputs": [
        {
          "output_type": "execute_result",
          "data": {
            "text/html": [
              "<div>\n",
              "<style scoped>\n",
              "    .dataframe tbody tr th:only-of-type {\n",
              "        vertical-align: middle;\n",
              "    }\n",
              "\n",
              "    .dataframe tbody tr th {\n",
              "        vertical-align: top;\n",
              "    }\n",
              "\n",
              "    .dataframe thead th {\n",
              "        text-align: right;\n",
              "    }\n",
              "</style>\n",
              "<table border=\"1\" class=\"dataframe\">\n",
              "  <thead>\n",
              "    <tr style=\"text-align: right;\">\n",
              "      <th></th>\n",
              "      <th>index</th>\n",
              "      <th>W</th>\n",
              "      <th>X</th>\n",
              "      <th>Y</th>\n",
              "      <th>Z</th>\n",
              "    </tr>\n",
              "  </thead>\n",
              "  <tbody>\n",
              "    <tr>\n",
              "      <th>0</th>\n",
              "      <td>A</td>\n",
              "      <td>2.706850</td>\n",
              "      <td>0.628133</td>\n",
              "      <td>0.907969</td>\n",
              "      <td>0.503826</td>\n",
              "    </tr>\n",
              "    <tr>\n",
              "      <th>1</th>\n",
              "      <td>B</td>\n",
              "      <td>0.651118</td>\n",
              "      <td>-0.319318</td>\n",
              "      <td>-0.848077</td>\n",
              "      <td>0.605965</td>\n",
              "    </tr>\n",
              "    <tr>\n",
              "      <th>2</th>\n",
              "      <td>C</td>\n",
              "      <td>-2.018168</td>\n",
              "      <td>0.740122</td>\n",
              "      <td>0.528813</td>\n",
              "      <td>-0.589001</td>\n",
              "    </tr>\n",
              "    <tr>\n",
              "      <th>3</th>\n",
              "      <td>D</td>\n",
              "      <td>0.188695</td>\n",
              "      <td>-0.758872</td>\n",
              "      <td>-0.933237</td>\n",
              "      <td>0.955057</td>\n",
              "    </tr>\n",
              "    <tr>\n",
              "      <th>4</th>\n",
              "      <td>E</td>\n",
              "      <td>0.190794</td>\n",
              "      <td>1.978757</td>\n",
              "      <td>2.605967</td>\n",
              "      <td>0.683509</td>\n",
              "    </tr>\n",
              "  </tbody>\n",
              "</table>\n",
              "</div>"
            ],
            "text/plain": [
              "  index         W         X         Y         Z\n",
              "0     A  2.706850  0.628133  0.907969  0.503826\n",
              "1     B  0.651118 -0.319318 -0.848077  0.605965\n",
              "2     C -2.018168  0.740122  0.528813 -0.589001\n",
              "3     D  0.188695 -0.758872 -0.933237  0.955057\n",
              "4     E  0.190794  1.978757  2.605967  0.683509"
            ]
          },
          "metadata": {
            "tags": []
          },
          "execution_count": 83
        }
      ]
    },
    {
      "cell_type": "code",
      "metadata": {
        "id": "-TLEw_oxpmcs",
        "colab_type": "code",
        "colab": {}
      },
      "source": [
        "newind = 'CA NY WY OR CO'.split()"
      ],
      "execution_count": 0,
      "outputs": []
    },
    {
      "cell_type": "code",
      "metadata": {
        "id": "vw3X8f2jpmcv",
        "colab_type": "code",
        "colab": {}
      },
      "source": [
        "df['States'] = newind"
      ],
      "execution_count": 0,
      "outputs": []
    },
    {
      "cell_type": "code",
      "metadata": {
        "id": "n9ddOidSpmcy",
        "colab_type": "code",
        "colab": {
          "base_uri": "https://localhost:8080/",
          "height": 204
        },
        "outputId": "33370808-5cce-40d5-c2aa-457d0f454a29"
      },
      "source": [
        "df"
      ],
      "execution_count": 87,
      "outputs": [
        {
          "output_type": "execute_result",
          "data": {
            "text/html": [
              "<div>\n",
              "<style scoped>\n",
              "    .dataframe tbody tr th:only-of-type {\n",
              "        vertical-align: middle;\n",
              "    }\n",
              "\n",
              "    .dataframe tbody tr th {\n",
              "        vertical-align: top;\n",
              "    }\n",
              "\n",
              "    .dataframe thead th {\n",
              "        text-align: right;\n",
              "    }\n",
              "</style>\n",
              "<table border=\"1\" class=\"dataframe\">\n",
              "  <thead>\n",
              "    <tr style=\"text-align: right;\">\n",
              "      <th></th>\n",
              "      <th>W</th>\n",
              "      <th>X</th>\n",
              "      <th>Y</th>\n",
              "      <th>Z</th>\n",
              "      <th>States</th>\n",
              "    </tr>\n",
              "  </thead>\n",
              "  <tbody>\n",
              "    <tr>\n",
              "      <th>A</th>\n",
              "      <td>2.706850</td>\n",
              "      <td>0.628133</td>\n",
              "      <td>0.907969</td>\n",
              "      <td>0.503826</td>\n",
              "      <td>CA</td>\n",
              "    </tr>\n",
              "    <tr>\n",
              "      <th>B</th>\n",
              "      <td>0.651118</td>\n",
              "      <td>-0.319318</td>\n",
              "      <td>-0.848077</td>\n",
              "      <td>0.605965</td>\n",
              "      <td>NY</td>\n",
              "    </tr>\n",
              "    <tr>\n",
              "      <th>C</th>\n",
              "      <td>-2.018168</td>\n",
              "      <td>0.740122</td>\n",
              "      <td>0.528813</td>\n",
              "      <td>-0.589001</td>\n",
              "      <td>WY</td>\n",
              "    </tr>\n",
              "    <tr>\n",
              "      <th>D</th>\n",
              "      <td>0.188695</td>\n",
              "      <td>-0.758872</td>\n",
              "      <td>-0.933237</td>\n",
              "      <td>0.955057</td>\n",
              "      <td>OR</td>\n",
              "    </tr>\n",
              "    <tr>\n",
              "      <th>E</th>\n",
              "      <td>0.190794</td>\n",
              "      <td>1.978757</td>\n",
              "      <td>2.605967</td>\n",
              "      <td>0.683509</td>\n",
              "      <td>CO</td>\n",
              "    </tr>\n",
              "  </tbody>\n",
              "</table>\n",
              "</div>"
            ],
            "text/plain": [
              "          W         X         Y         Z States\n",
              "A  2.706850  0.628133  0.907969  0.503826     CA\n",
              "B  0.651118 -0.319318 -0.848077  0.605965     NY\n",
              "C -2.018168  0.740122  0.528813 -0.589001     WY\n",
              "D  0.188695 -0.758872 -0.933237  0.955057     OR\n",
              "E  0.190794  1.978757  2.605967  0.683509     CO"
            ]
          },
          "metadata": {
            "tags": []
          },
          "execution_count": 87
        }
      ]
    },
    {
      "cell_type": "code",
      "metadata": {
        "id": "pAkUm-r_wy7A",
        "colab_type": "code",
        "colab": {}
      },
      "source": [
        "int_new = 'Fashion Lifestyle Womenswear Menswear WomensAccessories MensAccessories WomensShoes MensShoes WomensRTW MensRTW HomeGoods Art Sandals Dresses Other'.split()"
      ],
      "execution_count": 0,
      "outputs": []
    },
    {
      "cell_type": "code",
      "metadata": {
        "id": "B0E5QdjmxjMN",
        "colab_type": "code",
        "colab": {}
      },
      "source": [
        "df1['Category1'] = int_new"
      ],
      "execution_count": 0,
      "outputs": []
    },
    {
      "cell_type": "code",
      "metadata": {
        "id": "SCfQPxDPxwqc",
        "colab_type": "code",
        "colab": {
          "base_uri": "https://localhost:8080/",
          "height": 545
        },
        "outputId": "a1d375b8-acd0-49bc-bb94-a459c3f72cd5"
      },
      "source": [
        "df1"
      ],
      "execution_count": 110,
      "outputs": [
        {
          "output_type": "execute_result",
          "data": {
            "text/html": [
              "<div>\n",
              "<style scoped>\n",
              "    .dataframe tbody tr th:only-of-type {\n",
              "        vertical-align: middle;\n",
              "    }\n",
              "\n",
              "    .dataframe tbody tr th {\n",
              "        vertical-align: top;\n",
              "    }\n",
              "\n",
              "    .dataframe thead th {\n",
              "        text-align: right;\n",
              "    }\n",
              "</style>\n",
              "<table border=\"1\" class=\"dataframe\">\n",
              "  <thead>\n",
              "    <tr style=\"text-align: right;\">\n",
              "      <th></th>\n",
              "      <th>Season</th>\n",
              "      <th>Brand</th>\n",
              "      <th>Description</th>\n",
              "      <th>Name</th>\n",
              "      <th>Boot</th>\n",
              "      <th>Off-White</th>\n",
              "      <th>Turfah</th>\n",
              "      <th>Louboutin</th>\n",
              "      <th>Amber</th>\n",
              "      <th>Category1</th>\n",
              "    </tr>\n",
              "    <tr>\n",
              "      <th>Category1</th>\n",
              "      <th></th>\n",
              "      <th></th>\n",
              "      <th></th>\n",
              "      <th></th>\n",
              "      <th></th>\n",
              "      <th></th>\n",
              "      <th></th>\n",
              "      <th></th>\n",
              "      <th></th>\n",
              "      <th></th>\n",
              "    </tr>\n",
              "  </thead>\n",
              "  <tbody>\n",
              "    <tr>\n",
              "      <th>Fashion</th>\n",
              "      <td>-0.416758</td>\n",
              "      <td>-0.056267</td>\n",
              "      <td>-2.136196</td>\n",
              "      <td>1.640271</td>\n",
              "      <td>-1.793436</td>\n",
              "      <td>-0.841747</td>\n",
              "      <td>0.502881</td>\n",
              "      <td>-1.245288</td>\n",
              "      <td>-0.742407</td>\n",
              "      <td>Fashion</td>\n",
              "    </tr>\n",
              "    <tr>\n",
              "      <th>Lifestyle</th>\n",
              "      <td>-1.057952</td>\n",
              "      <td>-0.909008</td>\n",
              "      <td>0.551454</td>\n",
              "      <td>2.292208</td>\n",
              "      <td>0.041539</td>\n",
              "      <td>-1.117925</td>\n",
              "      <td>0.539058</td>\n",
              "      <td>-0.596160</td>\n",
              "      <td>-0.057101</td>\n",
              "      <td>Lifestyle</td>\n",
              "    </tr>\n",
              "    <tr>\n",
              "      <th>Womenswear</th>\n",
              "      <td>-0.019130</td>\n",
              "      <td>1.175001</td>\n",
              "      <td>-0.747871</td>\n",
              "      <td>0.009025</td>\n",
              "      <td>-0.878108</td>\n",
              "      <td>-0.156434</td>\n",
              "      <td>0.256570</td>\n",
              "      <td>-0.988779</td>\n",
              "      <td>-0.732209</td>\n",
              "      <td>Womenswear</td>\n",
              "    </tr>\n",
              "    <tr>\n",
              "      <th>Menswear</th>\n",
              "      <td>-0.338822</td>\n",
              "      <td>-0.236184</td>\n",
              "      <td>-0.637655</td>\n",
              "      <td>-1.187612</td>\n",
              "      <td>-1.421217</td>\n",
              "      <td>-0.153495</td>\n",
              "      <td>-0.269057</td>\n",
              "      <td>2.231367</td>\n",
              "      <td>1.962310</td>\n",
              "      <td>Menswear</td>\n",
              "    </tr>\n",
              "    <tr>\n",
              "      <th>WomensAccessories</th>\n",
              "      <td>-2.434768</td>\n",
              "      <td>0.112727</td>\n",
              "      <td>0.370445</td>\n",
              "      <td>1.359634</td>\n",
              "      <td>0.501857</td>\n",
              "      <td>-0.844214</td>\n",
              "      <td>0.000010</td>\n",
              "      <td>0.542353</td>\n",
              "      <td>0.542362</td>\n",
              "      <td>WomensAccessories</td>\n",
              "    </tr>\n",
              "    <tr>\n",
              "      <th>MensAccessories</th>\n",
              "      <td>-0.313508</td>\n",
              "      <td>0.771012</td>\n",
              "      <td>-1.868091</td>\n",
              "      <td>1.731185</td>\n",
              "      <td>1.467678</td>\n",
              "      <td>-0.335677</td>\n",
              "      <td>0.611341</td>\n",
              "      <td>0.047971</td>\n",
              "      <td>0.659311</td>\n",
              "      <td>MensAccessories</td>\n",
              "    </tr>\n",
              "    <tr>\n",
              "      <th>WomensShoes</th>\n",
              "      <td>-0.829135</td>\n",
              "      <td>0.087710</td>\n",
              "      <td>1.000366</td>\n",
              "      <td>-0.381093</td>\n",
              "      <td>-0.375669</td>\n",
              "      <td>-0.074471</td>\n",
              "      <td>0.433496</td>\n",
              "      <td>1.278379</td>\n",
              "      <td>1.711876</td>\n",
              "      <td>WomensShoes</td>\n",
              "    </tr>\n",
              "    <tr>\n",
              "      <th>MensShoes</th>\n",
              "      <td>-0.634679</td>\n",
              "      <td>0.508396</td>\n",
              "      <td>0.216116</td>\n",
              "      <td>-1.858612</td>\n",
              "      <td>-0.419316</td>\n",
              "      <td>-0.132329</td>\n",
              "      <td>-0.039570</td>\n",
              "      <td>0.326003</td>\n",
              "      <td>0.286433</td>\n",
              "      <td>MensShoes</td>\n",
              "    </tr>\n",
              "    <tr>\n",
              "      <th>WomensRTW</th>\n",
              "      <td>-2.040323</td>\n",
              "      <td>0.046256</td>\n",
              "      <td>-0.677676</td>\n",
              "      <td>-1.439439</td>\n",
              "      <td>0.524296</td>\n",
              "      <td>0.735280</td>\n",
              "      <td>-0.653250</td>\n",
              "      <td>0.842456</td>\n",
              "      <td>0.189206</td>\n",
              "      <td>WomensRTW</td>\n",
              "    </tr>\n",
              "    <tr>\n",
              "      <th>MensRTW</th>\n",
              "      <td>-0.381516</td>\n",
              "      <td>0.066489</td>\n",
              "      <td>-1.098739</td>\n",
              "      <td>1.584487</td>\n",
              "      <td>-2.659449</td>\n",
              "      <td>-0.091453</td>\n",
              "      <td>0.695120</td>\n",
              "      <td>-2.033467</td>\n",
              "      <td>-1.338347</td>\n",
              "      <td>MensRTW</td>\n",
              "    </tr>\n",
              "    <tr>\n",
              "      <th>HomeGoods</th>\n",
              "      <td>-0.189469</td>\n",
              "      <td>-0.077219</td>\n",
              "      <td>0.824703</td>\n",
              "      <td>1.248213</td>\n",
              "      <td>-0.403892</td>\n",
              "      <td>-1.384519</td>\n",
              "      <td>1.367235</td>\n",
              "      <td>1.217886</td>\n",
              "      <td>2.585121</td>\n",
              "      <td>HomeGoods</td>\n",
              "    </tr>\n",
              "    <tr>\n",
              "      <th>Art</th>\n",
              "      <td>-0.462005</td>\n",
              "      <td>0.350888</td>\n",
              "      <td>0.381866</td>\n",
              "      <td>0.566275</td>\n",
              "      <td>0.204208</td>\n",
              "      <td>1.406696</td>\n",
              "      <td>-1.737960</td>\n",
              "      <td>1.040824</td>\n",
              "      <td>-0.697136</td>\n",
              "      <td>Art</td>\n",
              "    </tr>\n",
              "    <tr>\n",
              "      <th>Sandals</th>\n",
              "      <td>0.380472</td>\n",
              "      <td>-0.217135</td>\n",
              "      <td>1.173531</td>\n",
              "      <td>-2.343603</td>\n",
              "      <td>1.161521</td>\n",
              "      <td>0.386078</td>\n",
              "      <td>-1.133133</td>\n",
              "      <td>0.433093</td>\n",
              "      <td>-0.700041</td>\n",
              "      <td>Sandals</td>\n",
              "    </tr>\n",
              "    <tr>\n",
              "      <th>Dresses</th>\n",
              "      <td>-0.304086</td>\n",
              "      <td>2.585295</td>\n",
              "      <td>1.835333</td>\n",
              "      <td>0.440690</td>\n",
              "      <td>-0.719254</td>\n",
              "      <td>-0.583415</td>\n",
              "      <td>-0.325050</td>\n",
              "      <td>-0.560235</td>\n",
              "      <td>-0.885284</td>\n",
              "      <td>Dresses</td>\n",
              "    </tr>\n",
              "    <tr>\n",
              "      <th>Other</th>\n",
              "      <td>-0.902246</td>\n",
              "      <td>-0.590972</td>\n",
              "      <td>-0.276179</td>\n",
              "      <td>-0.516884</td>\n",
              "      <td>-0.698590</td>\n",
              "      <td>-0.928892</td>\n",
              "      <td>2.550438</td>\n",
              "      <td>-1.473173</td>\n",
              "      <td>1.077265</td>\n",
              "      <td>Other</td>\n",
              "    </tr>\n",
              "  </tbody>\n",
              "</table>\n",
              "</div>"
            ],
            "text/plain": [
              "                     Season     Brand  Description      Name      Boot  \\\n",
              "Category1                                                                \n",
              "Fashion           -0.416758 -0.056267    -2.136196  1.640271 -1.793436   \n",
              "Lifestyle         -1.057952 -0.909008     0.551454  2.292208  0.041539   \n",
              "Womenswear        -0.019130  1.175001    -0.747871  0.009025 -0.878108   \n",
              "Menswear          -0.338822 -0.236184    -0.637655 -1.187612 -1.421217   \n",
              "WomensAccessories -2.434768  0.112727     0.370445  1.359634  0.501857   \n",
              "MensAccessories   -0.313508  0.771012    -1.868091  1.731185  1.467678   \n",
              "WomensShoes       -0.829135  0.087710     1.000366 -0.381093 -0.375669   \n",
              "MensShoes         -0.634679  0.508396     0.216116 -1.858612 -0.419316   \n",
              "WomensRTW         -2.040323  0.046256    -0.677676 -1.439439  0.524296   \n",
              "MensRTW           -0.381516  0.066489    -1.098739  1.584487 -2.659449   \n",
              "HomeGoods         -0.189469 -0.077219     0.824703  1.248213 -0.403892   \n",
              "Art               -0.462005  0.350888     0.381866  0.566275  0.204208   \n",
              "Sandals            0.380472 -0.217135     1.173531 -2.343603  1.161521   \n",
              "Dresses           -0.304086  2.585295     1.835333  0.440690 -0.719254   \n",
              "Other             -0.902246 -0.590972    -0.276179 -0.516884 -0.698590   \n",
              "\n",
              "                   Off-White    Turfah  Louboutin     Amber          Category1  \n",
              "Category1                                                                       \n",
              "Fashion            -0.841747  0.502881  -1.245288 -0.742407            Fashion  \n",
              "Lifestyle          -1.117925  0.539058  -0.596160 -0.057101          Lifestyle  \n",
              "Womenswear         -0.156434  0.256570  -0.988779 -0.732209         Womenswear  \n",
              "Menswear           -0.153495 -0.269057   2.231367  1.962310           Menswear  \n",
              "WomensAccessories  -0.844214  0.000010   0.542353  0.542362  WomensAccessories  \n",
              "MensAccessories    -0.335677  0.611341   0.047971  0.659311    MensAccessories  \n",
              "WomensShoes        -0.074471  0.433496   1.278379  1.711876        WomensShoes  \n",
              "MensShoes          -0.132329 -0.039570   0.326003  0.286433          MensShoes  \n",
              "WomensRTW           0.735280 -0.653250   0.842456  0.189206          WomensRTW  \n",
              "MensRTW            -0.091453  0.695120  -2.033467 -1.338347            MensRTW  \n",
              "HomeGoods          -1.384519  1.367235   1.217886  2.585121          HomeGoods  \n",
              "Art                 1.406696 -1.737960   1.040824 -0.697136                Art  \n",
              "Sandals             0.386078 -1.133133   0.433093 -0.700041            Sandals  \n",
              "Dresses            -0.583415 -0.325050  -0.560235 -0.885284            Dresses  \n",
              "Other              -0.928892  2.550438  -1.473173  1.077265              Other  "
            ]
          },
          "metadata": {
            "tags": []
          },
          "execution_count": 110
        }
      ]
    },
    {
      "cell_type": "code",
      "metadata": {
        "id": "LI9d-C2Zpmc2",
        "colab_type": "code",
        "colab": {
          "base_uri": "https://localhost:8080/",
          "height": 235
        },
        "outputId": "a99df984-efde-4e19-9c42-0dda85b36cee"
      },
      "source": [
        "df.set_index('States')"
      ],
      "execution_count": 111,
      "outputs": [
        {
          "output_type": "execute_result",
          "data": {
            "text/html": [
              "<div>\n",
              "<style scoped>\n",
              "    .dataframe tbody tr th:only-of-type {\n",
              "        vertical-align: middle;\n",
              "    }\n",
              "\n",
              "    .dataframe tbody tr th {\n",
              "        vertical-align: top;\n",
              "    }\n",
              "\n",
              "    .dataframe thead th {\n",
              "        text-align: right;\n",
              "    }\n",
              "</style>\n",
              "<table border=\"1\" class=\"dataframe\">\n",
              "  <thead>\n",
              "    <tr style=\"text-align: right;\">\n",
              "      <th></th>\n",
              "      <th>W</th>\n",
              "      <th>X</th>\n",
              "      <th>Y</th>\n",
              "      <th>Z</th>\n",
              "    </tr>\n",
              "    <tr>\n",
              "      <th>States</th>\n",
              "      <th></th>\n",
              "      <th></th>\n",
              "      <th></th>\n",
              "      <th></th>\n",
              "    </tr>\n",
              "  </thead>\n",
              "  <tbody>\n",
              "    <tr>\n",
              "      <th>CA</th>\n",
              "      <td>2.706850</td>\n",
              "      <td>0.628133</td>\n",
              "      <td>0.907969</td>\n",
              "      <td>0.503826</td>\n",
              "    </tr>\n",
              "    <tr>\n",
              "      <th>NY</th>\n",
              "      <td>0.651118</td>\n",
              "      <td>-0.319318</td>\n",
              "      <td>-0.848077</td>\n",
              "      <td>0.605965</td>\n",
              "    </tr>\n",
              "    <tr>\n",
              "      <th>WY</th>\n",
              "      <td>-2.018168</td>\n",
              "      <td>0.740122</td>\n",
              "      <td>0.528813</td>\n",
              "      <td>-0.589001</td>\n",
              "    </tr>\n",
              "    <tr>\n",
              "      <th>OR</th>\n",
              "      <td>0.188695</td>\n",
              "      <td>-0.758872</td>\n",
              "      <td>-0.933237</td>\n",
              "      <td>0.955057</td>\n",
              "    </tr>\n",
              "    <tr>\n",
              "      <th>CO</th>\n",
              "      <td>0.190794</td>\n",
              "      <td>1.978757</td>\n",
              "      <td>2.605967</td>\n",
              "      <td>0.683509</td>\n",
              "    </tr>\n",
              "  </tbody>\n",
              "</table>\n",
              "</div>"
            ],
            "text/plain": [
              "               W         X         Y         Z\n",
              "States                                        \n",
              "CA      2.706850  0.628133  0.907969  0.503826\n",
              "NY      0.651118 -0.319318 -0.848077  0.605965\n",
              "WY     -2.018168  0.740122  0.528813 -0.589001\n",
              "OR      0.188695 -0.758872 -0.933237  0.955057\n",
              "CO      0.190794  1.978757  2.605967  0.683509"
            ]
          },
          "metadata": {
            "tags": []
          },
          "execution_count": 111
        }
      ]
    },
    {
      "cell_type": "code",
      "metadata": {
        "id": "ZEJdE3Jtx7Dq",
        "colab_type": "code",
        "colab": {}
      },
      "source": [
        "df1.set_index('Category1', inplace=True)"
      ],
      "execution_count": 0,
      "outputs": []
    },
    {
      "cell_type": "code",
      "metadata": {
        "id": "UELBmw92yJWI",
        "colab_type": "code",
        "colab": {
          "base_uri": "https://localhost:8080/",
          "height": 545
        },
        "outputId": "d12339d4-7de3-44a1-ec89-5437cf945b7c"
      },
      "source": [
        "df1"
      ],
      "execution_count": 117,
      "outputs": [
        {
          "output_type": "execute_result",
          "data": {
            "text/html": [
              "<div>\n",
              "<style scoped>\n",
              "    .dataframe tbody tr th:only-of-type {\n",
              "        vertical-align: middle;\n",
              "    }\n",
              "\n",
              "    .dataframe tbody tr th {\n",
              "        vertical-align: top;\n",
              "    }\n",
              "\n",
              "    .dataframe thead th {\n",
              "        text-align: right;\n",
              "    }\n",
              "</style>\n",
              "<table border=\"1\" class=\"dataframe\">\n",
              "  <thead>\n",
              "    <tr style=\"text-align: right;\">\n",
              "      <th></th>\n",
              "      <th>Season</th>\n",
              "      <th>Brand</th>\n",
              "      <th>Description</th>\n",
              "      <th>Name</th>\n",
              "      <th>Boot</th>\n",
              "      <th>Off-White</th>\n",
              "      <th>Turfah</th>\n",
              "      <th>Louboutin</th>\n",
              "      <th>Amber</th>\n",
              "    </tr>\n",
              "    <tr>\n",
              "      <th>Category1</th>\n",
              "      <th></th>\n",
              "      <th></th>\n",
              "      <th></th>\n",
              "      <th></th>\n",
              "      <th></th>\n",
              "      <th></th>\n",
              "      <th></th>\n",
              "      <th></th>\n",
              "      <th></th>\n",
              "    </tr>\n",
              "  </thead>\n",
              "  <tbody>\n",
              "    <tr>\n",
              "      <th>Fashion</th>\n",
              "      <td>-0.416758</td>\n",
              "      <td>-0.056267</td>\n",
              "      <td>-2.136196</td>\n",
              "      <td>1.640271</td>\n",
              "      <td>-1.793436</td>\n",
              "      <td>-0.841747</td>\n",
              "      <td>0.502881</td>\n",
              "      <td>-1.245288</td>\n",
              "      <td>-0.742407</td>\n",
              "    </tr>\n",
              "    <tr>\n",
              "      <th>Lifestyle</th>\n",
              "      <td>-1.057952</td>\n",
              "      <td>-0.909008</td>\n",
              "      <td>0.551454</td>\n",
              "      <td>2.292208</td>\n",
              "      <td>0.041539</td>\n",
              "      <td>-1.117925</td>\n",
              "      <td>0.539058</td>\n",
              "      <td>-0.596160</td>\n",
              "      <td>-0.057101</td>\n",
              "    </tr>\n",
              "    <tr>\n",
              "      <th>Womenswear</th>\n",
              "      <td>-0.019130</td>\n",
              "      <td>1.175001</td>\n",
              "      <td>-0.747871</td>\n",
              "      <td>0.009025</td>\n",
              "      <td>-0.878108</td>\n",
              "      <td>-0.156434</td>\n",
              "      <td>0.256570</td>\n",
              "      <td>-0.988779</td>\n",
              "      <td>-0.732209</td>\n",
              "    </tr>\n",
              "    <tr>\n",
              "      <th>Menswear</th>\n",
              "      <td>-0.338822</td>\n",
              "      <td>-0.236184</td>\n",
              "      <td>-0.637655</td>\n",
              "      <td>-1.187612</td>\n",
              "      <td>-1.421217</td>\n",
              "      <td>-0.153495</td>\n",
              "      <td>-0.269057</td>\n",
              "      <td>2.231367</td>\n",
              "      <td>1.962310</td>\n",
              "    </tr>\n",
              "    <tr>\n",
              "      <th>WomensAccessories</th>\n",
              "      <td>-2.434768</td>\n",
              "      <td>0.112727</td>\n",
              "      <td>0.370445</td>\n",
              "      <td>1.359634</td>\n",
              "      <td>0.501857</td>\n",
              "      <td>-0.844214</td>\n",
              "      <td>0.000010</td>\n",
              "      <td>0.542353</td>\n",
              "      <td>0.542362</td>\n",
              "    </tr>\n",
              "    <tr>\n",
              "      <th>MensAccessories</th>\n",
              "      <td>-0.313508</td>\n",
              "      <td>0.771012</td>\n",
              "      <td>-1.868091</td>\n",
              "      <td>1.731185</td>\n",
              "      <td>1.467678</td>\n",
              "      <td>-0.335677</td>\n",
              "      <td>0.611341</td>\n",
              "      <td>0.047971</td>\n",
              "      <td>0.659311</td>\n",
              "    </tr>\n",
              "    <tr>\n",
              "      <th>WomensShoes</th>\n",
              "      <td>-0.829135</td>\n",
              "      <td>0.087710</td>\n",
              "      <td>1.000366</td>\n",
              "      <td>-0.381093</td>\n",
              "      <td>-0.375669</td>\n",
              "      <td>-0.074471</td>\n",
              "      <td>0.433496</td>\n",
              "      <td>1.278379</td>\n",
              "      <td>1.711876</td>\n",
              "    </tr>\n",
              "    <tr>\n",
              "      <th>MensShoes</th>\n",
              "      <td>-0.634679</td>\n",
              "      <td>0.508396</td>\n",
              "      <td>0.216116</td>\n",
              "      <td>-1.858612</td>\n",
              "      <td>-0.419316</td>\n",
              "      <td>-0.132329</td>\n",
              "      <td>-0.039570</td>\n",
              "      <td>0.326003</td>\n",
              "      <td>0.286433</td>\n",
              "    </tr>\n",
              "    <tr>\n",
              "      <th>WomensRTW</th>\n",
              "      <td>-2.040323</td>\n",
              "      <td>0.046256</td>\n",
              "      <td>-0.677676</td>\n",
              "      <td>-1.439439</td>\n",
              "      <td>0.524296</td>\n",
              "      <td>0.735280</td>\n",
              "      <td>-0.653250</td>\n",
              "      <td>0.842456</td>\n",
              "      <td>0.189206</td>\n",
              "    </tr>\n",
              "    <tr>\n",
              "      <th>MensRTW</th>\n",
              "      <td>-0.381516</td>\n",
              "      <td>0.066489</td>\n",
              "      <td>-1.098739</td>\n",
              "      <td>1.584487</td>\n",
              "      <td>-2.659449</td>\n",
              "      <td>-0.091453</td>\n",
              "      <td>0.695120</td>\n",
              "      <td>-2.033467</td>\n",
              "      <td>-1.338347</td>\n",
              "    </tr>\n",
              "    <tr>\n",
              "      <th>HomeGoods</th>\n",
              "      <td>-0.189469</td>\n",
              "      <td>-0.077219</td>\n",
              "      <td>0.824703</td>\n",
              "      <td>1.248213</td>\n",
              "      <td>-0.403892</td>\n",
              "      <td>-1.384519</td>\n",
              "      <td>1.367235</td>\n",
              "      <td>1.217886</td>\n",
              "      <td>2.585121</td>\n",
              "    </tr>\n",
              "    <tr>\n",
              "      <th>Art</th>\n",
              "      <td>-0.462005</td>\n",
              "      <td>0.350888</td>\n",
              "      <td>0.381866</td>\n",
              "      <td>0.566275</td>\n",
              "      <td>0.204208</td>\n",
              "      <td>1.406696</td>\n",
              "      <td>-1.737960</td>\n",
              "      <td>1.040824</td>\n",
              "      <td>-0.697136</td>\n",
              "    </tr>\n",
              "    <tr>\n",
              "      <th>Sandals</th>\n",
              "      <td>0.380472</td>\n",
              "      <td>-0.217135</td>\n",
              "      <td>1.173531</td>\n",
              "      <td>-2.343603</td>\n",
              "      <td>1.161521</td>\n",
              "      <td>0.386078</td>\n",
              "      <td>-1.133133</td>\n",
              "      <td>0.433093</td>\n",
              "      <td>-0.700041</td>\n",
              "    </tr>\n",
              "    <tr>\n",
              "      <th>Dresses</th>\n",
              "      <td>-0.304086</td>\n",
              "      <td>2.585295</td>\n",
              "      <td>1.835333</td>\n",
              "      <td>0.440690</td>\n",
              "      <td>-0.719254</td>\n",
              "      <td>-0.583415</td>\n",
              "      <td>-0.325050</td>\n",
              "      <td>-0.560235</td>\n",
              "      <td>-0.885284</td>\n",
              "    </tr>\n",
              "    <tr>\n",
              "      <th>Other</th>\n",
              "      <td>-0.902246</td>\n",
              "      <td>-0.590972</td>\n",
              "      <td>-0.276179</td>\n",
              "      <td>-0.516884</td>\n",
              "      <td>-0.698590</td>\n",
              "      <td>-0.928892</td>\n",
              "      <td>2.550438</td>\n",
              "      <td>-1.473173</td>\n",
              "      <td>1.077265</td>\n",
              "    </tr>\n",
              "  </tbody>\n",
              "</table>\n",
              "</div>"
            ],
            "text/plain": [
              "                     Season     Brand  Description      Name      Boot  \\\n",
              "Category1                                                                \n",
              "Fashion           -0.416758 -0.056267    -2.136196  1.640271 -1.793436   \n",
              "Lifestyle         -1.057952 -0.909008     0.551454  2.292208  0.041539   \n",
              "Womenswear        -0.019130  1.175001    -0.747871  0.009025 -0.878108   \n",
              "Menswear          -0.338822 -0.236184    -0.637655 -1.187612 -1.421217   \n",
              "WomensAccessories -2.434768  0.112727     0.370445  1.359634  0.501857   \n",
              "MensAccessories   -0.313508  0.771012    -1.868091  1.731185  1.467678   \n",
              "WomensShoes       -0.829135  0.087710     1.000366 -0.381093 -0.375669   \n",
              "MensShoes         -0.634679  0.508396     0.216116 -1.858612 -0.419316   \n",
              "WomensRTW         -2.040323  0.046256    -0.677676 -1.439439  0.524296   \n",
              "MensRTW           -0.381516  0.066489    -1.098739  1.584487 -2.659449   \n",
              "HomeGoods         -0.189469 -0.077219     0.824703  1.248213 -0.403892   \n",
              "Art               -0.462005  0.350888     0.381866  0.566275  0.204208   \n",
              "Sandals            0.380472 -0.217135     1.173531 -2.343603  1.161521   \n",
              "Dresses           -0.304086  2.585295     1.835333  0.440690 -0.719254   \n",
              "Other             -0.902246 -0.590972    -0.276179 -0.516884 -0.698590   \n",
              "\n",
              "                   Off-White    Turfah  Louboutin     Amber  \n",
              "Category1                                                    \n",
              "Fashion            -0.841747  0.502881  -1.245288 -0.742407  \n",
              "Lifestyle          -1.117925  0.539058  -0.596160 -0.057101  \n",
              "Womenswear         -0.156434  0.256570  -0.988779 -0.732209  \n",
              "Menswear           -0.153495 -0.269057   2.231367  1.962310  \n",
              "WomensAccessories  -0.844214  0.000010   0.542353  0.542362  \n",
              "MensAccessories    -0.335677  0.611341   0.047971  0.659311  \n",
              "WomensShoes        -0.074471  0.433496   1.278379  1.711876  \n",
              "MensShoes          -0.132329 -0.039570   0.326003  0.286433  \n",
              "WomensRTW           0.735280 -0.653250   0.842456  0.189206  \n",
              "MensRTW            -0.091453  0.695120  -2.033467 -1.338347  \n",
              "HomeGoods          -1.384519  1.367235   1.217886  2.585121  \n",
              "Art                 1.406696 -1.737960   1.040824 -0.697136  \n",
              "Sandals             0.386078 -1.133133   0.433093 -0.700041  \n",
              "Dresses            -0.583415 -0.325050  -0.560235 -0.885284  \n",
              "Other              -0.928892  2.550438  -1.473173  1.077265  "
            ]
          },
          "metadata": {
            "tags": []
          },
          "execution_count": 117
        }
      ]
    },
    {
      "cell_type": "code",
      "metadata": {
        "id": "NCzt_86fpmc6",
        "colab_type": "code",
        "colab": {},
        "outputId": "beef6f5b-5b8a-41b3-eb16-babff0ce2c00"
      },
      "source": [
        "df"
      ],
      "execution_count": 0,
      "outputs": [
        {
          "output_type": "execute_result",
          "data": {
            "text/html": [
              "<div>\n",
              "<table border=\"1\" class=\"dataframe\">\n",
              "  <thead>\n",
              "    <tr style=\"text-align: right;\">\n",
              "      <th></th>\n",
              "      <th>W</th>\n",
              "      <th>X</th>\n",
              "      <th>Y</th>\n",
              "      <th>Z</th>\n",
              "      <th>States</th>\n",
              "    </tr>\n",
              "  </thead>\n",
              "  <tbody>\n",
              "    <tr>\n",
              "      <th>A</th>\n",
              "      <td>2.706850</td>\n",
              "      <td>0.628133</td>\n",
              "      <td>0.907969</td>\n",
              "      <td>0.503826</td>\n",
              "      <td>CA</td>\n",
              "    </tr>\n",
              "    <tr>\n",
              "      <th>B</th>\n",
              "      <td>0.651118</td>\n",
              "      <td>-0.319318</td>\n",
              "      <td>-0.848077</td>\n",
              "      <td>0.605965</td>\n",
              "      <td>NY</td>\n",
              "    </tr>\n",
              "    <tr>\n",
              "      <th>C</th>\n",
              "      <td>-2.018168</td>\n",
              "      <td>0.740122</td>\n",
              "      <td>0.528813</td>\n",
              "      <td>-0.589001</td>\n",
              "      <td>WY</td>\n",
              "    </tr>\n",
              "    <tr>\n",
              "      <th>D</th>\n",
              "      <td>0.188695</td>\n",
              "      <td>-0.758872</td>\n",
              "      <td>-0.933237</td>\n",
              "      <td>0.955057</td>\n",
              "      <td>OR</td>\n",
              "    </tr>\n",
              "    <tr>\n",
              "      <th>E</th>\n",
              "      <td>0.190794</td>\n",
              "      <td>1.978757</td>\n",
              "      <td>2.605967</td>\n",
              "      <td>0.683509</td>\n",
              "      <td>CO</td>\n",
              "    </tr>\n",
              "  </tbody>\n",
              "</table>\n",
              "</div>"
            ],
            "text/plain": [
              "          W         X         Y         Z States\n",
              "A  2.706850  0.628133  0.907969  0.503826     CA\n",
              "B  0.651118 -0.319318 -0.848077  0.605965     NY\n",
              "C -2.018168  0.740122  0.528813 -0.589001     WY\n",
              "D  0.188695 -0.758872 -0.933237  0.955057     OR\n",
              "E  0.190794  1.978757  2.605967  0.683509     CO"
            ]
          },
          "metadata": {
            "tags": []
          },
          "execution_count": 215
        }
      ]
    },
    {
      "cell_type": "code",
      "metadata": {
        "id": "xLEsVqL2pmc_",
        "colab_type": "code",
        "colab": {}
      },
      "source": [
        "df.set_index('States',inplace=True)"
      ],
      "execution_count": 0,
      "outputs": []
    },
    {
      "cell_type": "code",
      "metadata": {
        "id": "0mGH1MuipmdB",
        "colab_type": "code",
        "colab": {},
        "outputId": "889a80de-67d3-48a0-9bf6-13e711d520ad"
      },
      "source": [
        "df"
      ],
      "execution_count": 0,
      "outputs": [
        {
          "output_type": "execute_result",
          "data": {
            "text/html": [
              "<div>\n",
              "<table border=\"1\" class=\"dataframe\">\n",
              "  <thead>\n",
              "    <tr style=\"text-align: right;\">\n",
              "      <th></th>\n",
              "      <th>W</th>\n",
              "      <th>X</th>\n",
              "      <th>Y</th>\n",
              "      <th>Z</th>\n",
              "    </tr>\n",
              "    <tr>\n",
              "      <th>States</th>\n",
              "      <th></th>\n",
              "      <th></th>\n",
              "      <th></th>\n",
              "      <th></th>\n",
              "    </tr>\n",
              "  </thead>\n",
              "  <tbody>\n",
              "    <tr>\n",
              "      <th>CA</th>\n",
              "      <td>2.706850</td>\n",
              "      <td>0.628133</td>\n",
              "      <td>0.907969</td>\n",
              "      <td>0.503826</td>\n",
              "    </tr>\n",
              "    <tr>\n",
              "      <th>NY</th>\n",
              "      <td>0.651118</td>\n",
              "      <td>-0.319318</td>\n",
              "      <td>-0.848077</td>\n",
              "      <td>0.605965</td>\n",
              "    </tr>\n",
              "    <tr>\n",
              "      <th>WY</th>\n",
              "      <td>-2.018168</td>\n",
              "      <td>0.740122</td>\n",
              "      <td>0.528813</td>\n",
              "      <td>-0.589001</td>\n",
              "    </tr>\n",
              "    <tr>\n",
              "      <th>OR</th>\n",
              "      <td>0.188695</td>\n",
              "      <td>-0.758872</td>\n",
              "      <td>-0.933237</td>\n",
              "      <td>0.955057</td>\n",
              "    </tr>\n",
              "    <tr>\n",
              "      <th>CO</th>\n",
              "      <td>0.190794</td>\n",
              "      <td>1.978757</td>\n",
              "      <td>2.605967</td>\n",
              "      <td>0.683509</td>\n",
              "    </tr>\n",
              "  </tbody>\n",
              "</table>\n",
              "</div>"
            ],
            "text/plain": [
              "               W         X         Y         Z\n",
              "States                                        \n",
              "CA      2.706850  0.628133  0.907969  0.503826\n",
              "NY      0.651118 -0.319318 -0.848077  0.605965\n",
              "WY     -2.018168  0.740122  0.528813 -0.589001\n",
              "OR      0.188695 -0.758872 -0.933237  0.955057\n",
              "CO      0.190794  1.978757  2.605967  0.683509"
            ]
          },
          "metadata": {
            "tags": []
          },
          "execution_count": 218
        }
      ]
    },
    {
      "cell_type": "markdown",
      "metadata": {
        "id": "InNvfNWspmdh",
        "colab_type": "text"
      },
      "source": [
        "## Multi-Index and Index Hierarchy\n",
        "\n",
        "Let us go over how to work with Multi-Index, first we'll create a quick example of what a Multi-Indexed DataFrame would look like:"
      ]
    },
    {
      "cell_type": "code",
      "metadata": {
        "id": "NB1Tu4PtWwpU",
        "colab_type": "code",
        "colab": {}
      },
      "source": [
        "import pandas as pd\n",
        "import numpy as np"
      ],
      "execution_count": 0,
      "outputs": []
    },
    {
      "cell_type": "code",
      "metadata": {
        "id": "mlUqSX6tpmdi",
        "colab_type": "code",
        "colab": {}
      },
      "source": [
        "# Index Levels\n",
        "outside = ['G1','G1','G1','G2','G2','G2']\n",
        "inside = [1,2,3,1,2,3]\n",
        "hier_index = list(zip(outside,inside))\n",
        "hier_index = pd.MultiIndex.from_tuples(hier_index)"
      ],
      "execution_count": 0,
      "outputs": []
    },
    {
      "cell_type": "code",
      "metadata": {
        "id": "QDFt4xdf100m",
        "colab_type": "code",
        "colab": {}
      },
      "source": [
        "#Index Upwards\n",
        "outside = ['B1', 'B1', 'B1', 'B2', 'B2', 'B2']\n",
        "inside = [1,2,3,1,2,3]\n",
        "hierr_index = list(zip(outside,inside))\n",
        "hierr_index = pd.MultiIndex.from_tuples(hierr_index)"
      ],
      "execution_count": 0,
      "outputs": []
    },
    {
      "cell_type": "code",
      "metadata": {
        "id": "l1q2sPoX2nlY",
        "colab_type": "code",
        "colab": {
          "base_uri": "https://localhost:8080/",
          "height": 51
        },
        "outputId": "d55f3a72-3a95-4aee-8636-8c88f3bdf02e"
      },
      "source": [
        "hierr_index"
      ],
      "execution_count": 7,
      "outputs": [
        {
          "output_type": "execute_result",
          "data": {
            "text/plain": [
              "MultiIndex(levels=[['B1', 'B2'], [1, 2, 3]],\n",
              "           codes=[[0, 0, 0, 1, 1, 1], [0, 1, 2, 0, 1, 2]])"
            ]
          },
          "metadata": {
            "tags": []
          },
          "execution_count": 7
        }
      ]
    },
    {
      "cell_type": "code",
      "metadata": {
        "id": "P9TEummPpmdl",
        "colab_type": "code",
        "colab": {
          "base_uri": "https://localhost:8080/",
          "height": 51
        },
        "outputId": "423ea1eb-1dce-44eb-d442-80ee14a961d4"
      },
      "source": [
        "hier_index"
      ],
      "execution_count": 9,
      "outputs": [
        {
          "output_type": "execute_result",
          "data": {
            "text/plain": [
              "MultiIndex(levels=[['G1', 'G2'], [1, 2, 3]],\n",
              "           codes=[[0, 0, 0, 1, 1, 1], [0, 1, 2, 0, 1, 2]])"
            ]
          },
          "metadata": {
            "tags": []
          },
          "execution_count": 9
        }
      ]
    },
    {
      "cell_type": "code",
      "metadata": {
        "id": "5fQ62syXXdgR",
        "colab_type": "code",
        "colab": {
          "base_uri": "https://localhost:8080/",
          "height": 235
        },
        "outputId": "9f99d0e4-2f50-4703-edce-4b7afe57e5e2"
      },
      "source": [
        "df1 = pd.DataFrame(np.random.randn(6,3), index=hierr_index, columns=['A', 'B', 'C'])\n",
        "df1"
      ],
      "execution_count": 14,
      "outputs": [
        {
          "output_type": "execute_result",
          "data": {
            "text/html": [
              "<div>\n",
              "<style scoped>\n",
              "    .dataframe tbody tr th:only-of-type {\n",
              "        vertical-align: middle;\n",
              "    }\n",
              "\n",
              "    .dataframe tbody tr th {\n",
              "        vertical-align: top;\n",
              "    }\n",
              "\n",
              "    .dataframe thead th {\n",
              "        text-align: right;\n",
              "    }\n",
              "</style>\n",
              "<table border=\"1\" class=\"dataframe\">\n",
              "  <thead>\n",
              "    <tr style=\"text-align: right;\">\n",
              "      <th></th>\n",
              "      <th></th>\n",
              "      <th>A</th>\n",
              "      <th>B</th>\n",
              "      <th>C</th>\n",
              "    </tr>\n",
              "  </thead>\n",
              "  <tbody>\n",
              "    <tr>\n",
              "      <th rowspan=\"3\" valign=\"top\">B1</th>\n",
              "      <th>1</th>\n",
              "      <td>-0.493681</td>\n",
              "      <td>-0.971524</td>\n",
              "      <td>1.451502</td>\n",
              "    </tr>\n",
              "    <tr>\n",
              "      <th>2</th>\n",
              "      <td>0.684995</td>\n",
              "      <td>-0.609480</td>\n",
              "      <td>-0.565496</td>\n",
              "    </tr>\n",
              "    <tr>\n",
              "      <th>3</th>\n",
              "      <td>0.447635</td>\n",
              "      <td>0.084377</td>\n",
              "      <td>1.972262</td>\n",
              "    </tr>\n",
              "    <tr>\n",
              "      <th rowspan=\"3\" valign=\"top\">B2</th>\n",
              "      <th>1</th>\n",
              "      <td>-0.448552</td>\n",
              "      <td>2.326279</td>\n",
              "      <td>-0.903559</td>\n",
              "    </tr>\n",
              "    <tr>\n",
              "      <th>2</th>\n",
              "      <td>-1.763101</td>\n",
              "      <td>-1.446148</td>\n",
              "      <td>1.604761</td>\n",
              "    </tr>\n",
              "    <tr>\n",
              "      <th>3</th>\n",
              "      <td>-2.011342</td>\n",
              "      <td>0.060021</td>\n",
              "      <td>0.785469</td>\n",
              "    </tr>\n",
              "  </tbody>\n",
              "</table>\n",
              "</div>"
            ],
            "text/plain": [
              "             A         B         C\n",
              "B1 1 -0.493681 -0.971524  1.451502\n",
              "   2  0.684995 -0.609480 -0.565496\n",
              "   3  0.447635  0.084377  1.972262\n",
              "B2 1 -0.448552  2.326279 -0.903559\n",
              "   2 -1.763101 -1.446148  1.604761\n",
              "   3 -2.011342  0.060021  0.785469"
            ]
          },
          "metadata": {
            "tags": []
          },
          "execution_count": 14
        }
      ]
    },
    {
      "cell_type": "code",
      "metadata": {
        "id": "o61nrmjdpmdr",
        "colab_type": "code",
        "colab": {
          "base_uri": "https://localhost:8080/",
          "height": 235
        },
        "outputId": "57db64ac-5385-4158-9fdd-f17cf9008846"
      },
      "source": [
        "df = pd.DataFrame(np.random.randn(6,2),index=hier_index,columns=['A','B'])\n",
        "df"
      ],
      "execution_count": 15,
      "outputs": [
        {
          "output_type": "execute_result",
          "data": {
            "text/html": [
              "<div>\n",
              "<style scoped>\n",
              "    .dataframe tbody tr th:only-of-type {\n",
              "        vertical-align: middle;\n",
              "    }\n",
              "\n",
              "    .dataframe tbody tr th {\n",
              "        vertical-align: top;\n",
              "    }\n",
              "\n",
              "    .dataframe thead th {\n",
              "        text-align: right;\n",
              "    }\n",
              "</style>\n",
              "<table border=\"1\" class=\"dataframe\">\n",
              "  <thead>\n",
              "    <tr style=\"text-align: right;\">\n",
              "      <th></th>\n",
              "      <th></th>\n",
              "      <th>A</th>\n",
              "      <th>B</th>\n",
              "    </tr>\n",
              "  </thead>\n",
              "  <tbody>\n",
              "    <tr>\n",
              "      <th rowspan=\"3\" valign=\"top\">G1</th>\n",
              "      <th>1</th>\n",
              "      <td>0.227986</td>\n",
              "      <td>0.051185</td>\n",
              "    </tr>\n",
              "    <tr>\n",
              "      <th>2</th>\n",
              "      <td>-0.127100</td>\n",
              "      <td>1.629426</td>\n",
              "    </tr>\n",
              "    <tr>\n",
              "      <th>3</th>\n",
              "      <td>-0.247218</td>\n",
              "      <td>-0.460778</td>\n",
              "    </tr>\n",
              "    <tr>\n",
              "      <th rowspan=\"3\" valign=\"top\">G2</th>\n",
              "      <th>1</th>\n",
              "      <td>0.751598</td>\n",
              "      <td>1.791953</td>\n",
              "    </tr>\n",
              "    <tr>\n",
              "      <th>2</th>\n",
              "      <td>1.318425</td>\n",
              "      <td>1.916383</td>\n",
              "    </tr>\n",
              "    <tr>\n",
              "      <th>3</th>\n",
              "      <td>1.019828</td>\n",
              "      <td>-0.808941</td>\n",
              "    </tr>\n",
              "  </tbody>\n",
              "</table>\n",
              "</div>"
            ],
            "text/plain": [
              "             A         B\n",
              "G1 1  0.227986  0.051185\n",
              "   2 -0.127100  1.629426\n",
              "   3 -0.247218 -0.460778\n",
              "G2 1  0.751598  1.791953\n",
              "   2  1.318425  1.916383\n",
              "   3  1.019828 -0.808941"
            ]
          },
          "metadata": {
            "tags": []
          },
          "execution_count": 15
        }
      ]
    },
    {
      "cell_type": "markdown",
      "metadata": {
        "id": "-A_Fljsypmd-",
        "colab_type": "text"
      },
      "source": [
        "Now let's show how to index this! For index hierarchy we use df.loc[], if this was on the columns axis, you would just use normal bracket notation df[]. Calling one level of the index returns the sub-dataframe:"
      ]
    },
    {
      "cell_type": "code",
      "metadata": {
        "id": "tVTkMiiDpmeA",
        "colab_type": "code",
        "colab": {
          "base_uri": "https://localhost:8080/",
          "height": 142
        },
        "outputId": "7df35f8f-7a32-4dfb-dba3-1ade41d89247"
      },
      "source": [
        "df.loc['G1']"
      ],
      "execution_count": 17,
      "outputs": [
        {
          "output_type": "execute_result",
          "data": {
            "text/html": [
              "<div>\n",
              "<style scoped>\n",
              "    .dataframe tbody tr th:only-of-type {\n",
              "        vertical-align: middle;\n",
              "    }\n",
              "\n",
              "    .dataframe tbody tr th {\n",
              "        vertical-align: top;\n",
              "    }\n",
              "\n",
              "    .dataframe thead th {\n",
              "        text-align: right;\n",
              "    }\n",
              "</style>\n",
              "<table border=\"1\" class=\"dataframe\">\n",
              "  <thead>\n",
              "    <tr style=\"text-align: right;\">\n",
              "      <th></th>\n",
              "      <th>A</th>\n",
              "      <th>B</th>\n",
              "    </tr>\n",
              "  </thead>\n",
              "  <tbody>\n",
              "    <tr>\n",
              "      <th>1</th>\n",
              "      <td>0.227986</td>\n",
              "      <td>0.051185</td>\n",
              "    </tr>\n",
              "    <tr>\n",
              "      <th>2</th>\n",
              "      <td>-0.127100</td>\n",
              "      <td>1.629426</td>\n",
              "    </tr>\n",
              "    <tr>\n",
              "      <th>3</th>\n",
              "      <td>-0.247218</td>\n",
              "      <td>-0.460778</td>\n",
              "    </tr>\n",
              "  </tbody>\n",
              "</table>\n",
              "</div>"
            ],
            "text/plain": [
              "          A         B\n",
              "1  0.227986  0.051185\n",
              "2 -0.127100  1.629426\n",
              "3 -0.247218 -0.460778"
            ]
          },
          "metadata": {
            "tags": []
          },
          "execution_count": 17
        }
      ]
    },
    {
      "cell_type": "code",
      "metadata": {
        "id": "etyP9FKgYPM1",
        "colab_type": "code",
        "colab": {
          "base_uri": "https://localhost:8080/",
          "height": 142
        },
        "outputId": "f3db24d6-fda0-4547-f891-e6d14c69130e"
      },
      "source": [
        "df1.loc['B1']"
      ],
      "execution_count": 29,
      "outputs": [
        {
          "output_type": "execute_result",
          "data": {
            "text/html": [
              "<div>\n",
              "<style scoped>\n",
              "    .dataframe tbody tr th:only-of-type {\n",
              "        vertical-align: middle;\n",
              "    }\n",
              "\n",
              "    .dataframe tbody tr th {\n",
              "        vertical-align: top;\n",
              "    }\n",
              "\n",
              "    .dataframe thead th {\n",
              "        text-align: right;\n",
              "    }\n",
              "</style>\n",
              "<table border=\"1\" class=\"dataframe\">\n",
              "  <thead>\n",
              "    <tr style=\"text-align: right;\">\n",
              "      <th></th>\n",
              "      <th>A</th>\n",
              "      <th>B</th>\n",
              "      <th>C</th>\n",
              "    </tr>\n",
              "  </thead>\n",
              "  <tbody>\n",
              "    <tr>\n",
              "      <th>1</th>\n",
              "      <td>-0.493681</td>\n",
              "      <td>-0.971524</td>\n",
              "      <td>1.451502</td>\n",
              "    </tr>\n",
              "    <tr>\n",
              "      <th>2</th>\n",
              "      <td>0.684995</td>\n",
              "      <td>-0.609480</td>\n",
              "      <td>-0.565496</td>\n",
              "    </tr>\n",
              "    <tr>\n",
              "      <th>3</th>\n",
              "      <td>0.447635</td>\n",
              "      <td>0.084377</td>\n",
              "      <td>1.972262</td>\n",
              "    </tr>\n",
              "  </tbody>\n",
              "</table>\n",
              "</div>"
            ],
            "text/plain": [
              "          A         B         C\n",
              "1 -0.493681 -0.971524  1.451502\n",
              "2  0.684995 -0.609480 -0.565496\n",
              "3  0.447635  0.084377  1.972262"
            ]
          },
          "metadata": {
            "tags": []
          },
          "execution_count": 29
        }
      ]
    },
    {
      "cell_type": "code",
      "metadata": {
        "id": "TR4GtXXIaK-W",
        "colab_type": "code",
        "colab": {
          "base_uri": "https://localhost:8080/",
          "height": 85
        },
        "outputId": "86f0524e-aafb-4703-c573-d4a5ef8fd12c"
      },
      "source": [
        "df1.loc['B1'].loc[1]"
      ],
      "execution_count": 35,
      "outputs": [
        {
          "output_type": "execute_result",
          "data": {
            "text/plain": [
              "A   -0.493681\n",
              "B   -0.971524\n",
              "C    1.451502\n",
              "Name: 1, dtype: float64"
            ]
          },
          "metadata": {
            "tags": []
          },
          "execution_count": 35
        }
      ]
    },
    {
      "cell_type": "code",
      "metadata": {
        "id": "YmjsYejbf4zU",
        "colab_type": "code",
        "colab": {
          "base_uri": "https://localhost:8080/",
          "height": 85
        },
        "outputId": "e7a1b370-a2b7-4f7d-8bde-d227c8471af3"
      },
      "source": [
        "df1.loc['B1'].loc[2]"
      ],
      "execution_count": 37,
      "outputs": [
        {
          "output_type": "execute_result",
          "data": {
            "text/plain": [
              "A    0.684995\n",
              "B   -0.609480\n",
              "C   -0.565496\n",
              "Name: 2, dtype: float64"
            ]
          },
          "metadata": {
            "tags": []
          },
          "execution_count": 37
        }
      ]
    },
    {
      "cell_type": "code",
      "metadata": {
        "id": "fWtVwGOnf-Q2",
        "colab_type": "code",
        "colab": {
          "base_uri": "https://localhost:8080/",
          "height": 85
        },
        "outputId": "213dceb6-8d03-48a5-d646-680e507be5b6"
      },
      "source": [
        "df1.loc['B2'].loc[3]"
      ],
      "execution_count": 38,
      "outputs": [
        {
          "output_type": "execute_result",
          "data": {
            "text/plain": [
              "A   -2.011342\n",
              "B    0.060021\n",
              "C    0.785469\n",
              "Name: 3, dtype: float64"
            ]
          },
          "metadata": {
            "tags": []
          },
          "execution_count": 38
        }
      ]
    },
    {
      "cell_type": "code",
      "metadata": {
        "id": "4lAteNpepmeQ",
        "colab_type": "code",
        "colab": {
          "base_uri": "https://localhost:8080/",
          "height": 68
        },
        "outputId": "8c91910b-a4ec-4814-cfd0-451e0fddd06b"
      },
      "source": [
        "df.loc['G1'].loc[1]"
      ],
      "execution_count": 39,
      "outputs": [
        {
          "output_type": "execute_result",
          "data": {
            "text/plain": [
              "A    0.227986\n",
              "B    0.051185\n",
              "Name: 1, dtype: float64"
            ]
          },
          "metadata": {
            "tags": []
          },
          "execution_count": 39
        }
      ]
    },
    {
      "cell_type": "code",
      "metadata": {
        "id": "HsdiKWoBpmef",
        "colab_type": "code",
        "colab": {
          "base_uri": "https://localhost:8080/",
          "height": 34
        },
        "outputId": "1081fe92-03a4-43d3-ed16-532bb3e3bb2e"
      },
      "source": [
        "df.index.names"
      ],
      "execution_count": 40,
      "outputs": [
        {
          "output_type": "execute_result",
          "data": {
            "text/plain": [
              "FrozenList([None, None])"
            ]
          },
          "metadata": {
            "tags": []
          },
          "execution_count": 40
        }
      ]
    },
    {
      "cell_type": "code",
      "metadata": {
        "id": "6HB71x4kpmek",
        "colab_type": "code",
        "colab": {}
      },
      "source": [
        "df.index.names = ['Group','Num']"
      ],
      "execution_count": 0,
      "outputs": []
    },
    {
      "cell_type": "code",
      "metadata": {
        "id": "t51thuDkpmeo",
        "colab_type": "code",
        "colab": {
          "base_uri": "https://localhost:8080/",
          "height": 266
        },
        "outputId": "a42008c7-1942-4a49-c99e-ef8c73c41808"
      },
      "source": [
        "df"
      ],
      "execution_count": 42,
      "outputs": [
        {
          "output_type": "execute_result",
          "data": {
            "text/html": [
              "<div>\n",
              "<style scoped>\n",
              "    .dataframe tbody tr th:only-of-type {\n",
              "        vertical-align: middle;\n",
              "    }\n",
              "\n",
              "    .dataframe tbody tr th {\n",
              "        vertical-align: top;\n",
              "    }\n",
              "\n",
              "    .dataframe thead th {\n",
              "        text-align: right;\n",
              "    }\n",
              "</style>\n",
              "<table border=\"1\" class=\"dataframe\">\n",
              "  <thead>\n",
              "    <tr style=\"text-align: right;\">\n",
              "      <th></th>\n",
              "      <th></th>\n",
              "      <th>A</th>\n",
              "      <th>B</th>\n",
              "    </tr>\n",
              "    <tr>\n",
              "      <th>Group</th>\n",
              "      <th>Num</th>\n",
              "      <th></th>\n",
              "      <th></th>\n",
              "    </tr>\n",
              "  </thead>\n",
              "  <tbody>\n",
              "    <tr>\n",
              "      <th rowspan=\"3\" valign=\"top\">G1</th>\n",
              "      <th>1</th>\n",
              "      <td>0.227986</td>\n",
              "      <td>0.051185</td>\n",
              "    </tr>\n",
              "    <tr>\n",
              "      <th>2</th>\n",
              "      <td>-0.127100</td>\n",
              "      <td>1.629426</td>\n",
              "    </tr>\n",
              "    <tr>\n",
              "      <th>3</th>\n",
              "      <td>-0.247218</td>\n",
              "      <td>-0.460778</td>\n",
              "    </tr>\n",
              "    <tr>\n",
              "      <th rowspan=\"3\" valign=\"top\">G2</th>\n",
              "      <th>1</th>\n",
              "      <td>0.751598</td>\n",
              "      <td>1.791953</td>\n",
              "    </tr>\n",
              "    <tr>\n",
              "      <th>2</th>\n",
              "      <td>1.318425</td>\n",
              "      <td>1.916383</td>\n",
              "    </tr>\n",
              "    <tr>\n",
              "      <th>3</th>\n",
              "      <td>1.019828</td>\n",
              "      <td>-0.808941</td>\n",
              "    </tr>\n",
              "  </tbody>\n",
              "</table>\n",
              "</div>"
            ],
            "text/plain": [
              "                  A         B\n",
              "Group Num                    \n",
              "G1    1    0.227986  0.051185\n",
              "      2   -0.127100  1.629426\n",
              "      3   -0.247218 -0.460778\n",
              "G2    1    0.751598  1.791953\n",
              "      2    1.318425  1.916383\n",
              "      3    1.019828 -0.808941"
            ]
          },
          "metadata": {
            "tags": []
          },
          "execution_count": 42
        }
      ]
    },
    {
      "cell_type": "code",
      "metadata": {
        "id": "ylenQVE3pmer",
        "colab_type": "code",
        "colab": {
          "base_uri": "https://localhost:8080/",
          "height": 173
        },
        "outputId": "3db45605-ef9f-4edf-f1a4-577783dec92c"
      },
      "source": [
        "df.xs('G1')"
      ],
      "execution_count": 43,
      "outputs": [
        {
          "output_type": "execute_result",
          "data": {
            "text/html": [
              "<div>\n",
              "<style scoped>\n",
              "    .dataframe tbody tr th:only-of-type {\n",
              "        vertical-align: middle;\n",
              "    }\n",
              "\n",
              "    .dataframe tbody tr th {\n",
              "        vertical-align: top;\n",
              "    }\n",
              "\n",
              "    .dataframe thead th {\n",
              "        text-align: right;\n",
              "    }\n",
              "</style>\n",
              "<table border=\"1\" class=\"dataframe\">\n",
              "  <thead>\n",
              "    <tr style=\"text-align: right;\">\n",
              "      <th></th>\n",
              "      <th>A</th>\n",
              "      <th>B</th>\n",
              "    </tr>\n",
              "    <tr>\n",
              "      <th>Num</th>\n",
              "      <th></th>\n",
              "      <th></th>\n",
              "    </tr>\n",
              "  </thead>\n",
              "  <tbody>\n",
              "    <tr>\n",
              "      <th>1</th>\n",
              "      <td>0.227986</td>\n",
              "      <td>0.051185</td>\n",
              "    </tr>\n",
              "    <tr>\n",
              "      <th>2</th>\n",
              "      <td>-0.127100</td>\n",
              "      <td>1.629426</td>\n",
              "    </tr>\n",
              "    <tr>\n",
              "      <th>3</th>\n",
              "      <td>-0.247218</td>\n",
              "      <td>-0.460778</td>\n",
              "    </tr>\n",
              "  </tbody>\n",
              "</table>\n",
              "</div>"
            ],
            "text/plain": [
              "            A         B\n",
              "Num                    \n",
              "1    0.227986  0.051185\n",
              "2   -0.127100  1.629426\n",
              "3   -0.247218 -0.460778"
            ]
          },
          "metadata": {
            "tags": []
          },
          "execution_count": 43
        }
      ]
    },
    {
      "cell_type": "code",
      "metadata": {
        "id": "bax7MjQxgOhv",
        "colab_type": "code",
        "colab": {
          "base_uri": "https://localhost:8080/",
          "height": 142
        },
        "outputId": "a2872c83-7658-46b4-b824-ba67c855d197"
      },
      "source": [
        "df1.xs('B1')"
      ],
      "execution_count": 44,
      "outputs": [
        {
          "output_type": "execute_result",
          "data": {
            "text/html": [
              "<div>\n",
              "<style scoped>\n",
              "    .dataframe tbody tr th:only-of-type {\n",
              "        vertical-align: middle;\n",
              "    }\n",
              "\n",
              "    .dataframe tbody tr th {\n",
              "        vertical-align: top;\n",
              "    }\n",
              "\n",
              "    .dataframe thead th {\n",
              "        text-align: right;\n",
              "    }\n",
              "</style>\n",
              "<table border=\"1\" class=\"dataframe\">\n",
              "  <thead>\n",
              "    <tr style=\"text-align: right;\">\n",
              "      <th></th>\n",
              "      <th>A</th>\n",
              "      <th>B</th>\n",
              "      <th>C</th>\n",
              "    </tr>\n",
              "  </thead>\n",
              "  <tbody>\n",
              "    <tr>\n",
              "      <th>1</th>\n",
              "      <td>-0.493681</td>\n",
              "      <td>-0.971524</td>\n",
              "      <td>1.451502</td>\n",
              "    </tr>\n",
              "    <tr>\n",
              "      <th>2</th>\n",
              "      <td>0.684995</td>\n",
              "      <td>-0.609480</td>\n",
              "      <td>-0.565496</td>\n",
              "    </tr>\n",
              "    <tr>\n",
              "      <th>3</th>\n",
              "      <td>0.447635</td>\n",
              "      <td>0.084377</td>\n",
              "      <td>1.972262</td>\n",
              "    </tr>\n",
              "  </tbody>\n",
              "</table>\n",
              "</div>"
            ],
            "text/plain": [
              "          A         B         C\n",
              "1 -0.493681 -0.971524  1.451502\n",
              "2  0.684995 -0.609480 -0.565496\n",
              "3  0.447635  0.084377  1.972262"
            ]
          },
          "metadata": {
            "tags": []
          },
          "execution_count": 44
        }
      ]
    },
    {
      "cell_type": "code",
      "metadata": {
        "id": "gfd9531tpmez",
        "colab_type": "code",
        "colab": {},
        "outputId": "3e80a4a6-9f98-44e7-8a92-6cf840281dce"
      },
      "source": [
        "df.xs(['G1',1])"
      ],
      "execution_count": 0,
      "outputs": [
        {
          "output_type": "execute_result",
          "data": {
            "text/plain": [
              "A    0.153661\n",
              "B    0.167638\n",
              "Name: (G1, 1), dtype: float64"
            ]
          },
          "metadata": {
            "tags": []
          },
          "execution_count": 271
        }
      ]
    },
    {
      "cell_type": "code",
      "metadata": {
        "id": "XdgyQGnFpme5",
        "colab_type": "code",
        "colab": {},
        "outputId": "232fb499-27fc-4922-92cc-7e5ca03f18db"
      },
      "source": [
        "df.xs(1,level='Num')"
      ],
      "execution_count": 0,
      "outputs": [
        {
          "output_type": "execute_result",
          "data": {
            "text/html": [
              "<div>\n",
              "<table border=\"1\" class=\"dataframe\">\n",
              "  <thead>\n",
              "    <tr style=\"text-align: right;\">\n",
              "      <th></th>\n",
              "      <th>A</th>\n",
              "      <th>B</th>\n",
              "    </tr>\n",
              "    <tr>\n",
              "      <th>Group</th>\n",
              "      <th></th>\n",
              "      <th></th>\n",
              "    </tr>\n",
              "  </thead>\n",
              "  <tbody>\n",
              "    <tr>\n",
              "      <th>G1</th>\n",
              "      <td>0.153661</td>\n",
              "      <td>0.167638</td>\n",
              "    </tr>\n",
              "    <tr>\n",
              "      <th>G2</th>\n",
              "      <td>-1.549671</td>\n",
              "      <td>0.435253</td>\n",
              "    </tr>\n",
              "  </tbody>\n",
              "</table>\n",
              "</div>"
            ],
            "text/plain": [
              "              A         B\n",
              "Group                    \n",
              "G1     0.153661  0.167638\n",
              "G2    -1.549671  0.435253"
            ]
          },
          "metadata": {
            "tags": []
          },
          "execution_count": 273
        }
      ]
    },
    {
      "cell_type": "markdown",
      "metadata": {
        "id": "UIiJ6qsBpmfC",
        "colab_type": "text"
      },
      "source": [
        "# Great Job!"
      ]
    },
    {
      "cell_type": "code",
      "metadata": {
        "id": "BbBBj-UGZfYh",
        "colab_type": "code",
        "colab": {}
      },
      "source": [
        ""
      ],
      "execution_count": 0,
      "outputs": []
    },
    {
      "cell_type": "markdown",
      "metadata": {
        "id": "E9vUqj2WZlnd",
        "colab_type": "text"
      },
      "source": [
        "DataFrame.at   \n",
        "Access a single value for a row/column label pair.\n",
        "\n",
        "DataFrame.iloc        \n",
        "Access group of rows and columns by integer position(s).\n",
        "\n",
        "DataFrame.xs           \n",
        "Returns a cross-section (row(s) or column(s)) from the Series/DataFrame.\n",
        "\n",
        "Series.loc             \n",
        "Access group of values using labels."
      ]
    },
    {
      "cell_type": "code",
      "metadata": {
        "id": "wkLfdc1ggVUG",
        "colab_type": "code",
        "colab": {
          "base_uri": "https://localhost:8080/",
          "height": 142
        },
        "outputId": "1548d5ad-4b69-4937-8891-fe3c21def894"
      },
      "source": [
        "df = pd.DataFrame([[1, 2], [4, 5], [7, 8]], \n",
        "     index=['cobra', 'viper', 'sidewinder'],\n",
        "     columns=['max_speed', 'shield'])\n",
        "df"
      ],
      "execution_count": 46,
      "outputs": [
        {
          "output_type": "execute_result",
          "data": {
            "text/html": [
              "<div>\n",
              "<style scoped>\n",
              "    .dataframe tbody tr th:only-of-type {\n",
              "        vertical-align: middle;\n",
              "    }\n",
              "\n",
              "    .dataframe tbody tr th {\n",
              "        vertical-align: top;\n",
              "    }\n",
              "\n",
              "    .dataframe thead th {\n",
              "        text-align: right;\n",
              "    }\n",
              "</style>\n",
              "<table border=\"1\" class=\"dataframe\">\n",
              "  <thead>\n",
              "    <tr style=\"text-align: right;\">\n",
              "      <th></th>\n",
              "      <th>max_speed</th>\n",
              "      <th>shield</th>\n",
              "    </tr>\n",
              "  </thead>\n",
              "  <tbody>\n",
              "    <tr>\n",
              "      <th>cobra</th>\n",
              "      <td>1</td>\n",
              "      <td>2</td>\n",
              "    </tr>\n",
              "    <tr>\n",
              "      <th>viper</th>\n",
              "      <td>4</td>\n",
              "      <td>5</td>\n",
              "    </tr>\n",
              "    <tr>\n",
              "      <th>sidewinder</th>\n",
              "      <td>7</td>\n",
              "      <td>8</td>\n",
              "    </tr>\n",
              "  </tbody>\n",
              "</table>\n",
              "</div>"
            ],
            "text/plain": [
              "            max_speed  shield\n",
              "cobra               1       2\n",
              "viper               4       5\n",
              "sidewinder          7       8"
            ]
          },
          "metadata": {
            "tags": []
          },
          "execution_count": 46
        }
      ]
    },
    {
      "cell_type": "code",
      "metadata": {
        "id": "3-NBRtFkgV85",
        "colab_type": "code",
        "colab": {
          "base_uri": "https://localhost:8080/",
          "height": 68
        },
        "outputId": "9357b9c0-3225-4bfa-b6a9-2a9483942c64"
      },
      "source": [
        "#Single label. Note this returns the row as a Series\n",
        "df.loc['viper']"
      ],
      "execution_count": 48,
      "outputs": [
        {
          "output_type": "execute_result",
          "data": {
            "text/plain": [
              "max_speed    4\n",
              "shield       5\n",
              "Name: viper, dtype: int64"
            ]
          },
          "metadata": {
            "tags": []
          },
          "execution_count": 48
        }
      ]
    },
    {
      "cell_type": "code",
      "metadata": {
        "id": "uAVp-SmzhG2M",
        "colab_type": "code",
        "colab": {
          "base_uri": "https://localhost:8080/",
          "height": 111
        },
        "outputId": "ef3c8218-a108-4833-8d21-71f99bfa48f1"
      },
      "source": [
        "#List of labels. Note using [[]] returns a DataFrame\n",
        "df.loc[['cobra', 'sidewinder']]"
      ],
      "execution_count": 49,
      "outputs": [
        {
          "output_type": "execute_result",
          "data": {
            "text/html": [
              "<div>\n",
              "<style scoped>\n",
              "    .dataframe tbody tr th:only-of-type {\n",
              "        vertical-align: middle;\n",
              "    }\n",
              "\n",
              "    .dataframe tbody tr th {\n",
              "        vertical-align: top;\n",
              "    }\n",
              "\n",
              "    .dataframe thead th {\n",
              "        text-align: right;\n",
              "    }\n",
              "</style>\n",
              "<table border=\"1\" class=\"dataframe\">\n",
              "  <thead>\n",
              "    <tr style=\"text-align: right;\">\n",
              "      <th></th>\n",
              "      <th>max_speed</th>\n",
              "      <th>shield</th>\n",
              "    </tr>\n",
              "  </thead>\n",
              "  <tbody>\n",
              "    <tr>\n",
              "      <th>cobra</th>\n",
              "      <td>1</td>\n",
              "      <td>2</td>\n",
              "    </tr>\n",
              "    <tr>\n",
              "      <th>sidewinder</th>\n",
              "      <td>7</td>\n",
              "      <td>8</td>\n",
              "    </tr>\n",
              "  </tbody>\n",
              "</table>\n",
              "</div>"
            ],
            "text/plain": [
              "            max_speed  shield\n",
              "cobra               1       2\n",
              "sidewinder          7       8"
            ]
          },
          "metadata": {
            "tags": []
          },
          "execution_count": 49
        }
      ]
    },
    {
      "cell_type": "code",
      "metadata": {
        "id": "nw1lMc5thY34",
        "colab_type": "code",
        "colab": {
          "base_uri": "https://localhost:8080/",
          "height": 34
        },
        "outputId": "00a5d780-c08f-4c38-936f-3c204986825c"
      },
      "source": [
        "#Single label for row and column\n",
        "df.loc['viper', 'max_speed']"
      ],
      "execution_count": 51,
      "outputs": [
        {
          "output_type": "execute_result",
          "data": {
            "text/plain": [
              "4"
            ]
          },
          "metadata": {
            "tags": []
          },
          "execution_count": 51
        }
      ]
    },
    {
      "cell_type": "code",
      "metadata": {
        "id": "vIk4x8rnhmGu",
        "colab_type": "code",
        "colab": {
          "base_uri": "https://localhost:8080/",
          "height": 68
        },
        "outputId": "b631e65c-446b-401c-9295-c67f2b83fe5a"
      },
      "source": [
        "#Slice with labels for row and single label for column. As mentioned above, note that both the start and stop of the slice are included.\n",
        "df.loc['cobra':'viper', 'max_speed']"
      ],
      "execution_count": 52,
      "outputs": [
        {
          "output_type": "execute_result",
          "data": {
            "text/plain": [
              "cobra    1\n",
              "viper    4\n",
              "Name: max_speed, dtype: int64"
            ]
          },
          "metadata": {
            "tags": []
          },
          "execution_count": 52
        }
      ]
    },
    {
      "cell_type": "code",
      "metadata": {
        "id": "P9Kg9OCViD0i",
        "colab_type": "code",
        "colab": {
          "base_uri": "https://localhost:8080/",
          "height": 80
        },
        "outputId": "d4761ad6-7033-4243-9152-7444b04936da"
      },
      "source": [
        "#Boolean list with the same length as the row axis\n",
        "df.loc[[False, False, True]]"
      ],
      "execution_count": 53,
      "outputs": [
        {
          "output_type": "execute_result",
          "data": {
            "text/html": [
              "<div>\n",
              "<style scoped>\n",
              "    .dataframe tbody tr th:only-of-type {\n",
              "        vertical-align: middle;\n",
              "    }\n",
              "\n",
              "    .dataframe tbody tr th {\n",
              "        vertical-align: top;\n",
              "    }\n",
              "\n",
              "    .dataframe thead th {\n",
              "        text-align: right;\n",
              "    }\n",
              "</style>\n",
              "<table border=\"1\" class=\"dataframe\">\n",
              "  <thead>\n",
              "    <tr style=\"text-align: right;\">\n",
              "      <th></th>\n",
              "      <th>max_speed</th>\n",
              "      <th>shield</th>\n",
              "    </tr>\n",
              "  </thead>\n",
              "  <tbody>\n",
              "    <tr>\n",
              "      <th>sidewinder</th>\n",
              "      <td>7</td>\n",
              "      <td>8</td>\n",
              "    </tr>\n",
              "  </tbody>\n",
              "</table>\n",
              "</div>"
            ],
            "text/plain": [
              "            max_speed  shield\n",
              "sidewinder          7       8"
            ]
          },
          "metadata": {
            "tags": []
          },
          "execution_count": 53
        }
      ]
    },
    {
      "cell_type": "code",
      "metadata": {
        "id": "443mtvn8iNAR",
        "colab_type": "code",
        "colab": {
          "base_uri": "https://localhost:8080/",
          "height": 80
        },
        "outputId": "436ae277-913f-4f4a-d2a8-89c34fe6917a"
      },
      "source": [
        "#Conditional that returns a boolean Series\n",
        "\n",
        "df.loc[df['shield'] > 6]"
      ],
      "execution_count": 54,
      "outputs": [
        {
          "output_type": "execute_result",
          "data": {
            "text/html": [
              "<div>\n",
              "<style scoped>\n",
              "    .dataframe tbody tr th:only-of-type {\n",
              "        vertical-align: middle;\n",
              "    }\n",
              "\n",
              "    .dataframe tbody tr th {\n",
              "        vertical-align: top;\n",
              "    }\n",
              "\n",
              "    .dataframe thead th {\n",
              "        text-align: right;\n",
              "    }\n",
              "</style>\n",
              "<table border=\"1\" class=\"dataframe\">\n",
              "  <thead>\n",
              "    <tr style=\"text-align: right;\">\n",
              "      <th></th>\n",
              "      <th>max_speed</th>\n",
              "      <th>shield</th>\n",
              "    </tr>\n",
              "  </thead>\n",
              "  <tbody>\n",
              "    <tr>\n",
              "      <th>sidewinder</th>\n",
              "      <td>7</td>\n",
              "      <td>8</td>\n",
              "    </tr>\n",
              "  </tbody>\n",
              "</table>\n",
              "</div>"
            ],
            "text/plain": [
              "            max_speed  shield\n",
              "sidewinder          7       8"
            ]
          },
          "metadata": {
            "tags": []
          },
          "execution_count": 54
        }
      ]
    },
    {
      "cell_type": "code",
      "metadata": {
        "id": "AvH_gZbiiXHG",
        "colab_type": "code",
        "colab": {
          "base_uri": "https://localhost:8080/",
          "height": 80
        },
        "outputId": "611e98bf-924f-4813-ca94-5e3060476776"
      },
      "source": [
        "#Conditional that returns a boolean Series with column labels specified\n",
        "df.loc[df['shield'] > 6, ['max_speed']]"
      ],
      "execution_count": 55,
      "outputs": [
        {
          "output_type": "execute_result",
          "data": {
            "text/html": [
              "<div>\n",
              "<style scoped>\n",
              "    .dataframe tbody tr th:only-of-type {\n",
              "        vertical-align: middle;\n",
              "    }\n",
              "\n",
              "    .dataframe tbody tr th {\n",
              "        vertical-align: top;\n",
              "    }\n",
              "\n",
              "    .dataframe thead th {\n",
              "        text-align: right;\n",
              "    }\n",
              "</style>\n",
              "<table border=\"1\" class=\"dataframe\">\n",
              "  <thead>\n",
              "    <tr style=\"text-align: right;\">\n",
              "      <th></th>\n",
              "      <th>max_speed</th>\n",
              "    </tr>\n",
              "  </thead>\n",
              "  <tbody>\n",
              "    <tr>\n",
              "      <th>sidewinder</th>\n",
              "      <td>7</td>\n",
              "    </tr>\n",
              "  </tbody>\n",
              "</table>\n",
              "</div>"
            ],
            "text/plain": [
              "            max_speed\n",
              "sidewinder          7"
            ]
          },
          "metadata": {
            "tags": []
          },
          "execution_count": 55
        }
      ]
    },
    {
      "cell_type": "code",
      "metadata": {
        "id": "JSzCWxc7ig8z",
        "colab_type": "code",
        "colab": {
          "base_uri": "https://localhost:8080/",
          "height": 80
        },
        "outputId": "6d61369e-2f86-4384-deb0-3a46fe4e5fad"
      },
      "source": [
        "#Callable that returns a boolean Series\n",
        "df.loc[lambda df: df['shield'] == 8]"
      ],
      "execution_count": 56,
      "outputs": [
        {
          "output_type": "execute_result",
          "data": {
            "text/html": [
              "<div>\n",
              "<style scoped>\n",
              "    .dataframe tbody tr th:only-of-type {\n",
              "        vertical-align: middle;\n",
              "    }\n",
              "\n",
              "    .dataframe tbody tr th {\n",
              "        vertical-align: top;\n",
              "    }\n",
              "\n",
              "    .dataframe thead th {\n",
              "        text-align: right;\n",
              "    }\n",
              "</style>\n",
              "<table border=\"1\" class=\"dataframe\">\n",
              "  <thead>\n",
              "    <tr style=\"text-align: right;\">\n",
              "      <th></th>\n",
              "      <th>max_speed</th>\n",
              "      <th>shield</th>\n",
              "    </tr>\n",
              "  </thead>\n",
              "  <tbody>\n",
              "    <tr>\n",
              "      <th>sidewinder</th>\n",
              "      <td>7</td>\n",
              "      <td>8</td>\n",
              "    </tr>\n",
              "  </tbody>\n",
              "</table>\n",
              "</div>"
            ],
            "text/plain": [
              "            max_speed  shield\n",
              "sidewinder          7       8"
            ]
          },
          "metadata": {
            "tags": []
          },
          "execution_count": 56
        }
      ]
    },
    {
      "cell_type": "code",
      "metadata": {
        "id": "wX5xnLQyiYov",
        "colab_type": "code",
        "colab": {
          "base_uri": "https://localhost:8080/",
          "height": 142
        },
        "outputId": "4e50ddc1-be15-45b2-cbe8-2b4e632fa82c"
      },
      "source": [
        "#Set value for all items matching the list of labels\n",
        "df.loc[['viper', 'sidewinder'], ['shield']] = 50\n",
        "df"
      ],
      "execution_count": 57,
      "outputs": [
        {
          "output_type": "execute_result",
          "data": {
            "text/html": [
              "<div>\n",
              "<style scoped>\n",
              "    .dataframe tbody tr th:only-of-type {\n",
              "        vertical-align: middle;\n",
              "    }\n",
              "\n",
              "    .dataframe tbody tr th {\n",
              "        vertical-align: top;\n",
              "    }\n",
              "\n",
              "    .dataframe thead th {\n",
              "        text-align: right;\n",
              "    }\n",
              "</style>\n",
              "<table border=\"1\" class=\"dataframe\">\n",
              "  <thead>\n",
              "    <tr style=\"text-align: right;\">\n",
              "      <th></th>\n",
              "      <th>max_speed</th>\n",
              "      <th>shield</th>\n",
              "    </tr>\n",
              "  </thead>\n",
              "  <tbody>\n",
              "    <tr>\n",
              "      <th>cobra</th>\n",
              "      <td>1</td>\n",
              "      <td>2</td>\n",
              "    </tr>\n",
              "    <tr>\n",
              "      <th>viper</th>\n",
              "      <td>4</td>\n",
              "      <td>50</td>\n",
              "    </tr>\n",
              "    <tr>\n",
              "      <th>sidewinder</th>\n",
              "      <td>7</td>\n",
              "      <td>50</td>\n",
              "    </tr>\n",
              "  </tbody>\n",
              "</table>\n",
              "</div>"
            ],
            "text/plain": [
              "            max_speed  shield\n",
              "cobra               1       2\n",
              "viper               4      50\n",
              "sidewinder          7      50"
            ]
          },
          "metadata": {
            "tags": []
          },
          "execution_count": 57
        }
      ]
    },
    {
      "cell_type": "code",
      "metadata": {
        "id": "gMK_lBz5i1qB",
        "colab_type": "code",
        "colab": {
          "base_uri": "https://localhost:8080/",
          "height": 142
        },
        "outputId": "35f65d83-d9cb-485a-bda6-a3450bf70940"
      },
      "source": [
        "#Set value for an entire row\n",
        "df.loc['cobra'] = 10\n",
        "df"
      ],
      "execution_count": 58,
      "outputs": [
        {
          "output_type": "execute_result",
          "data": {
            "text/html": [
              "<div>\n",
              "<style scoped>\n",
              "    .dataframe tbody tr th:only-of-type {\n",
              "        vertical-align: middle;\n",
              "    }\n",
              "\n",
              "    .dataframe tbody tr th {\n",
              "        vertical-align: top;\n",
              "    }\n",
              "\n",
              "    .dataframe thead th {\n",
              "        text-align: right;\n",
              "    }\n",
              "</style>\n",
              "<table border=\"1\" class=\"dataframe\">\n",
              "  <thead>\n",
              "    <tr style=\"text-align: right;\">\n",
              "      <th></th>\n",
              "      <th>max_speed</th>\n",
              "      <th>shield</th>\n",
              "    </tr>\n",
              "  </thead>\n",
              "  <tbody>\n",
              "    <tr>\n",
              "      <th>cobra</th>\n",
              "      <td>10</td>\n",
              "      <td>10</td>\n",
              "    </tr>\n",
              "    <tr>\n",
              "      <th>viper</th>\n",
              "      <td>4</td>\n",
              "      <td>50</td>\n",
              "    </tr>\n",
              "    <tr>\n",
              "      <th>sidewinder</th>\n",
              "      <td>7</td>\n",
              "      <td>50</td>\n",
              "    </tr>\n",
              "  </tbody>\n",
              "</table>\n",
              "</div>"
            ],
            "text/plain": [
              "            max_speed  shield\n",
              "cobra              10      10\n",
              "viper               4      50\n",
              "sidewinder          7      50"
            ]
          },
          "metadata": {
            "tags": []
          },
          "execution_count": 58
        }
      ]
    },
    {
      "cell_type": "code",
      "metadata": {
        "id": "zLf5akmYjAbi",
        "colab_type": "code",
        "colab": {
          "base_uri": "https://localhost:8080/",
          "height": 142
        },
        "outputId": "4945308f-a41d-47ad-a8ff-15c4e3c5bcc7"
      },
      "source": [
        "#Set value for an entire column\n",
        "df.loc[:, 'max_speed'] = 30\n",
        "df"
      ],
      "execution_count": 61,
      "outputs": [
        {
          "output_type": "execute_result",
          "data": {
            "text/html": [
              "<div>\n",
              "<style scoped>\n",
              "    .dataframe tbody tr th:only-of-type {\n",
              "        vertical-align: middle;\n",
              "    }\n",
              "\n",
              "    .dataframe tbody tr th {\n",
              "        vertical-align: top;\n",
              "    }\n",
              "\n",
              "    .dataframe thead th {\n",
              "        text-align: right;\n",
              "    }\n",
              "</style>\n",
              "<table border=\"1\" class=\"dataframe\">\n",
              "  <thead>\n",
              "    <tr style=\"text-align: right;\">\n",
              "      <th></th>\n",
              "      <th>max_speed</th>\n",
              "      <th>shield</th>\n",
              "    </tr>\n",
              "  </thead>\n",
              "  <tbody>\n",
              "    <tr>\n",
              "      <th>cobra</th>\n",
              "      <td>30</td>\n",
              "      <td>10</td>\n",
              "    </tr>\n",
              "    <tr>\n",
              "      <th>viper</th>\n",
              "      <td>30</td>\n",
              "      <td>50</td>\n",
              "    </tr>\n",
              "    <tr>\n",
              "      <th>sidewinder</th>\n",
              "      <td>30</td>\n",
              "      <td>50</td>\n",
              "    </tr>\n",
              "  </tbody>\n",
              "</table>\n",
              "</div>"
            ],
            "text/plain": [
              "            max_speed  shield\n",
              "cobra              30      10\n",
              "viper              30      50\n",
              "sidewinder         30      50"
            ]
          },
          "metadata": {
            "tags": []
          },
          "execution_count": 61
        }
      ]
    },
    {
      "cell_type": "code",
      "metadata": {
        "id": "8a8aez9GjJEk",
        "colab_type": "code",
        "colab": {
          "base_uri": "https://localhost:8080/",
          "height": 142
        },
        "outputId": "cbe7dd68-9621-468a-9034-ebf71a9e4c77"
      },
      "source": [
        "#Set value for rows matching callable condition\n",
        "df.loc[df['shield'] > 35] = 0\n",
        "df"
      ],
      "execution_count": 62,
      "outputs": [
        {
          "output_type": "execute_result",
          "data": {
            "text/html": [
              "<div>\n",
              "<style scoped>\n",
              "    .dataframe tbody tr th:only-of-type {\n",
              "        vertical-align: middle;\n",
              "    }\n",
              "\n",
              "    .dataframe tbody tr th {\n",
              "        vertical-align: top;\n",
              "    }\n",
              "\n",
              "    .dataframe thead th {\n",
              "        text-align: right;\n",
              "    }\n",
              "</style>\n",
              "<table border=\"1\" class=\"dataframe\">\n",
              "  <thead>\n",
              "    <tr style=\"text-align: right;\">\n",
              "      <th></th>\n",
              "      <th>max_speed</th>\n",
              "      <th>shield</th>\n",
              "    </tr>\n",
              "  </thead>\n",
              "  <tbody>\n",
              "    <tr>\n",
              "      <th>cobra</th>\n",
              "      <td>30</td>\n",
              "      <td>10</td>\n",
              "    </tr>\n",
              "    <tr>\n",
              "      <th>viper</th>\n",
              "      <td>0</td>\n",
              "      <td>0</td>\n",
              "    </tr>\n",
              "    <tr>\n",
              "      <th>sidewinder</th>\n",
              "      <td>0</td>\n",
              "      <td>0</td>\n",
              "    </tr>\n",
              "  </tbody>\n",
              "</table>\n",
              "</div>"
            ],
            "text/plain": [
              "            max_speed  shield\n",
              "cobra              30      10\n",
              "viper               0       0\n",
              "sidewinder          0       0"
            ]
          },
          "metadata": {
            "tags": []
          },
          "execution_count": 62
        }
      ]
    },
    {
      "cell_type": "code",
      "metadata": {
        "id": "LQm5pzB_jd_H",
        "colab_type": "code",
        "colab": {}
      },
      "source": [
        "#Getting values on a DataFrame with an index that has integer labels\n",
        "\n",
        "#Another example using integers for the index"
      ],
      "execution_count": 0,
      "outputs": []
    },
    {
      "cell_type": "code",
      "metadata": {
        "id": "MnGTh_NBjoaZ",
        "colab_type": "code",
        "colab": {
          "base_uri": "https://localhost:8080/",
          "height": 142
        },
        "outputId": "3534c53c-3cec-4738-995e-6007f31641f0"
      },
      "source": [
        "df = pd.DataFrame([[1, 2], [4, 5], [7, 8]],\n",
        "index=[7, 8, 9], columns=['max_speed', 'shield'])\n",
        "df"
      ],
      "execution_count": 64,
      "outputs": [
        {
          "output_type": "execute_result",
          "data": {
            "text/html": [
              "<div>\n",
              "<style scoped>\n",
              "    .dataframe tbody tr th:only-of-type {\n",
              "        vertical-align: middle;\n",
              "    }\n",
              "\n",
              "    .dataframe tbody tr th {\n",
              "        vertical-align: top;\n",
              "    }\n",
              "\n",
              "    .dataframe thead th {\n",
              "        text-align: right;\n",
              "    }\n",
              "</style>\n",
              "<table border=\"1\" class=\"dataframe\">\n",
              "  <thead>\n",
              "    <tr style=\"text-align: right;\">\n",
              "      <th></th>\n",
              "      <th>max_speed</th>\n",
              "      <th>shield</th>\n",
              "    </tr>\n",
              "  </thead>\n",
              "  <tbody>\n",
              "    <tr>\n",
              "      <th>7</th>\n",
              "      <td>1</td>\n",
              "      <td>2</td>\n",
              "    </tr>\n",
              "    <tr>\n",
              "      <th>8</th>\n",
              "      <td>4</td>\n",
              "      <td>5</td>\n",
              "    </tr>\n",
              "    <tr>\n",
              "      <th>9</th>\n",
              "      <td>7</td>\n",
              "      <td>8</td>\n",
              "    </tr>\n",
              "  </tbody>\n",
              "</table>\n",
              "</div>"
            ],
            "text/plain": [
              "   max_speed  shield\n",
              "7          1       2\n",
              "8          4       5\n",
              "9          7       8"
            ]
          },
          "metadata": {
            "tags": []
          },
          "execution_count": 64
        }
      ]
    },
    {
      "cell_type": "code",
      "metadata": {
        "id": "n-cHwd_njvr6",
        "colab_type": "code",
        "colab": {
          "base_uri": "https://localhost:8080/",
          "height": 142
        },
        "outputId": "9159c2d2-9682-4c49-cc5d-04ef22419ef7"
      },
      "source": [
        "#Slice with integer labels for rows. As mentioned above, note that both the start and stop of the slice are included.\n",
        "df.loc[7:9]"
      ],
      "execution_count": 65,
      "outputs": [
        {
          "output_type": "execute_result",
          "data": {
            "text/html": [
              "<div>\n",
              "<style scoped>\n",
              "    .dataframe tbody tr th:only-of-type {\n",
              "        vertical-align: middle;\n",
              "    }\n",
              "\n",
              "    .dataframe tbody tr th {\n",
              "        vertical-align: top;\n",
              "    }\n",
              "\n",
              "    .dataframe thead th {\n",
              "        text-align: right;\n",
              "    }\n",
              "</style>\n",
              "<table border=\"1\" class=\"dataframe\">\n",
              "  <thead>\n",
              "    <tr style=\"text-align: right;\">\n",
              "      <th></th>\n",
              "      <th>max_speed</th>\n",
              "      <th>shield</th>\n",
              "    </tr>\n",
              "  </thead>\n",
              "  <tbody>\n",
              "    <tr>\n",
              "      <th>7</th>\n",
              "      <td>1</td>\n",
              "      <td>2</td>\n",
              "    </tr>\n",
              "    <tr>\n",
              "      <th>8</th>\n",
              "      <td>4</td>\n",
              "      <td>5</td>\n",
              "    </tr>\n",
              "    <tr>\n",
              "      <th>9</th>\n",
              "      <td>7</td>\n",
              "      <td>8</td>\n",
              "    </tr>\n",
              "  </tbody>\n",
              "</table>\n",
              "</div>"
            ],
            "text/plain": [
              "   max_speed  shield\n",
              "7          1       2\n",
              "8          4       5\n",
              "9          7       8"
            ]
          },
          "metadata": {
            "tags": []
          },
          "execution_count": 65
        }
      ]
    },
    {
      "cell_type": "code",
      "metadata": {
        "id": "Zu9O3wInj6r7",
        "colab_type": "code",
        "colab": {}
      },
      "source": [
        "#Getting values with a MultiIndex\n",
        "\n",
        "#A number of examples using a DataFrame with a MultiIndex"
      ],
      "execution_count": 0,
      "outputs": []
    },
    {
      "cell_type": "code",
      "metadata": {
        "id": "2wcGEiw6kaXl",
        "colab_type": "code",
        "colab": {}
      },
      "source": [
        "tuples = [\n",
        "('cobra', 'mark i'), ('cobra', 'mark ii'),\n",
        "('sidewinder', 'mark i'), ('sidewinder', 'mark ii'),\n",
        "('viper', 'mark ii'), ('viper', 'mark iii')\n",
        "    ]\n",
        "index = pd.MultiIndex.from_tuples(tuples)\n",
        "values = [[12, 2], [0, 4], [10, 20],\n",
        "      [1, 4], [7, 1], [16, 36]]\n",
        "df = pd.DataFrame(values, columns=['max_speed', 'shield'], index=index)\n",
        "df"
      ],
      "execution_count": 0,
      "outputs": []
    },
    {
      "cell_type": "code",
      "metadata": {
        "id": "OfUBqGoQlEGY",
        "colab_type": "code",
        "colab": {}
      },
      "source": [
        ""
      ],
      "execution_count": 0,
      "outputs": []
    }
  ]
}